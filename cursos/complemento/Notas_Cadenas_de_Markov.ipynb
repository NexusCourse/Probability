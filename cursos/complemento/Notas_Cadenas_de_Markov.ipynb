{
  "nbformat": 4,
  "nbformat_minor": 0,
  "metadata": {
    "colab": {
      "provenance": []
    },
    "kernelspec": {
      "name": "python3",
      "display_name": "Python 3"
    },
    "language_info": {
      "name": "python"
    }
  },
  "cells": [
    {
      "cell_type": "markdown",
      "source": [
        "# **Procesos Estocasticos I con Análisis Computacional**"
      ],
      "metadata": {
        "id": "kSgKt_1ZQbtq"
      }
    },
    {
      "cell_type": "markdown",
      "source": [
        "*Escrito por: Manuel Montes y Morales*"
      ],
      "metadata": {
        "id": "M3nCa0Y9yYIe"
      }
    },
    {
      "cell_type": "markdown",
      "source": [
        "Problemas para después:\n",
        "\n",
        "https://codeforces.com/blog/entry/47423"
      ],
      "metadata": {
        "id": "-w9AcoNfMvzG"
      }
    },
    {
      "cell_type": "markdown",
      "source": [
        "<p align=\"justify\"> Nota al lector:\n",
        "\n",
        "<p align=\"justify\"> Estas notas están pensadas para ser un complemento y recopilatorio de las técnicas vistas en el curso de procesos estocásticos I, sin embargo, el enfoque será mucho más concentrado en el ámbito computacional y de programación de los algoritmos, asumiendo la mayor parte de la teoría ha sido cubierta en el curso.\n",
        "\n",
        "<p align=\"justify\"> Aunado a ello, se integrarán algunos ejercicios pensados para programarse, en donde no sólo la teoría si no el modelado de problemas serán de importancia.\n",
        "\n",
        "<p align=\"justify\"> Sin más preambulo comencemos por explorar el comportamiento de un tipo de procesos estocásticos que cuentan con una propiedad en extremo útil, las cadenas de Markov.\n",
        "\n",
        "---\n",
        "\n"
      ],
      "metadata": {
        "id": "qmuHW4xwQ1IG"
      }
    },
    {
      "cell_type": "markdown",
      "source": [
        "$\\textbf{Breve nota acerca de la complejidad de tiempo}$\n",
        "\n",
        "<p align=\"justify\"> En las secciones por venir iremos analizando la complejidad en tiempo de los algoritmos que vayamos desarrollando para el cálculo de probabilidades y propiedades en cadenas de Markov, por lo que es importante tomar en cuenta las operaciones que se tomarán en cuenta como básicas serán todas las de la aritmética elemental.\n",
        "\n",
        "<p align=\"justify\"> Como recordatorio, recuerde el análisis de complejidad toma un conjunto de operaciones como básicas para las cuales define su costo en tiempo como constante, $O(1)$. Es decir, nuestro análisis irá entorno a contar la magnitud de la cantidad de éstas operaciones que realiza nuestro algoritmo.\n",
        "\n",
        "<p align=\"justify\"> Sin embargo, observe suponer ciertas operaciones toman un tiempo constante podría ser engañoso ya que a veces éstas podrían tener un costo mucho más elevado en términos de otras. Por ejemplo, asumiremos la multiplicación de números reales toma $O(1)$, cuando en la práctica sabemos el algoritmo más eficiente de multiplicación tiene complejidad $O(n\\log(n))$ donde $n$ es  la cantidad de dígitos del número y las operaciones básicas son la suma y la multiplicación de dígitos.\n",
        "\n",
        "<p align=\"justify\"> Por supuesto, la cantidad de dígitos podría llegar a ser relativamente pequeña durante todo el proceso y por tanto ser este costo despreciable. Pero en lo posterior tenemos que recordar trabajaremos con probabilidades, las cuales pueden rápidamente conventirse en números extremadamente pequeños al preguntarnos por probabilidades en tiempos relativamente cortos. Por lo tanto en lo subsecuente hay que considerar las complejidades corren el riesgo de en la práctica ser más lentas en un factor de $n\\log(n)$.\n",
        "\n",
        "---"
      ],
      "metadata": {
        "id": "8t1b8hKirkCF"
      }
    },
    {
      "cell_type": "markdown",
      "source": [
        "# Indroducción a las Cadenas de Markov"
      ],
      "metadata": {
        "id": "v7lC8sCvQk6a"
      }
    },
    {
      "cell_type": "markdown",
      "source": [
        "<p align=\"justify\"> Lo que nos interesa estudiar son cadenas de variables aleatorias $X_{0}, X_{1}, \\cdots, X_{n}$, donde la pregunta fundamental es el predecir dada la historia de la cadena, con qué probabilidad podríamos observar un suceso para la variable aleatoria $X_{n+1}$. Sin embargo, esto puede volverse en extremo complicado de hacer ya que $X_{n+1}$ podría tener una fuerte dependencia con las variables previas, haciendo que expresar dicho entrelazamiento se nos haga inmanejable.\n",
        "\n",
        "<p align=\"justify\"> Note las cadenas de las cuales hablamos, tal como sugiere la notación ($X_{0}, X_{1}, \\cdots, X_{n}$), son a tiempo discreto, es decir las variables aleatorias deben estar indexadas en el conjunto $T = \\{0,1,2, \\cdots\\}$. Y además, para simplificar aún más el comportamiento, se supondrá las variables aleatorias comparten un espacio de estados discreto, $S \\subset \\mathbb{Z}$.\n",
        "\n",
        "<p align=\"justify\"> Es en esta problemática en donde las cadenas de Markov proponen una simplificación entre la dependencia de los eventos del pasado y el evento del presente, considerando cada evento de alguna manera ya encapsula toda la historia que lo llevó a suceder o que simplemente el evento del presente sólo depende de observar lo que sucedió en el instante inmediatamente previo. En ambos casos la propiedad de Markov asegura la probabilidad de observar un evento en el presente dada la historia será la misma que si sólo se condicionara con la información de la variable anterior. En notación:\n",
        "\n",
        "<p align=\"center\"> $P(X_{n+1} = y | X_{0} = x_{0}, X_{1} = x_{1}, \\cdots, X_{n} = x_{n}) = P(X_{n+1} = y | X_{n} = x_{n})$\n",
        "\n",
        "<p align=\"justify\"> Donde $x_{0}, x_{1}, \\cdots, x_{n}, y$ son realizaciones de sus variables aleatorias respectivamente y pertenecen a $S$.\n",
        "\n",
        "<p align=\"justify\"> Ahora bien, note que la fuerza de dicha propiedad es que si estamos en un estado $A$, entonces la probabilidad de transitar en el siguiente paso al estado $B$ será siempre la misma sin importar en que momento nos encontremos.\n",
        "\n",
        "<p align=\"justify\"> Esto significa podemos concentrarnos en averiguar todas las probabilidades de transición de un estado a otro $p(x,y)$, $x,y \\in S$ y con ellas describir toda la dinámica de la cadena.\n",
        "\n",
        "<p align=\"justify\"> Sólo por comparación, note que si nuestro espacio de estados es $\\{0,1,2\\}$ entonces sólo será necesario que encontremos las $3^{2}$ parejas de posibles transiciones donde una pareja $(x,y)$ representa $P(X_{n+1} = y | X_{n} = x)$. Mientras que si no se cumpliera la propiedad de Markov entonces en general podríamos tener probabilidades de transición de longitud arbitraria, es decir $(0, 1, 1, 2)$ podría tener una probabilidad distinta de $(1,2)$ e incluso que $(1,0,1,2)$ a pesar es de la misma longitud y presenta los mismos estados sólo que en distinto orden.\n",
        "\n",
        "<p align=\"justify\"> Observe la representación en probabilidad condicional de éstas últimas es:\n",
        "\n",
        "<p align=\"center\"> $P(X_{3} = 2 | X_{0} = 0, X_{1} = 1, X_{2} = 1)$\n",
        "<p align=\"center\"> $P(X_{1} = 2 | X_{0} = 1)$\n",
        "<p align=\"center\"> $P(X_{3} = 2 | X_{0} = 1, X_{1} = 0, X_{2} = 1)$\n",
        "\n",
        "<p align=\"justify\"> respectivamente. Además, note no necesariamente nos será posible escribirlas en general como $P(X_{n + 3} = 2 | X_{n} = 0, X_{n+1} = 1, X_{n+2} = 1)$ ya que esto significaría el estado actual sólo depende de los tres previos pero de haber más historia podría ser dependiera de ésta igual."
      ],
      "metadata": {
        "id": "m6CqVeQrDyNo"
      }
    },
    {
      "cell_type": "markdown",
      "source": [
        "<p align=\"justify\"> Visualmente, la propiedad de Markov tiene que ver con un efecto recursivo o de fractal en el espacio medible. Donde la distribución inicial de los estados para la variable $X_{0}$ es arbitraria, pero una vez dentro de cualquier estado, la distribución de los estados (no necesariamente la inicial) se vuelve repetitiva.\n",
        "\n",
        "<p align=\"justify\"> De forma gráfica esto lo podemos representar como una partición del espacio en $n$ clases; donde $n$ es el número de estados y a cada uno se le asigna una medida arbitraria. Posterior a ello, cada una de las clases será nuevamente particionada en $n$ sub-clases, donde cada sub-clase tendrá la misma medida cada que parta a una clase proveniente del mismo estado. Y así se seguirá particionando, ahora tomado sub-sub-clases, recursivamente."
      ],
      "metadata": {
        "id": "Z_ZgtQGpOg81"
      }
    },
    {
      "cell_type": "markdown",
      "source": [
        "<figure>\n",
        "<center>\n",
        "<img src=\"https://github.com/ManuelMontesyMorales/Servicio-Social/blob/main/Image_1.jpeg?raw=true\" width = 300/>\n",
        "<figcaption>Ejemplo de una partición con tres pasos recursivos</figcaption></center>\n",
        "</figure>"
      ],
      "metadata": {
        "id": "J7SfuV9MxxXb"
      }
    },
    {
      "cell_type": "markdown",
      "source": [
        "<p align=\"justify\"> En la siguiente imagen simplificamos un poco la partición mostrada arriba y asignamos colores a cada clase para su mejor distinción. El espacio de estados es $T = \\{0, 1, 2\\}$ y se les asignan a cada uno los colores rojo, azul y verde, respectivamente."
      ],
      "metadata": {
        "id": "YX2Ar9_fSJnj"
      }
    },
    {
      "cell_type": "markdown",
      "source": [
        "<figure>\n",
        "<center>\n",
        "<img src=\"https://github.com/ManuelMontesyMorales/Servicio-Social/blob/main/Image_2.jpeg?raw=true\" width = 300/>\n",
        "<figcaption></figcaption></center>\n",
        "</figure>"
      ],
      "metadata": {
        "id": "sNMg1lE7Sva9"
      }
    },
    {
      "cell_type": "markdown",
      "source": [
        "# Representación de una cadena de Markov"
      ],
      "metadata": {
        "id": "BK8wg8XaTbu3"
      }
    },
    {
      "cell_type": "markdown",
      "source": [
        "<p align=\"justify\"> Como mencionábamos anteriormente, la propiedad de Markov ayuda enormente a simplificar la dinámica de una cadena, haciendo necesario solamente recordar las $n^{2}$ posibles transiciones entre los $n$ estados. Los cuales, por conveniencia, guardaremos por ahora en una matriz, aunque hasta el momento dicha matriz no será más que un contenedor para almacenarlas y accesarlas de forma eficiente.\n",
        "\n",
        "<p align=\"justify\"> A esta matriz le llamamos la matriz de transición de la cadena.\n",
        "\n",
        "\\begin{equation*}\n",
        "P = \\begin{pmatrix}\n",
        "p(0,0) & p(0,1) & \\cdots & p(0,n)\\\\\n",
        "p(1,0) & p(1,1) & \\cdots & p(1,n)\\\\\n",
        "\\vdots & \\vdots & \\cdots & \\vdots\\\\\n",
        "p(n,0) & p(n,1) & \\cdots & p(n,n)\n",
        "\\end{pmatrix}\n",
        "\\end{equation*}"
      ],
      "metadata": {
        "id": "E4jNS33xTqt_"
      }
    },
    {
      "cell_type": "markdown",
      "source": [
        "<p align=\"justify\">  Nótese a pesar ya tenemos algo de información que describe a una cadena de Markov, nuestra visualización en el espacio de eventos no es muy conveniente a la hora de querer programarla ni a la hora de querer transitar en ella con fluidez.\n",
        "\n",
        "<p align=\"justify\">  Por ejemplo, si quisieramos describir eventos como lo podría ser $(X_{0}= 2, X_{1} = 2, X_{2} = 0)$ usando nuestra representación actual, la manera más sencilla de modelar la toma de decisiones en cada variable aleatoria, sería a partir de un árbol."
      ],
      "metadata": {
        "id": "Scb681vl4B99"
      }
    },
    {
      "cell_type": "markdown",
      "source": [
        "<figure>\n",
        "<center>\n",
        "<img src=\"https://github.com/ManuelMontesyMorales/Servicio-Social/blob/main/Image_3.jpeg?raw=true\" width = 600/>\n",
        "<figcaption></figcaption></center>\n",
        "</figure>"
      ],
      "metadata": {
        "id": "F3OVbUWS6jPC"
      }
    },
    {
      "cell_type": "markdown",
      "source": [
        "<p align=\"justify\"> En este caso, podemos observar el árbol que se generaría suponiendo $X_{0}= 2$. Una vez fija la raíz, los hijos de un nodo en el árbol simbolizan su partición en sub-clases, correspondientes a cada estado, donde cada arista está pesada con su respectiva probabilidad de transición $p(x,y)$. Además, note la profundidad $d$ de cada nivel del árbol simboliza las elecciones para la variable aleatoria $X_{d}$.\n",
        "\n",
        "<p align=\"justify\"> En este modelo de la cadena, podemos ahora ver representado al evento $(X_{0} = 2, X_{1} = 2, X_{2} = 0)$ como el camino en el árbol que satisface las tres condiciones."
      ],
      "metadata": {
        "id": "w2hA8J0O63Id"
      }
    },
    {
      "cell_type": "markdown",
      "source": [
        "<figure>\n",
        "<center>\n",
        "<img src=\"https://github.com/ManuelMontesyMorales/Servicio-Social/blob/main/Image_4.jpeg?raw=true\" width = 600/>\n",
        "<figcaption></figcaption></center>\n",
        "</figure>"
      ],
      "metadata": {
        "id": "4KtlpZwj8Vik"
      }
    },
    {
      "cell_type": "markdown",
      "source": [
        "<p align=\"justify\"> Volviendo a la visualización en el espacio de estados, dicho camino puede ser visto como el irse adentrando en sub-clases."
      ],
      "metadata": {
        "id": "FqrrNquw-97c"
      }
    },
    {
      "cell_type": "markdown",
      "source": [
        "<figure>\n",
        "<center>\n",
        "<img src=\"https://github.com/ManuelMontesyMorales/Servicio-Social/blob/main/Image_5.jpeg?raw=true\" width = 300/>\n",
        "<figcaption></figcaption></center>\n",
        "</figure>"
      ],
      "metadata": {
        "id": "eyNNLN_f_LTk"
      }
    },
    {
      "cell_type": "markdown",
      "source": [
        "<p align=\"justify\"> Aquí hay algo importante a destacar sobre el modelo. Observe que los nodos no están representando el evento de estar en ellos en un cierto tiempo, es decir, el nodo con la etiqueta $0$ al que llegamos en la imagen anterior, no representa al evento $(X_{2} = 0)$ el cual se vería representado por los tres caminos que llevan al estado $0$ en la profundidad 2. En este diagrama cada nodo describe un evento conformado por una única elección de estados para cada variable aleatoria en el camino.\n",
        "\n",
        "<p align=\"justify\"> En otras palabras, los estados que se desprenden como hijos de distintos nodos están siendo reconocidos como esencialmente estados distintos. En la siguiente imagen podemos apreciar no es lo mismo estar en un estado 0 que en otro, a pesar también es el estado 0."
      ],
      "metadata": {
        "id": "Lqe5O_OO86_C"
      }
    },
    {
      "cell_type": "markdown",
      "source": [
        "<figure>\n",
        "<center>\n",
        "<img src=\"https://github.com/ManuelMontesyMorales/Servicio-Social/blob/main/Image_6.jpeg?raw=true\" width = 600/>\n",
        "<figcaption></figcaption></center>\n",
        "</figure>"
      ],
      "metadata": {
        "id": "gj7eTzY5_adD"
      }
    },
    {
      "cell_type": "markdown",
      "source": [
        "<p align=\"justify\"> Todo ello tiene sentido pues los estados 0 en verdad no estaban representando el mismo objeto, son pedazos de la partición diferentes. Sin embargo, nos preguntamos si no habrá una manera de aprovechar la repetición de estados y de probabilidades de transición para compactar el grafo.\n",
        "\n",
        "<p align=\"justify\"> Para ello nos aprovechamos fuertemente de la propiedad de Markov para poder condensar todo en un grafo dirigido con solamente $n$ nodos."
      ],
      "metadata": {
        "id": "W0t9fYcj_h-u"
      }
    },
    {
      "cell_type": "markdown",
      "source": [
        "<figure>\n",
        "<center>\n",
        "<img src=\"https://github.com/ManuelMontesyMorales/Servicio-Social/blob/main/Image_11.jpeg?raw=true\" width = 400/>\n",
        "<figcaption></figcaption></center>\n",
        "</figure>"
      ],
      "metadata": {
        "id": "SxP35hBvA7p4"
      }
    },
    {
      "cell_type": "markdown",
      "source": [
        "<p align=\"justify\"> Observe mientras transitamos el grafo vamos precisamente obteniendo la misma perspectiva que cuando alcanzábamos ese mismo estado en nuestro modelo anterior. Moverse en este grafo es igual a moverse en el árbol."
      ],
      "metadata": {
        "id": "zCNvle1VBQf_"
      }
    },
    {
      "cell_type": "markdown",
      "source": [
        "<p align=\"justify\"> Ahora bien, explicaremos como implementar en Python un grafo dirigido, el cual en particular modelará por lo anterior descrito, una cadena de Markov.\n",
        "\n",
        "<p align=\"justify\"> Lo primero que haremos será crear una estructura de lo que será un nodo en nuestro grafo. ¿Para qué hacemos ésto? Bueno, esto lo hacemos porque queremos que cada nodo sea un objeto que guarde información sobre si mismo y que además pueda interactuar y ejecutar funciones (esto lo explicaremos a más adelante).\n",
        "\n",
        "<p align=\"justify\"> Antes de seguir, es importante destacar no es estrictamente necesario trabajar con objetos y podríamos emplear solamente la matriz de transiciones a lo cual se le conoce como representación de un grafo por su matriz de adyacencia, sin embargo, lo que implementaremos será su representación por listas de adyacencia.\n",
        "\n",
        "<p align=\"justify\"> En esta representación del grafo lo que se hace es que cada nodo sólo será conciente de aquellos nodos a los que sí puede transitar, en nuestro contexto, aquellos con los que tiene probabilidad de transición distinta de 0. La ventaja de ésta implementación la analizaremos con detalle en un ejemplo más adelante pero la idea es que no transitemos o consideremos caminos innecesarios.\n",
        "\n",
        "\n"
      ],
      "metadata": {
        "id": "PoXgKhtxB7z1"
      }
    },
    {
      "cell_type": "markdown",
      "source": [
        "<p align=\"justify\"> La forma en que construiremos nuestro objeto de nodo será la siguiente:\n",
        "\n",
        "<p align=\"justify\"> Primero que nada, a cada nodo le asignaremos un ID o nombre, en nuestro contexto, el nombre o valor del estado que representa.\n",
        "\n",
        "<p align=\"justify\"> Después, le asignaremos un atributo correspondiente a su lista de hijos o dicho de otra forma, su lista de ID's de los nodos a los que puede transicionar (nótese sólo es el nombre de éstos y no la probabilidad que tiene de transicionar en ellos). Aunado a ésto, para fácil consulta, le agregaremos un atributo que cuente cuantos hijos tiene.\n",
        "\n",
        "<p align=\"justify\"> Finalmente, le añadiremos un método (el cual es una función el objeto será capaz de utilizar) que le permita añadir hijos a su lista y contarlos."
      ],
      "metadata": {
        "id": "RpqRUqFhFRNb"
      }
    },
    {
      "cell_type": "code",
      "source": [
        "class state():\n",
        "    def __init__(self, name):\n",
        "        self.name = name\n",
        "        self.children = []\n",
        "        self.n_children = 0\n",
        "\n",
        "    def add_child(self, child):\n",
        "        self.children.append(child)\n",
        "        self.n_children += 1"
      ],
      "metadata": {
        "id": "XNYnZH_Bi6Jb"
      },
      "execution_count": null,
      "outputs": []
    },
    {
      "cell_type": "markdown",
      "source": [
        "<p align=\"justify\"> Una vez tenemos nuestros objectos que actuarán como nodos, podemos pasar a hacer una función que cree el grafo para nuestra cadena de Markov. Para ello le daremos los siguientes valores:\n",
        "\n",
        "\n",
        "\n",
        "1.   La cantidad de estados\n",
        "2.   La distribución inicial para $X_{0}$\n",
        "3. La matriz de transición\n",
        "\n",
        "<p align=\"justify\"> La manera en la que recibiremos la distribución inicial será con el siguiente formato, en una línea escribiremos las probabilidades $X_{0} = y$ donde $y \\in T$ separadas por espacios.\n",
        "\n",
        "<p align=\"justify\"> Y para la matriz de transición usaremos el mismo formato para dar cada fila de la matriz.\n",
        "\n",
        "<p align=\"justify\"> En cuanto al código, note la variable states es una lista que guarda tantos objetos nodo como estados en nuestra cadena, asignándoles su nombre pero dejando sus listas de hijos vacías.\n",
        "\n",
        "<p align=\"justify\"> Posteriormente, cuando se recibe la matriz, si el valor en una entrada de la matriz es no negativo se añade el hijo al nodo que corresponde usando el método de nuestro objeto nodo para agregarse hijos.\n",
        "\n",
        "\n"
      ],
      "metadata": {
        "id": "ONxrqdKbHQ6o"
      }
    },
    {
      "cell_type": "code",
      "source": [
        "def initialize_chain():\n",
        "    n_states = int(input(\"Da la cantidad de estados: \"))\n",
        "    states = [state(i) for i in range(n_states)]\n",
        "\n",
        "    print(\"Da la distribucón inicial:\")\n",
        "\n",
        "    initial_dist = list(map(float, input().split()))\n",
        "\n",
        "    print(\"Da la matriz de transicion:\")\n",
        "\n",
        "    transition_matrix = []\n",
        "\n",
        "    for i in range(n_states):\n",
        "        row = list(map(float, input().split()))\n",
        "        transition_matrix.append(row)\n",
        "\n",
        "        for j in range(n_states):\n",
        "            if row[j] != 0:\n",
        "                states[i].add_child(j)\n",
        "\n",
        "    return n_states, states, initial_dist, transition_matrix"
      ],
      "metadata": {
        "id": "Fs9QdW_okv-R"
      },
      "execution_count": null,
      "outputs": []
    },
    {
      "cell_type": "markdown",
      "source": [
        "## Análisis de Complejidad"
      ],
      "metadata": {
        "id": "tgcWsF15JTUy"
      }
    },
    {
      "cell_type": "markdown",
      "source": [
        "<p align=\"justify\"> Debido a que recibiremos la matriz de transición, la cual tiene $n^{2}$ elementos, la complejidad Big O para la función initialize_chain() es $O(n^{2})$ y esto es algo a tenerse en cuenta para el análisis posterior ya que a pesar tengamos algoritmos quizás lineales para algunas tareas, globalmente no podremos bajar de hacer al menos $n^{2}$ operaciones.\n",
        "\n",
        "<p align=\"justify\"> Aquí cabe destacar nuestra implementación por listas de adjacencia de alguna forma intenta prevenir estemos recurriendo a checar $n^{2}$ posibles transiciones y nos limitemos a trabajar únicamente con lo necesario, es decir las aristas no triviales. En general esto lograría que los algoritmos que recorran el grafo estén en términos de $V$ la cantidad de aristas relevantes y nos de una sensación lineal con respecto a la densidad que hay en el grafo, aunque es posible $V = n^{2}$.\n",
        "\n",
        "<p align=\"justify\"> Sin embargo, posteriormente notaremos la utilidad adicional que trae consigo trabajar con la matriz de transición considerándola como tal una matriz y no sólo como un contenedor. Como veremos más adelante, la complejidad de cómputo de probabilidades no está cerca de ser lineal y por ello sacrificar un costo de inicialización de $n^{2}$ no nos perjudicará."
      ],
      "metadata": {
        "id": "HdyLu5ByJZJv"
      }
    },
    {
      "cell_type": "markdown",
      "source": [
        "# Ejemplo de una Cadena de Markov"
      ],
      "metadata": {
        "id": "3xzGqOLxJBYd"
      }
    },
    {
      "cell_type": "markdown",
      "source": [
        "<p align=\"justify\"> Veamos ahora un ejemplo de una cadena de Markov con tan sólo dos estados y usemos nuestro código para crear su grafo.\n",
        "\n"
      ],
      "metadata": {
        "id": "RZLXutZHVwK9"
      }
    },
    {
      "cell_type": "markdown",
      "source": [
        "<p align=\"justify\"> Supóngase en una fábrica se tiene una máquina que puede estar ya sea funcionando o descompuesta, cuyo estado se ha observado solamente depende de si funcionaba o no el día anterior. Actualmente la máquina está funcionando y la fábrica ha estimado la probabilidad siga funcionando si estaba funcionando es de 0.3, mientras que la probabilidad funcione tras haber estado descompuesta es de 0.4.\n",
        "\n",
        "<p align=\"justify\"> De esta situación nos es fácil encontrar el espacio de estados y la distribución inicial para la variable aleatoria $X_{0}$. Para el primero decidiremos modelarlo como $S = \\{0, 1\\}$; donde 0 representa descompuesta y 1 funcionando. Y para obtener la distribución inicial sólo hace falta notar nos dieron por seguro la máquina está en el estado 1 al tiempo 0, es decir $X_{0} = (0, 1)$ es la dist. inicial.\n",
        "\n",
        "<p align=\"justify\">Ahora bien, para hallar la matriz de transición nos apoyaremos de un hecho que no hemos destacado hasta ahora y es que la acumulación de las probabilidades de transicionar de un estado fijo a cualquier otro, debe dar 1. Note ésto tiene sentido ya que como dijimos antes, los estados particionan a cada estado. Analíticamente tenemos:\n",
        "\n",
        "\\begin{align*}\n",
        "\\sum_{y \\in S} p(x,y) &=  \\sum_{y \\in S} P(X_{t+1} = y | X_{t} = x) \\\\\n",
        "&= P(\\bigcup_{y \\in S}(\\{X_{t+1} = y | X_{t} = x) \\\\\n",
        "&= P(Ω | X_{t} = x) = 1\n",
        "\\end{align*}\n",
        "\n",
        "<p align=\"justify\"> De ello podemos inferir la probabilidad de funcionar se descomponga es 0.7 y de estar descompuesta seguirlo estando es 0.6.\n",
        "\n",
        "\\begin{equation*}\n",
        "P = \\begin{pmatrix}\n",
        "0.6 & 0.4 \\\\\n",
        "0.7 & 0.3\n",
        "\\end{pmatrix}\n",
        "\\end{equation*}"
      ],
      "metadata": {
        "id": "1gZ1L78nJhSy"
      }
    },
    {
      "cell_type": "markdown",
      "source": [
        "<figure>\n",
        "<center>\n",
        "<img src=\"https://github.com/ManuelMontesyMorales/Servicio-Social/blob/main/Image_12.jpeg?raw=true\" width = 450/>\n",
        "<figcaption></figcaption>Grafo de la cadena del ejemplo de la máquina</center>\n",
        "</figure>"
      ],
      "metadata": {
        "id": "IGj4eGVtPN_d"
      }
    },
    {
      "cell_type": "code",
      "source": [
        "n_states, states, initial_dist, transition_matrix = initialize_chain()"
      ],
      "metadata": {
        "colab": {
          "base_uri": "https://localhost:8080/"
        },
        "id": "yyIUP3L4i9MF",
        "outputId": "3a99439f-7c94-4275-e81f-6a343436fb58"
      },
      "execution_count": null,
      "outputs": [
        {
          "name": "stdout",
          "output_type": "stream",
          "text": [
            "Da la cantidad de estados: 2\n",
            "Da la distribucón inicial:\n",
            "0 1\n",
            "Da la matriz de transicion:\n",
            "0.6 0.4\n",
            "0.7 0.3\n"
          ]
        }
      ]
    },
    {
      "cell_type": "markdown",
      "source": [
        "<p align=\"justify\"> Para visualizar la estructura del grafo creado, imprimiremos la información de los dos objetos nodos que hay en este caso."
      ],
      "metadata": {
        "id": "VGTGJ9FgHAUg"
      }
    },
    {
      "cell_type": "code",
      "source": [
        "def print_information_states(states):\n",
        "    for node in states:\n",
        "      print(\"Estado: \", node.name)\n",
        "      print(\"Puede transicionar a \", node.n_children, \"estados: \", node.children)\n",
        "    return"
      ],
      "metadata": {
        "id": "lS5OPrkfIG5c"
      },
      "execution_count": null,
      "outputs": []
    },
    {
      "cell_type": "code",
      "source": [
        "print_information_states(states)"
      ],
      "metadata": {
        "colab": {
          "base_uri": "https://localhost:8080/"
        },
        "id": "p_6mXkuYJiyW",
        "outputId": "60665da7-adbe-4d69-d8a1-1b8a5c97f784"
      },
      "execution_count": null,
      "outputs": [
        {
          "output_type": "stream",
          "name": "stdout",
          "text": [
            "Estado:  0\n",
            "Puede transicionar a  2 estados:  [0, 1]\n",
            "Estado:  1\n",
            "Puede transicionar a  2 estados:  [0, 1]\n"
          ]
        }
      ]
    },
    {
      "cell_type": "markdown",
      "source": [
        "<p align=\"justify\"> Como otro ejemplo en el que el grafo no sea tan simple, podemos tomar el siguiente, en el cual diremos su dist. inicial es $X_{0} = (0, 0, 0, 0, 0.5, 0, 0, 0, 0.5)$:"
      ],
      "metadata": {
        "id": "dqbsu_UKI7xe"
      }
    },
    {
      "cell_type": "markdown",
      "source": [
        "<figure>\n",
        "<center>\n",
        "<img src=\"https://github.com/ManuelMontesyMorales/Servicio-Social/blob/main/Image_13.jpeg?raw=true\" width = 450/>\n",
        "<figcaption></figcaption>Grafo de una cadena de Markov</center>\n",
        "</figure>"
      ],
      "metadata": {
        "id": "rnRACI9SPSVw"
      }
    },
    {
      "cell_type": "code",
      "source": [
        "n_states, states, initial_dist, transition_matrix = initialize_chain()"
      ],
      "metadata": {
        "colab": {
          "base_uri": "https://localhost:8080/"
        },
        "id": "8piTagqgUWJk",
        "outputId": "5a29d712-2d47-4f90-f1b4-f0a0396e7959"
      },
      "execution_count": null,
      "outputs": [
        {
          "name": "stdout",
          "output_type": "stream",
          "text": [
            "Da la cantidad de estados: 9\n",
            "Da la distribucón inicial:\n",
            "0 0 0 0 0.5 0 0 0 0.5\n",
            "Da la matriz de transicion:\n",
            "0 1 0 0 0 0 0 0 0\n",
            "1 0 0 0 0 0 0 0 0\n",
            "0.25 0 0.25 0 0 0 0.25 0.25 0\n",
            "0 0 0 0.4 0 0 0.3 0.3 0\n",
            "0 0 0 0 0 0.4 0 0.3 0.3\n",
            "0 0 0 0 0.5 0.5 0 0 0\n",
            "0 0 0 0 0 0 1 0 0\n",
            "0 0 0 0 0 0 0 1 0\n",
            "0 0 0 0 1 0 0 0 0\n"
          ]
        }
      ]
    },
    {
      "cell_type": "code",
      "source": [
        "print_information_states(states)"
      ],
      "metadata": {
        "colab": {
          "base_uri": "https://localhost:8080/"
        },
        "id": "RpTXHj9aYCS7",
        "outputId": "05052abf-0e37-4949-c5d5-83808bb00a4e"
      },
      "execution_count": null,
      "outputs": [
        {
          "output_type": "stream",
          "name": "stdout",
          "text": [
            "Estado:  0\n",
            "Puede transicionar a  1 estados:  [1]\n",
            "Estado:  1\n",
            "Puede transicionar a  1 estados:  [0]\n",
            "Estado:  2\n",
            "Puede transicionar a  4 estados:  [0, 2, 6, 7]\n",
            "Estado:  3\n",
            "Puede transicionar a  3 estados:  [3, 6, 7]\n",
            "Estado:  4\n",
            "Puede transicionar a  3 estados:  [5, 7, 8]\n",
            "Estado:  5\n",
            "Puede transicionar a  2 estados:  [4, 5]\n",
            "Estado:  6\n",
            "Puede transicionar a  1 estados:  [6]\n",
            "Estado:  7\n",
            "Puede transicionar a  1 estados:  [7]\n",
            "Estado:  8\n",
            "Puede transicionar a  1 estados:  [4]\n"
          ]
        }
      ]
    },
    {
      "cell_type": "markdown",
      "source": [
        "# Calculando Probabilidades de Eventos"
      ],
      "metadata": {
        "id": "cr50PfZ6yPlI"
      }
    },
    {
      "cell_type": "markdown",
      "source": [
        "<p align=\"justify\"> Ahora que hemos entendido mejor la estructura y modelo para una cadena de Markov, estamos listos para preguntarnos por nuestra tarea principal, la probabilidad de eventos."
      ],
      "metadata": {
        "id": "e0S8cWQeZ_Oo"
      }
    },
    {
      "cell_type": "markdown",
      "source": [
        "<p align=\"justify\"> Por ejemplo, ¿cuál sería la probabilidad del evento $(X_{0} = x_{0}, X_{1} = x_{1})$?\n",
        "\n",
        "<p align=\"justify\"> Para responder a esa pregunta, será mejor observar un caso particular para el cual supondremos el espacio de estados es $S = \\{0, 1, 2\\}$. Gráficamente, ¿Cómo observaríamos al evento $(X_{0} = 2, X_{1} = 0)$?\n",
        "\n",
        "<p align=\"justify\"> Recuérdese nuestro modelo ya no es un árbol sino un grafo dirigido en general. Sin embargo, podemos observar las distintas elecciones para las variables aleatorias ordenándolas por profundidad y mostrando las distintas conexiones disponibles de cada nodo. Básicamente estamos elaborando un grafo que nos facilite observar caminos en nuestro grafo de la cadena. A continuación se ilustra este grafo para nuestra cadena con tres estados y hasta el tiempo 3.\n"
      ],
      "metadata": {
        "id": "49zYYeeZebnL"
      }
    },
    {
      "cell_type": "markdown",
      "source": [
        "<figure>\n",
        "<center>\n",
        "<img src=\"https://github.com/ManuelMontesyMorales/Servicio-Social/blob/main/Image_14.jpeg?raw=true\" width = 450/>\n",
        "<figcaption></figcaption>Grafo de los caminos en una cadena de Markov</center>\n",
        "</figure>"
      ],
      "metadata": {
        "id": "ZB7XK-8QyG1d"
      }
    },
    {
      "cell_type": "markdown",
      "source": [
        "<p align=\"justify\"> Es en este grafo que podemos ver representado a nuestro evento."
      ],
      "metadata": {
        "id": "kcVutjto0DNO"
      }
    },
    {
      "cell_type": "markdown",
      "source": [
        "<figure>\n",
        "<center>\n",
        "<img src=\"https://github.com/ManuelMontesyMorales/Servicio-Social/blob/main/Image_15.jpeg?raw=true\" width = 400/>\n",
        "<figcaption></figcaption>Evento $(X_{0} = x_{0}, X_{1} = x_{1})$</center>\n",
        "</figure>"
      ],
      "metadata": {
        "id": "iP5dE7vG0L0q"
      }
    },
    {
      "cell_type": "markdown",
      "source": [
        "<p align=\"justify\"> A través de este diagrama es que pensamos la probabilidad del evento debería ser la probabilidad $X_{0} = 2$ multiplicado por la probabilidad de transicionar del estado 2 al 0.\n",
        "\n",
        "<p align=\"justify\"> Algebráicamente, denotando por $Π_{0}$ al vector de la distribución de la variable $X_{0}$, $Π_{0} = (P(X_{0} = 0), P(X_{0} = 1), \\cdots)$, tenemos:\n",
        "\n",
        "\\begin{align*}\n",
        "P(X_{0} = x_{0}, X_{1} = x_{1}) &= P(X_{0} = x_{0}) * P(X_{1} = x_{1} | X_{0} = x_{0}) \\\\\n",
        "&= Π_{0}(x_{0})*p(x_{0}, x_{1})\n",
        "\\end{align*}\n",
        "\n",
        "<p align=\"justify\"> Para el caso de un evento donde las tres primeras variables aleatorias son fijas $(X_{0} = x_{0}, X_{1} = x_{1}, X_{2} = x_{2})$ podemos proceder de la misma manera. Tómese por ejemplo el evento particular $(X_{0} = 2, X_{1} = 0, X_{2} = 2)$:"
      ],
      "metadata": {
        "id": "pazp8XveyD0X"
      }
    },
    {
      "cell_type": "markdown",
      "source": [
        "<figure>\n",
        "<center>\n",
        "<img src=\"https://github.com/ManuelMontesyMorales/Servicio-Social/blob/main/Image_16.jpeg?raw=true\" width = 400/>\n",
        "<figcaption></figcaption>Evento $(X_{0} = 2, X_{1} = 0, X_{2} = 2)$</center>\n",
        "</figure>"
      ],
      "metadata": {
        "id": "8vVNsIuG1RJL"
      }
    },
    {
      "cell_type": "markdown",
      "source": [
        "<p align=\"justify\"> Algebráicamente:\n",
        "\n",
        "\\begin{align*}\n",
        "P(X_{0} = x_{0}, X_{1} = x_{1}, X_{2} = x_{2}) &= P(X_{0} = x_{0}, X_{1} = x_{1}) * P(X_{2} = x_{2} | X_{0} = x_{0}, X_{1} = x_{1}) \\\\\n",
        "&= P(X_{0} = x_{0}, X_{1} = x_{1}) * P(X_{2} = x_{2} | X_{1} = x_{1}) \\\\\n",
        "&= Π_{0}(x_{0})*p(x_{0}, x_{1})*p(x_{1}, x_{2})\n",
        "\\end{align*}\n",
        "\n",
        "<p align=\"justify\"> Y en general, si tenemos un evento descrito por la elección para las primeras $n$ variables aleatorias, tenemos:\n",
        "\n",
        "\\begin{equation*}\n",
        "P(X_{0} = x_{0}, X_{1} = x_{1}, X_{2} = x_{2}) = Π_{0}(x_{0})*p(x_{0}, x_{1})*p(x_{1}, x_{2})* \\cdots * p(x_{n-1}, x_{n})\n",
        "\\end{equation*}"
      ],
      "metadata": {
        "id": "H9KgZ2qc1O-X"
      }
    },
    {
      "cell_type": "markdown",
      "source": [
        "<figure>\n",
        "<center>\n",
        "<img src=\"https://github.com/ManuelMontesyMorales/Servicio-Social/blob/main/Image_17.jpeg?raw=true\" width = 400/>\n",
        "<figcaption></figcaption> Evento $(X_{0} = 2, X_{1} = 0, X_{2} = 2, X_{3} = 1, X_{4} = 1, X_{5} = 0)$</center>\n",
        "</figure>"
      ],
      "metadata": {
        "id": "Shm6H51w1wUQ"
      }
    },
    {
      "cell_type": "markdown",
      "source": [
        "<p align=\"justify\"> Pero, ¿qué pasa si no se fija el valor de cada variable aleatoria intermedia? Por ejemplo, ¿cuál es la probabilidad del evento $(X_{0} = 2, X_{2} = 1)$?\n",
        "\n",
        "<p align=\"justify\"> En este caso, parecería se tiene total desinformación sobre el valor de la variable $X_{1}$, sin embargo lo que el evento $(X_{0} = 2, X_{2} = 1)$ representa es la unión de todos los eventos, con $X_{1}$ fijo que cumplen comienzan en el estado 2 y llevan al estado 1.\n",
        "\n",
        "\\begin{align*}\n",
        "(X_{0} = x_{0}, X_{2} = x_{2}) &= (X_{0} = x_{0}, ⋃_{x_{1} \\in S} \\{X_{1} = x_{1}\\}, X_{2} = x_{2})\\\\\n",
        "&= ⋃_{x_{1} \\in S} (X_{0} = x_{0}, X_{1} = x_{1}, X_{2} = x_{2})\n",
        "\\end{align*}\n",
        "\n",
        "<p align=\"justify\"> Visualmente, esto lo podemos observar como todos los posibles caminos que inician en el estado 2 en la profundidad 0 y llevan al estado 1 en la profundidad 2. Calcular la probabilidad del evento entonces parece se convierte en la suma de las probabilidades de haber elegido cualquiera de los caminos. Note esto tiene sentido, y se verá en la demostración algebraica, ya que esencialmente partimos el evento en un conjunto de eventos disjuntos y contable, lo cual nos permite reconstruir la probabilidad a partir de su suma."
      ],
      "metadata": {
        "id": "UDPHDQAI4mGE"
      }
    },
    {
      "cell_type": "markdown",
      "source": [
        "<figure>\n",
        "<center>\n",
        "<img src=\"https://github.com/ManuelMontesyMorales/Servicio-Social/blob/main/Image_8.jpeg?raw=true\" width = 400/>\n",
        "<figcaption></figcaption> Evento $(X_{0} = 2, X_{2} = 1)$</center>\n",
        "</figure>"
      ],
      "metadata": {
        "id": "Dp1uCzpbLGgR"
      }
    },
    {
      "cell_type": "markdown",
      "source": [
        "<p align=\"justify\"> Algebráicamente esto lo podemos comprobar:\n",
        "\n",
        "\\begin{align*}\n",
        "P(X_{0} = x_{0}, X_{2} = x_{2}) &= P(X_{0} = x_{0}, ⋃_{x_{1} \\in S} \\{X_{1} = x_{1}\\}, X_{2} = x_{2})\\\\\n",
        "&= P(⋃_{x_{1} \\in S} (X_{0} = x_{0}, X_{1} = x_{1}, X_{2} = x_{2}))\n",
        "\\end{align*}\n",
        "\n",
        "<p align=\"justify\"> Pero ya que es la unión contable de eventos disjuntos (al ser $S$ contable), tenemos:\n",
        "\n",
        "\\begin{align*}\n",
        "P(⋃_{x_{1} \\in S} (X_{0} = x_{0}, X_{1} = x_{1}, X_{2} = x_{2})) &= ∑_{x_{1} \\in S} P((X_{0} = x_{0}, X_{1} = x_{1}, X_{2} = x_{2})) \\\\\n",
        "&= ∑_{x_{1} \\in S} Π_{0}(x_{0}) * p(x_{0}, x_{1}) * p(x_{1}, x_{2})\n",
        "\\end{align*}\n",
        "\n",
        "<p align=\"justify\"> Si ahora aumentamos la cantidad de variables no fijas, podemos ver la misma idea se generaliza, con la excepción ahora los caminos se subdividen en más y más ramas, de forma exponencial, ya que para cada variable no fija hay $n$ posibles transiciones. En la próxima imagen se muestra el evento $(X_{0} = 2, X_{3} = 1)$, cuya probabilidad será de nuevo la suma de la probabilidad de haber tomado cada camino."
      ],
      "metadata": {
        "id": "RjhfFtmxLV4t"
      }
    },
    {
      "cell_type": "markdown",
      "source": [
        "<figure>\n",
        "<center>\n",
        "<img src=\"https://github.com/ManuelMontesyMorales/Servicio-Social/blob/main/Image_9.jpeg?raw=true\" width = 400/>\n",
        "<figcaption></figcaption> Evento $(X_{0} = 2, X_{3} = 1)$</center>\n",
        "</figure>"
      ],
      "metadata": {
        "id": "o51qYn4MM5I4"
      }
    },
    {
      "cell_type": "markdown",
      "source": [
        "<p align=\"justify\"> Algebraicamente podemos expandir la misma demostración que antes:\n",
        "\n",
        "\\begin{align*}\n",
        "P(X_{0} = x_{0}, X_{3} = x_{3}) &= P(X_{0} = x_{0}, ⋃_{x_{1} \\in S} \\{X_{1} = x_{1}\\}, ⋃_{x_{2} \\in S} \\{X_{2} = x_{2}\\}, X_{3} = x_{3})\\\\\n",
        "&= P(⋃_{x_{1} \\in S} ⋃_{x_{2} \\in S} (X_{0} = x_{0}, X_{1} = x_{1}, X_{2} = x_{2}, X_{3} = x_{3}))\n",
        "\\end{align*}\n",
        "\n",
        "<p align=\"justify\"> Pero ya que es la unión contable de eventos disjuntos (al ser $S$ contable), tenemos:\n",
        "\n",
        "\\begin{align*}\n",
        "P(⋃_{x_{1} \\in S} ⋃_{x_{2} \\in S} (X_{0} = x_{0}, X_{1} = x_{1}, X_{2} = x_{2}, X_{3} = x_{3})) &= ∑_{x_{1} \\in S} ∑_{x_{2} \\in S} P((X_{0} = x_{0}, X_{1} = x_{1}, X_{2} = x_{2}, X_{3} = x_{3})) \\\\\n",
        "&= ∑_{x_{1} \\in S} ∑_{x_{2} \\in S} Π_{0}(x_{0}) * p(x_{0}, x_{1}) * p(x_{1}, x_{2}) * p(x_{2}, x_{3})\n",
        "\\end{align*}"
      ],
      "metadata": {
        "id": "MugmGdnyOau5"
      }
    },
    {
      "cell_type": "markdown",
      "source": [
        "<p align=\"justify\"> Finalmente, sólo resta un último caso por examinar. ¿Cuál es la probabilidad de un evento de la forma $(X_{0} = x_{0}, X_{3} = x_{3}, X_{5} = x_{5})$? Sin embargo dicho evento ya no debería representar una dificultad ya que es una extensión directa de lo que hemos desarrollado hasta ahora. Debajo dejamos el resultado y se deja su verificación al lector.\n",
        "\n",
        "\\begin{align*}\n",
        "P(X_{0} = x_{0}, X_{3} = x_{3}, X_{5} = x_{5}) = ∑_{x_{1} \\in S} ∑_{x_{2} \\in S} ∑_{x_{4} \\in S} Π_{0}(x_{0}) * p(x_{0}, x_{1}) * p(x_{1}, x_{2}) * p(x_{2}, x_{3}) * p(x_{3}, x_{4})* p(x_{4}, x_{5})\n",
        "\\end{align*}"
      ],
      "metadata": {
        "id": "m5XEYtwqPuce"
      }
    },
    {
      "cell_type": "markdown",
      "source": [
        "<figure>\n",
        "<center>\n",
        "<img src=\"https://github.com/ManuelMontesyMorales/Servicio-Social/blob/main/Image_10.jpeg?raw=true\" width = 400/>\n",
        "<figcaption></figcaption> Evento $(X_{0} = 2, X_{3} = 0, X_{5}= 1)$</center>\n",
        "</figure>"
      ],
      "metadata": {
        "id": "4TTbYOwtPcRw"
      }
    },
    {
      "cell_type": "markdown",
      "source": [
        "# Primer Algoritmo para el Cálculo de Probabilidades de Eventos"
      ],
      "metadata": {
        "id": "R2iEfVFWP8v3"
      }
    },
    {
      "cell_type": "markdown",
      "source": [
        "<p align=\"justify\"> Ahora que sabemos como calcular probabilidades de eventos, pasemos a desarrollar un algoritmo que sea capaz de calcularlas dada la información del evento. Para ello, debemos hacer un algoritmo que dado un grafo y los valores fijos del evento, realice todos los posibles caminos que cumplan las restricciones, saque sus probabilidades y finalmente las sume para obtener la probabilidad del evento.\n",
        "\n",
        "<p align=\"justify\"> La idea que usaremos para generar todos los posibles caminos será la de una pila, en la cual se irán produciendo los caminos uno a uno y cuando se alcance la última posición fija se calculará su probabilidad.\n",
        "\n",
        "<p align=\"justify\"> La razón por la cual usaremos una pila como estructura de datos, es porque tal como lo indica su nombre los datos se apilan uno sobre otro y tal como en una pila de platos, el último en ingresar es el único que puede ser removido. Abajo se muestra como se vería la generación de caminos en un grafo usando una pila."
      ],
      "metadata": {
        "id": "t_QIFQKFX1os"
      }
    },
    {
      "cell_type": "markdown",
      "source": [
        "<figure>\n",
        "<center>\n",
        "<img src=\"https://github.com/ManuelMontesyMorales/Servicio-Social/blob/main/Image_18.jpeg?raw=true\" width = 800/>\n",
        "<figcaption></figcaption></center>\n",
        "</figure>"
      ],
      "metadata": {
        "id": "desooPEDfdZ4"
      }
    },
    {
      "cell_type": "markdown",
      "source": [
        "<figure>\n",
        "<center>\n",
        "<img src=\"https://github.com/ManuelMontesyMorales/Servicio-Social/blob/main/Image_19.jpeg?raw=true\" width = 800/>\n",
        "<figcaption></figcaption></center>\n",
        "</figure>"
      ],
      "metadata": {
        "id": "xMdOYhmFfltt"
      }
    },
    {
      "cell_type": "markdown",
      "source": [
        "<figure>\n",
        "<center>\n",
        "<img src=\"https://github.com/ManuelMontesyMorales/Servicio-Social/blob/main/Image_20.jpeg?raw=true\" width = 800/>\n",
        "<figcaption></figcaption>Generación de caminos por medio de una pila</center>\n",
        "</figure>"
      ],
      "metadata": {
        "id": "kf1bFPbofurq"
      }
    },
    {
      "cell_type": "markdown",
      "source": [
        "<p align=\"justify\"> Como se puede apreciar de las imágenes, se ingresa un nodo y se prosigue a ingresar alguno de sus hijos que no haya sido ya ingresado antes por él. Luego se repite el proceso para el nuevo nodo ingresado y así sucesivamente hasta que algún nodo ya no cuente con hijos. Entonces, este último nodo será removido de la pila y se ingresará el siguiente hijo del nuevo último nodo de la pila y así se continua hasta que todos los nodos se remueven. Finalmente se garantiza una vez se hayan removido todos los nodos, todos los caminos que podían ser empezados por alguno de los nodos ingresados cuando la pila está vacía han sido recorridos. Por ejemplo, en el grafo que se usó en la imagen garantizaríamos al finalizar el proceso haber generado todos los caminos que empiezan con el nodo 0.\n",
        "\n",
        "<p align=\"justify\"> Ahora bien, en nuestro problema no generaremos todos los caminos a ciegas y luego comprobaremos si satisfacen las restricciones, sino que querremos ir construyendo un camino válido mientras vamos. Para ello haremos un arreglo que nos indique si el valor para la variable aleatoria del tiempo $t$ es libre de elegirse, en cuyo caso pondremos el valor -1, o si está fijo en cuyo caso pondremos en que valor.\n",
        "\n",
        "<p align=\"justify\"> Por ejemplo para el evento $(X_{0} = 2, X_{3} = 0, X_{5} = 1)$, el arreglo, al que llamaremos $\\textit{event}$, sería:\n",
        "\n",
        "\\begin{equation*}\n",
        "\\text{event} = [2, -1, -1, 0, -1, 1]\n",
        "\\end{equation*}\n",
        "\n",
        "<p align=\"justify\"> Respecto a como se ingresarán estos datos al programa, primero deberemos decir la cantidad de variables fijas que habrá en el evento para posteriormente dar cada una de ellas, una por línea, escribiendo el tiempo de la variable y el valor fijo que tiene.\n",
        "\n",
        "<p align=\"justify\"> Una vez obtenido este arreglo, lo usaremos como guía para contrastar el camino que se vaya generando por medio de la pila y asegurarnos los valores fijos coincidan y en caso contrario no meter ese elemento en la pila y continuar el proceso, hasta que la pila tenga longitud igual al índice de la última variable con valor fijo, en cuyo caso podemos pasar a calcular la probabilidad. A este valor de la longitud objetivo le llamaremos $\\textit{lenght}$.\n",
        "\n",
        "<p align=\"justify\"> Todo este proceso será realizado por la función que llamaremos $\\textit{calculate_event}$ la cual llamará posteriormente a la función $\\textit{calculate_rooted_event}$ para hacer el algoritmo con la pila de la generación de caminos.\n",
        "\n",
        "<p align=\"justify\"> Antes de continuar es importante mencionar a la función $\\textit{calculate_rooted_event}$ no le pusimos ese nombre por casualidad, la razón por la que le llamamos así es porque los únicos eventos de los cuales generaremos sus caminos es de aquellos que tengan fijo el valor para $X_{0}$, esto porque nos da un punto de partida y echa a andar el proceso. Sin embargo, bien podría ser el evento que queremos no fije el valor para $X_{0}$, en este caso deberemos elaborar todos los caminos partiendo desde cualquier estado y al final sumar los resultados para cada uno de esos eventos que ahora sí tienen un valor fijo pra $X_{0}$.\n",
        "\n",
        "<p align=\"justify\"> Por ejemplo, en el caso del evento $(X_{3} = 2)$; donde tomaremos $S = \\{0, 1, 2\\}$, los eventos enraízados (o en otras palabras que fijan el primer valor) serían:\n",
        "\n",
        "\\begin{equation*}\n",
        "(X_{0} = 0, X_{3} = 2) \\text{ ,} (X_{0} = 1, X_{3} = 2) \\text{ ,} (X_{0} = 2, X_{3} = 2)\n",
        "\\end{equation*}\n",
        "\n",
        "<p align=\"justify\"> Este proceso también se llevará acabo dentro de la función $\\textit{calculate_event}$."
      ],
      "metadata": {
        "id": "0AEAxm9agSss"
      }
    },
    {
      "cell_type": "markdown",
      "source": [
        "<p align=\"justify\"> Ahora bien, pasando a lo que hará la función $\\textit{calculate_rooted_event}$, haremos un pequeño ajuste de implementación a el tipo de objetos se irán ingresando a la pila, a la cual llamaremos en el código $\\textit{path}$.\n",
        "\n",
        "<p align=\"justify\"> Como mencionamos anteriormente, cuando ingresemos al último nodo actual en la pila, procederemos a ingresar uno de sus hijos que no haya sido ingresado previamente por él. Esto es sencillo de describir, pero en el código, al observar al último nodo en la pila deberemos saber cuales de sus hijos ya fueron ingresados y cuales faltan por ingresar. Para poder saber esta información nos aprovecharemos cada objeto nodo ya tiene su lista de adyacencia, la cual tiene un orden dado naturalmente por sus índices en dicha lista. Por lo tanto, decidiremos guardar en la pila no nodos sino parejas conformadas de un nodo y el índice de su último hijo que ingresó, el cual será inicialmente puesto en el índice 0.\n",
        "\n",
        "<p align=\"justify\"> De esta manera, si al observar el último elemento en la pila vemos el índice de su último hijo ingresado es igual a la cantidad de hijos que tiene, sabremos ya los ha ingresado todos y debemos removerlo de la pila. (Note los índices están recorridos uno hacia atrás pues comienzan en 0, es por esto que la igualdad descrita nos indica hemos pasado el último índice disponible).\n",
        "\n",
        "<p align=\"justify\"> Aunado a esto, cada que queramos ingresar una nueva pareja a la pila, compararemos si la restricción impuesta en el evento, la cual podremos ver en el arreglo $\\textit{event}$, permite dicha elección, en caso no, continuaremos con el próximo hijo.\n",
        "\n",
        "<p align=\"justify\"> Finalmente, si se ingresa una pareja que hace la pila tenga la misma longitud que la variable $\\textit{lenght}$, entonces sabremos tenemos un camino válido completo y procederemos a evaluar su probabilidad con la función $\\textit{path_prob}$."
      ],
      "metadata": {
        "id": "DqOyI8Duwqxi"
      }
    },
    {
      "cell_type": "markdown",
      "source": [
        "<p align=\"justify\"> La función $\\textit{path_prob}$ recibirá el arreglo correspondiente a la pila una vez ésta tenga un camino completo, es decir, un evento donde todas las variables aleatorias necesarias tienen ya una realización en particular.\n",
        "\n",
        "<p align=\"justify\"> Es en esta función en donde será necesario tener la distribución inicial y la matriz de transición de la cadena, para así poder calcular la probabilidad del camino como ya hemos visto antes para eventos completamente descritos.\n",
        "\n",
        "\\begin{equation*}\n",
        "Π_{0}(x_{0}) * p(x_{0}, x_{1})* p(x_{1}, x_{2}) * \\cdots * p(x_{lenght -2}, x_{lenght -1})\n",
        "\\end{equation*}\n",
        "\n",
        "<p align=\"justify\"> Una vez hecha esta cuenta, será regresada y sumada a la probabilidad total del evento deseado."
      ],
      "metadata": {
        "id": "dypWPbtd08fL"
      }
    },
    {
      "cell_type": "markdown",
      "source": [
        "<p align=\"justify\"> A continuación está el código para cada una de las funciones descritas, en las que cada una tiene comentarios extra para una mejor lectura."
      ],
      "metadata": {
        "id": "oGp4JOUL2jee"
      }
    },
    {
      "cell_type": "code",
      "source": [
        "def path_prob(path, lenght, initial_dist, transition_matrix):\n",
        "    prob = initial_dist[path[0][0]]\n",
        "\n",
        "    for i in range(lenght -1):\n",
        "        initial_state = path[i][0]\n",
        "        end_state = path[i+1][0]\n",
        "\n",
        "        prob *= transition_matrix[initial_state][end_state]\n",
        "\n",
        "    return prob\n",
        "\n",
        "def calculate_rooted_event(event, event_lenght, states, initial_dist, transition_matrix):\n",
        "    #la variable prob irá acumulando las probabilidades para cada camino\n",
        "    #finalmente ésta variable debrá tener la probabilidad para el evento enraizado\n",
        "    prob = 0\n",
        "    root = [event[0], 0]\n",
        "    path = [root]\n",
        "\n",
        "    #path_lenght irá teniendo la longitud del camino actual\n",
        "    path_lenght = 1\n",
        "\n",
        "    #Note si la longitud del camino actual es 0 significa todos los elementos\n",
        "    #de la pila han sido removidos, por lo que hemos terminado y la variable prob\n",
        "    #ya tiene su valor deseado\n",
        "    while path_lenght != 0:\n",
        "        #Si ya se tiene un camino de la longitud deseada del evento\n",
        "        #entonces pasamos a calcular su probabilidad\n",
        "        if path_lenght == event_lenght:\n",
        "            prob += path_prob(path, path_lenght, initial_dist, transition_matrix)\n",
        "            #trash es una variable para remover el último elemento de la pila\n",
        "            trash = path.pop()\n",
        "            #Actualizamos la longitud pues ya se removió un elemento\n",
        "            path_lenght -= 1\n",
        "            continue\n",
        "\n",
        "        #parent tendrá al objeto nodo en la última posición de la pila\n",
        "        #mientras que current_child tendrá el índice de su último hijo\n",
        "        #sin ingresar\n",
        "        parent = states[path[-1][0]]\n",
        "        current_child = path[-1][1]\n",
        "\n",
        "        #Este condicional checa el índice sea el de un hijo existente\n",
        "        #es decir, que no se los haya ya terminado\n",
        "        if current_child < parent.n_children:\n",
        "            #child guarda a su nodo hijo\n",
        "            child = parent.children[current_child]\n",
        "\n",
        "            #Se checa el valor del hijo coincida con la del estado fijo\n",
        "            #si es que este está fijo para esa variable aleatoria del evento\n",
        "            if event[path_lenght] == -1 or event[path_lenght] == child:\n",
        "                #Se modifica el índice del último hijo del padre ingresado\n",
        "                #y se agrega al hijo a la pila\n",
        "                path[-1][1] += 1\n",
        "                path.append([child, 0])\n",
        "                path_lenght += 1\n",
        "            else:\n",
        "                #De lo contrario se aumenta el índice del último hijo solamente\n",
        "                path[-1][1] += 1\n",
        "\n",
        "        else:\n",
        "            #Si ya se terminó sus hijos es removido de la pila\n",
        "            trash = path.pop()\n",
        "            path_lenght -= 1\n",
        "\n",
        "    return prob\n",
        "\n",
        "\n",
        "def calculate_event(n_states, states, initial_dist, transition_matrix):\n",
        "    n_fixed_positions = int(input(\"Da la cantidad de posiciones fijas: \"))\n",
        "    fixed_positions = []\n",
        "\n",
        "    print(\"Da las posiciones fijas:\")\n",
        "\n",
        "    for i in range(n_fixed_positions):\n",
        "        fixed_position = list(map(int, input().split()))\n",
        "        fixed_positions.append(fixed_position)\n",
        "\n",
        "    lenght = fixed_positions[-1][0] +1\n",
        "\n",
        "    event = [-1 for i in range(lenght)]\n",
        "\n",
        "    #Se modifica el arreglo event para que tenga los valores fijos\n",
        "    for element in fixed_positions:\n",
        "        index = element[0]\n",
        "        realization = element[1]\n",
        "        event[index] = realization\n",
        "\n",
        "    #Esta variable prob acumulará el valor de la probabilidad del evento\n",
        "    #(no necesariamente enraizado) deseado\n",
        "    prob = 0\n",
        "\n",
        "    #Si la variable aleatoria X_0 no está fija entonces se enraizan eventos\n",
        "    #con todos sus posibles valores\n",
        "    if event[0] == -1:\n",
        "        for i in range(n_states):\n",
        "            event[0] = i\n",
        "            prob += calculate_rooted_event(event, lenght, states, initial_dist, transition_matrix)\n",
        "\n",
        "    #De lo contrario el evento ya estaba enraizado y puede ser calculada su\n",
        "    #probabilidad directamente\n",
        "    else:\n",
        "        prob = calculate_rooted_event(event, lenght, states, initial_dist, transition_matrix)\n",
        "\n",
        "    return prob"
      ],
      "metadata": {
        "id": "t0C_-AbrjNjB"
      },
      "execution_count": null,
      "outputs": []
    },
    {
      "cell_type": "markdown",
      "source": [
        "<p align=\"justify\"> Damos ahora una cadena de ejemplo en la que calcularemos la probabilidad para algunos eventos.\n",
        "\n",
        "<p align=\"justify\"> Sea $S = \\{0, 1, 2\\}$ el espacio de eventos, $Π_{0} = (0.2, 0.5, 0.3)$ su distribución inicial y:\n",
        "\n",
        "\\begin{equation*}\n",
        "P = \\begin{pmatrix}\n",
        "0 & 0.3 & 0.7\\\\\n",
        "0 & 0 & 1\\\\\n",
        "0.6 & 0.4 & 0\n",
        "\\end{pmatrix}\n",
        "\\end{equation*}\n",
        "\n",
        "<p align=\"justify\"> su matriz de transición.\n",
        "\n",
        "<p align=\"justify\"> Nos preguntaremos las probabilidades de los eventos $(X_{0} = 0, X_{2} = 1)$ y $(X_{2} = 1)$."
      ],
      "metadata": {
        "id": "plvIBOj_6LSx"
      }
    },
    {
      "cell_type": "code",
      "source": [
        "n_states, states, initial_dist, transition_matrix = initialize_chain()"
      ],
      "metadata": {
        "colab": {
          "base_uri": "https://localhost:8080/"
        },
        "id": "jJwLhwNk7z7v",
        "outputId": "3ea1a140-9c0c-4e96-aec4-ae68d9e4b250"
      },
      "execution_count": null,
      "outputs": [
        {
          "name": "stdout",
          "output_type": "stream",
          "text": [
            "Da la cantidad de estados: 3\n",
            "Da la distribucón inicial:\n",
            "0.2 0.5 0.3\n",
            "Da la matriz de transicion:\n",
            "0 0.3 0.7\n",
            "0 0 1\n",
            "0.6 0.4 0\n"
          ]
        }
      ]
    },
    {
      "cell_type": "code",
      "source": [
        "prob_event = calculate_event(n_states, states, initial_dist, transition_matrix)\n",
        "\n",
        "print(\"La probabilidad del evento es: \", prob_event)"
      ],
      "metadata": {
        "colab": {
          "base_uri": "https://localhost:8080/"
        },
        "id": "5p0-H4TCjWjP",
        "outputId": "b7ba21cd-cdff-4655-8cd9-c1a4ff5e6554"
      },
      "execution_count": null,
      "outputs": [
        {
          "output_type": "stream",
          "name": "stdout",
          "text": [
            "Da la cantidad de posiciones fijas: 2\n",
            "Da las posiciones fijas:\n",
            "0 0\n",
            "2 1\n",
            "La probabilidad del evento es:  0.055999999999999994\n"
          ]
        }
      ]
    },
    {
      "cell_type": "code",
      "source": [
        "prob_event = calculate_event(n_states, states, initial_dist, transition_matrix)\n",
        "\n",
        "print(\"La probabilidad del evento es: \", prob_event)"
      ],
      "metadata": {
        "colab": {
          "base_uri": "https://localhost:8080/"
        },
        "id": "9mEdf3Qx8WKx",
        "outputId": "711dcf2c-29cf-4dad-c957-f4fe211dc081"
      },
      "execution_count": null,
      "outputs": [
        {
          "output_type": "stream",
          "name": "stdout",
          "text": [
            "Da la cantidad de posiciones fijas: 1\n",
            "Da las posiciones fijas:\n",
            "2 1\n",
            "La probabilidad del evento es:  0.31\n"
          ]
        }
      ]
    },
    {
      "cell_type": "markdown",
      "source": [
        "<p align=\"justify\"> Los cuales si se desarrollan a mano se puede verificar son correctos."
      ],
      "metadata": {
        "id": "CQ-arFAm8a4Y"
      }
    },
    {
      "cell_type": "markdown",
      "source": [
        "## Análisis de complejidad"
      ],
      "metadata": {
        "id": "yTJkdKgyZQJ1"
      }
    },
    {
      "cell_type": "markdown",
      "source": [
        "<p align=\"justify\"> Para el análisis, note que el tiempo que tarda en correr la función calculate_event() estará dominada por el número de eventos a calcular su probabilidad. Si $T$ es el último tiempo que tiene un valor fijo y $m$ es el número de tiempos desde 0 hasta $T$ que no están fijos, entonces tendremos que calcular la probabilidad para $n^{m}$ eventos, donde $n$ es el número de estados.\n",
        "\n",
        "<p align=\"justify\"> Note que estamos sobreestimando el número de eventos a calcular, ya que no todas las elecciones para las variables no fijas son válidas ni todos los nodos tienen $n$ hijos. Dicho eso, tenemos la complejidad de la función es $O(n^{m}*T)$ debido a que cada evento completo se calcula linealmente respecto a su longitud que es $T$.\n",
        "\n",
        "<p align=\"justify\"> Aquí podemos hacer una comparación de que tanto beneficio nos da trabajar con una representación por listas de adjacencia en vez de considerar ciegamente $n$ hijos para cada nodo. Suponga por ejemplo que tenemos el siguiente grafo:\n",
        "\n",
        "<figure>\n",
        "<center>\n",
        "<img src=\"https://drive.google.com/uc?id=1pGCG7pw0vF8Y0IM1Utx-abj_RhYIUnUn\" width = 250/>\n",
        "<figcaption></figcaption>Ejemplo Grafo</center>\n",
        "</figure>\n",
        "\n",
        "\n",
        "<p align=\"justify\"> En él podemos observar cada nodo tendrá solamente dos hijos, por lo tanto si quisiéramos calcular la probabilidad de un evento en el que las posiciones no fijas son $m$ y la longitud es $T$, esto nos tomaría $2^{m}$. Por otra parte, si consideráramos 8 posibles hijos tendríamos nos tomaría $8^{m} = 2^{3m}$, lo cual es una diferencia significativa a la hora de lidiar con valores grandes. Esto nos lleva al siguiente inconveniente y es que crecimientos exponenciales no ocupan valores muy grandes para convertirse en cantidades realmente mountruosas.\n",
        "\n",
        "<p align=\"justify\"> Por culpa de esta complejidad a la hora de realizar cálculos de probabilidades es que buscamos otra manera que esquive tener que estar constantemente considerando el desglose de todos los posibles caminos, lo cual nos llevo precisamente a una expresión del tipo $x^{y}$."
      ],
      "metadata": {
        "id": "cdQkk8p5ZVCC"
      }
    },
    {
      "cell_type": "markdown",
      "source": [
        "# Probabilidad de Transición en n-Pasos"
      ],
      "metadata": {
        "id": "BYYBeFo9f33g"
      }
    },
    {
      "cell_type": "markdown",
      "source": [
        "<p align=\"justify\"> Para lidiar con esta problemática, nos damos cuenta el crecimiento exponencial nace del hecho cuando tenemos saltos grandes entre dos tiempos fijos, necesitamos calcular un número exponencial de posibles caminos para posteriormente transitar cada uno. Sin embargo, cuando los tiempos fijos eran consecutivos, nos era inmediato calcular la probabilidad hasta ese punto y propagar un único camino. Nos preguntamos entonces si será posible obtener un probabilidad de transición que nos ayude a brincar largas distancias en el tiempo de un sólo golpe. En otras palabras, nos estamos preguntando por transiciones entre estados $a$ y $b \\in S$ en $n$ pasos.\n",
        "\n",
        "<p align=\"justify\"> Calculemos ahora la probabilidad en 2 pasos de $a$ a $b$, donde $S$ es finito, y veamos si su forma nos motiva a una manera de calcularlas eficientemente. Tenemos:\n",
        "\n",
        "\\begin{align*}\n",
        "P(X_{0} = a, X_{2} = b) &= P(X_{0} = a, ⋃_{y \\in S} \\{X_{1} = y\\}, X_{2} = b)\\\\\n",
        "&= P(⋃_{y \\in S} ( X_{0} = a, X_{1} = y, X_{2} = b))\\\\\n",
        "&=Σ_{y \\in S} P(X_{0} = a, X_{1} = y, X_{2} = b)\\\\\n",
        "&= p(a,y_{1})*p(y_{1},b) + p(a,y_{2})*p(y_{2},b) + ⋯ + p(a,y_{n})*p(y_{n},b)\\\\\n",
        "& \\\\\n",
        "&= \\begin{bmatrix}\n",
        "    p(a, y_{1}) & p(a, y_{2}) & \\cdots & p(a, y_{n})\\end{bmatrix}\\begin{bmatrix} p(y_{1},b) \\\\ p(y_{2}, b) \\\\ \\vdots \\\\ p(y_{n}, b) \\end{bmatrix}\n",
        "\\end{align*}\n",
        "\n",
        "<p align=\"justify\"> Note que a partir de esta última expresión es sugerente lo que estamos haciendo es de alguna manera repesar las transiciones. Es de aquí que se nos ocurre no sólo calcular el cambio de peso para una transición y en vez de ello pasar a repesar todas en conjunto a través de una multiplicación de matrices. A continuación se muestra el cálculo del cual se obtiene la matriz de transiciones en 2 pasos para la matriz específica que se trató en el ejemplo de la máquina. Observe cada entrada de la matriz obtenida es la nueva probabilidad de transición entre dos estados pero esta vez considerando pudo haber ido a cualquier otro estado en el paso intermedio. Debajo mostramos la cuenta para cada una de estas probabilidades de forma individual como lo hacíamos antes, de lo cual el lector puede confirmar en verdad la matriz tiene los valores buscados.\n",
        "\n",
        "\\begin{equation*}\n",
        "\\begin{bmatrix}\n",
        "    0.6 & 0.4\\\\\n",
        "    0.7 & 0.3\n",
        "\\end{bmatrix}\n",
        "\\begin{bmatrix}\n",
        "    0.6 & 0.4\\\\\n",
        "    0.7 & 0.3\n",
        "\\end{bmatrix} =\n",
        "\\begin{bmatrix}\n",
        "    0.64 & 0.36\\\\\n",
        "    0.63 & 0.37\n",
        "\\end{bmatrix}\n",
        "\\end{equation*}\n",
        "\n",
        "\\\\\n",
        "\n",
        "\\begin{align*}\n",
        "P(X_{0} = 0, X_{2} = 0) &= P(X_{0} = 0, X_{1} = 0, X_{2} = 0) + P(X_{0} = 0, X_{1} = 1, X_{2} = 0) = 0.6*0.6 + 0.4*0.7 = 0.64\\\\\n",
        "\\\\\n",
        "P(X_{0} = 0, X_{2} = 1) &= P(X_{0} = 0, X_{1} = 0, X_{2} = 1) + P(X_{0} = 0, X_{1} = 1, X_{2} = 1) = 0.6*0.4 + 0.4*0.3 = 0.36\\\\\n",
        "\\\\\n",
        "P(X_{0} = 1, X_{2} = 0) &= P(X_{0} = 1, X_{1} = 0, X_{2} = 0) + P(X_{0} = 1, X_{1} = 1, X_{2} = 0) = 0.7*0.6 + 0.3*0.7 = 0.63\\\\\n",
        "\\\\\n",
        "P(X_{0} = 1, X_{2} = 1) &= P(X_{0} = 1, X_{1} = 0, X_{2} = 1) + P(X_{0} = 1, X_{1} = 1, X_{2} = 1) = 0.7*0.4 + 0.3*0.3 = 0.37\n",
        "\\end{align*}\n"
      ],
      "metadata": {
        "id": "SXXheTowgJSK"
      }
    },
    {
      "cell_type": "markdown",
      "source": [
        "<p align=\"justify\"> Ahora bien, qué es exactamente lo que estamos representando a través de la multiplicación de matrices? Note si interpretamos las columnas de la matriz como vectores, éstos representan los vectores de la probabilidad de transicionar al estado 0 y 1 respectivamente de izquierda a derecha. Luego al multiplicar las matrices lo que estamos consiguiendo es repesar éstos vectores con los pesos de moverse a los respectivos destinos.\n",
        "\n",
        "<p align=\"justify\"> Por ejemplo, tomando en particular el cómo se va a repesar el vector de ir al estado 0, tenemos este pasará a ser:\n",
        "\n",
        "\\begin{equation*}\n",
        "\\begin{bmatrix} 0.6 \\\\ 0.7\\end{bmatrix}*0.6 + \\begin{bmatrix} 0.4 \\\\ 0.3\\end{bmatrix}*0.7\n",
        "\\end{equation*}\n",
        "\n",
        "<p align=\"justify\"> Donde podemos interpretar la probabilidad de ir al estado cero se quiebra en aquella de ir al cero pesada con 0.6 ya que es ir al cero y posteriormente ir del cero al cero, más aquella de ir al estado 1 pesada con 0.7 ya que es ir al uno y posteriormente del uno al cero.\n",
        "\n",
        "<p align=\"justify\"> Continuando este proceso de multiplicar matrices podemos finalmente obtener que la matriz de transición elevada a la $n$ nos dará la matriz de transición en $n$-pasos.\n",
        "\n",
        "<p align=\"justify\"> Cosas importantes a destacar de este proceso es que nos preguntamos si las matrices obtenidas preservan seguir representando probabilidades, es decir si sus filas suman a 1, con lo cual decimos la matriz es estocástica. Intuitivamente presentimos ésto será cierto ya que el repesaje suma a 1, por lo que la suma de todas las piezas debería reconstruir la probabilidad total. Debajo mostramos la demostración, que observe no supone se multiplica la misma matriz consigo misma, si no que toma dos matrices estocásticas.\n",
        "\n",
        "<p align=\"justify\"> Supóngase $P$ y $Q$ son dos matrices estocásticas de la misma dimensión $n$. Veamos primero las entradas de $PQ$ son mayores o iguales a cero.\n",
        "\n",
        "<p align=\"justify\"> Tenemos $PQ_{i,j} = ∑_{k=0}^{n-1} Q_{k,j}P_{i,k}$ donde empezamos a indexar desde 0. Pero luego al ser los valores de $Q_{k,j}$ y $P_{i,k} ≥ 0$ para todo $i,j,k \\in \\{0, \\cdots, n-1\\}$ tenemos $Q_{k,j}P_{i,k} \\ge 0 \\Rightarrow ∑_{k=0}^{n-1} Q_{k,j}P_{i,k} \\ge 0$.\n",
        "\n",
        "<p align=\"justify\"> Solamente resta probar $∑_{j=0}^{n-1} PQ_{i,j} = 1$. Tenemos:\n",
        "\n",
        "\\begin{align*}\n",
        "∑_{j=0}^{n-1} PQ_{i,j} &= ∑_{j=0}^{n-1}∑_{k=0}^{n-1} Q_{k,j}P_{i,k}\\\\\n",
        "&= ∑_{k=0}^{n-1}P_{i,k}∑_{j=0}^{n-1}Q_{k,j}\\\\\n",
        "&= ∑_{k=0}^{n-1}P_{i,k} * 1\\\\\n",
        "&= 1*1 = 1\n",
        "\\end{align*}\n",
        "\n",
        "<p align=\"justify\"> Por lo tanto $PQ$ es estocástica y por ende $P^{n}$ también será estocástica para cualquier entero $n$.\n",
        "\n",
        "<p align=\"justify\"> Finalmente, note que visualmente podemos observar la aplicación de potencias de una misma matriz estocástica como transformaciones entre distintas versiones de cadenas de Markov que mantienen el mismo espacio de estados. Y es debido a esta posibilidad de recurrir a espacios en donde probabilidades de transición de lo que antes eran grandes saltos ahora son transiciones simples que pasaremos a plantearnos el calcular probabilidades de eventos a partir de cambiar de cadena para siempre usar transiciones simples.\n",
        "\n",
        "<figure>\n",
        "<center>\n",
        "<img src=\"https://drive.google.com/uc?id=1qzvYd9nLGkMSMxEpiOIeFPH4Q-WtSK-Q\" width = 450/>\n",
        "<figcaption></figcaption>Transformaciones entre cadenas</center>\n",
        "</figure>"
      ],
      "metadata": {
        "id": "GreVS1pxHsj1"
      }
    },
    {
      "cell_type": "markdown",
      "source": [
        "# Segundo Algoritmo para el Cálculo de Probabilidades de Eventos"
      ],
      "metadata": {
        "id": "zWInlKTNgvrH"
      }
    },
    {
      "cell_type": "markdown",
      "source": [
        "<p align=\"justify\"> Sea $p^{n}(x,y)$ la probabilidad de transición de $x$ a $y$ en $n$ pasos, por lo anterior mencionado pensamos calcular la probabilidad de un evento $P(X_{0} = x_{0}, X_{3} = x_{3}, X_{5} = x_{5}, X_{12} = x_{12})$ como:\n",
        "\n",
        "\\begin{equation*}\n",
        "Π(x_{0})*p^{3}(x_{0}, x_{3})*p^{2}(x_{3}, x_{5})*p^{7}(x_{5}, x_{12})\n",
        "\\end{equation*}\n",
        "\n",
        "<p align=\"justify\"> Nótese la notación sugiere el cálculo de la probabilidad de dicho evento sólo tomará tantas operaciones como variables fijas, lo cual es una mejora abismal en contraste a la complejidad exponencial del método anterior. Sin embargo aún queda analizar algo de suma relevancia que de salir mal podría costarnos toda la ventaja de este enfoque y es, cuál es la complejidad de calcular las probabilidades de transición en $n$ pasos que necesitamos?\n",
        "\n",
        "<p align=\"justify\"> Debido a que estas probabilidades las obtendremos a partir de sus matrices, podemos reducir el problema de hallarlas a calcular potencias de la matriz de transición $P$. Recuerde la complejidad de la multiplicación de matrices es $O(n^{3})$ donde $n$ es el número de estados (ya que la matriz es cuadrada). Así que si queremos obtener $P^{m}$, tendremos una complejidad de $O(m*n^{3})$. Además, note que los exponentes de las distintas potencias que debemos calcular suman al tiempo del último valor fijo, por lo que en total el cálculo completo de la probabilidad de un evento con último valor fijo $T$ sería $O(T*n^{3})$.\n",
        "\n",
        "<p align=\"justify\"> Por lo tanto este nuevo algoritmo será mucho más eficiente que el anterior, al menos para eventos con saltos en el tiempo y en los que la ventaja de sólo considerar transiciones positivas no sea significativa. Pero más todavía, aún podemos realizar otra optimización al proceso.\n",
        "\n",
        "<p align=\"justify\"> Antes de continuar cabe preguntarse, cómo es que este acercamiento logró esquivar el número exponencial de caminos? El secreto recae en que la multiplicación de la matriz va comprimiendo en cada paso la probabilidad de transicionar y deja que la operación de multiplicar se aplique indirectamente a las sumas que esconde su valor comprimido. Como ejemplo de lo último a lo que hacemos mención observe $27 * 5 = (3 + 7 + 10 + 2 + 5) * 5 = 3*5 + 7*5 + 10*5 + 2*5 + 5*5$.\n",
        "\n"
      ],
      "metadata": {
        "id": "ZN4Q5L4DhF3-"
      }
    },
    {
      "cell_type": "markdown",
      "source": [
        "## Exponenciación Binaria"
      ],
      "metadata": {
        "id": "j1PSpDGaoJ8b"
      }
    },
    {
      "cell_type": "markdown",
      "source": [
        "<p align=\"justify\"> La idea para la optimización es la siguiente. Nos damos cuenta que para calcular $P^{m}$, podríamos en lugar de verlo como multiplicar $m$ veces $P$, mejor observarlo como la multiplicación de matrices elevadas a una potencia de 2. Esto es, queremos escribir $m$ en su representación binaria y por ende quebrar la multiplicación en $log_{2}(m)$ factores. Como ejemplo supóngase queremos calcular $P^{23}$, luego podemos escribir 23 en binario como $23 = 10111$. De lo cual $P^{23} = P^{16} * P^{4} * P^{2} * P^{1}$.\n",
        "\n",
        "<p align=\"justify\"> Podría parecer esta nueva expresión nos tomaría la misma cantidad de pasos que la original, sin embargo lo que haremos será precalcular los valores para la matriz elevada a potencias de 2. Observe si estos valores ya son conocidos y están guardados en una lista, luego verdaderamente hemos reducido el cómputo de $P^{23}$ a sólo $\\lfloor log_{2}(23)⌋ = 4$ multiplicaciones.\n",
        "\n",
        "<p align=\"justify\"> Ahora bien, para calcular las potencias de 2 la ventaja es que si tenemos $P^{2^{k}}$, podemos obtener $P^{2^{k+1}}$ como $P^{2^{k}}*P^{2^{k}}$. Por lo tanto si T es el último tiempo fijo, bastará con precalcular hasta la máxima potencia de 2 que se pueda utilizar, la cual será $\\lfloor log_{2}(T) ⌋$."
      ],
      "metadata": {
        "id": "WyH01K71oNsv"
      }
    },
    {
      "cell_type": "code",
      "source": [
        "import math\n",
        "\n",
        "def matrix_multiplication(A2, A1):\n",
        "  n_rows_2 = len(A2)\n",
        "  n_cols_2 = len(A2[0])\n",
        "  n_rows_1 = len(A1)\n",
        "  n_cols_1 = len(A1[0])\n",
        "\n",
        "  matrix = [[0 for i in range(n_cols_1)] for j in range(n_rows_2)]\n",
        "\n",
        "  for i in range(n_rows_2):\n",
        "    for j in range(n_cols_1):\n",
        "      for k in range(n_cols_2):\n",
        "        matrix[i][j] += A2[i][k] * A1[k][j]\n",
        "\n",
        "  return matrix\n",
        "\n",
        "def calculate_powers_of_two(a, n):\n",
        "  powers = [a]\n",
        "  max_power = math.floor(math.log2(n))\n",
        "\n",
        "  for i in range(max_power):\n",
        "    powers.append(matrix_multiplication(powers[-1], powers[-1]))\n",
        "\n",
        "  return powers\n",
        "\n",
        "def binary_exponentiation(a, m, powers):\n",
        "  size = len(a)\n",
        "  result = [[1 if i == j else 0 for j in range(size)] for i in range(size)]\n",
        "  pos_power = 0\n",
        "\n",
        "  while m > 0:\n",
        "    if m % 2 == 1:\n",
        "      result = matrix_multiplication(result, powers[pos_power])\n",
        "\n",
        "    pos_power += 1\n",
        "    m //= 2\n",
        "\n",
        "  return result\n",
        "\n",
        "def print_matrix(matrix):\n",
        "  rows = len(matrix)\n",
        "  cols = len(matrix[0])\n",
        "\n",
        "  for i in range(rows):\n",
        "    for j in range(cols):\n",
        "      print(matrix[i][j], end = \" \")\n",
        "    print()"
      ],
      "metadata": {
        "id": "Y0HT53APWw7a"
      },
      "execution_count": null,
      "outputs": []
    },
    {
      "cell_type": "code",
      "source": [
        "n_states, states, initial_dist, transition_matrix = initialize_chain()"
      ],
      "metadata": {
        "colab": {
          "base_uri": "https://localhost:8080/"
        },
        "id": "3T9_VvBYZS0o",
        "outputId": "d20f318d-2663-40f0-fca6-d78dd38a3946"
      },
      "execution_count": null,
      "outputs": [
        {
          "name": "stdout",
          "output_type": "stream",
          "text": [
            "Da la cantidad de estados: 2\n",
            "Da la distribucón inicial:\n",
            "1 0\n",
            "Da la matriz de transicion:\n",
            "0.6 0.4\n",
            "0.7 0.3\n"
          ]
        }
      ]
    },
    {
      "cell_type": "code",
      "source": [
        "exponent = int(input(\"Da el exponente a la que elevar la matriz de transición: \"))\n",
        "powers = calculate_powers_of_two(transition_matrix, exponent)\n",
        "print_matrix(binary_exponentiation(transition_matrix, exponent, powers))"
      ],
      "metadata": {
        "colab": {
          "base_uri": "https://localhost:8080/"
        },
        "id": "8Qwwh5adZ8DN",
        "outputId": "85d7681f-34f0-4003-a619-d5eac934baab"
      },
      "execution_count": null,
      "outputs": [
        {
          "output_type": "stream",
          "name": "stdout",
          "text": [
            "Da el exponente a la que elevar la matriz de transición: 5\n",
            "0.6363599999999999 0.36363999999999996 \n",
            "0.6363699999999999 0.3636299999999999 \n"
          ]
        }
      ]
    },
    {
      "cell_type": "markdown",
      "source": [
        "<p align=\"justify\"> A continuación damos el código para nuestro segundo algoritmo para calcular la probabilidad de eventos."
      ],
      "metadata": {
        "id": "VMm2t7hXbTgJ"
      }
    },
    {
      "cell_type": "code",
      "source": [
        "def calculate_rooted_event(fixed_positions, lenght, initial_dist, transition_matrix):\n",
        "    prob = initial_dist[fixed_positions[0][1]]\n",
        "    powers = calculate_powers_of_two(transition_matrix, fixed_positions[-1][0])\n",
        "\n",
        "    for i in range(1, lenght):\n",
        "        jump = fixed_positions[i][0] - fixed_positions[i-1][0]\n",
        "        matrix_jump_transition = binary_exponentiation(transition_matrix, jump, powers)\n",
        "        prob *= matrix_jump_transition[fixed_positions[i - 1][1]][fixed_positions[i][1]]\n",
        "\n",
        "    return prob\n",
        "\n",
        "\n",
        "def calculate_event(n_states, states, initial_dist, transition_matrix):\n",
        "    n_fixed_positions = int(input(\"Da la cantidad de posiciones fijas: \"))\n",
        "    fixed_positions = []\n",
        "\n",
        "    print(\"Da las posiciones fijas (recordar el formato es tiempo de la variable valor en el que está fija):\")\n",
        "\n",
        "    for i in range(n_fixed_positions):\n",
        "        fixed_position = list(map(int, input().split()))\n",
        "        if i == 0 and fixed_position[0] != 0:\n",
        "            fixed_positions.append([0, -1])\n",
        "\n",
        "        fixed_positions.append(fixed_position)\n",
        "\n",
        "    lenght = len(fixed_positions)\n",
        "\n",
        "    prob = 0\n",
        "\n",
        "    #Si la variable aleatoria X_0 no está fija entonces se enraizan eventos\n",
        "    #con todos sus posibles valores\n",
        "    if fixed_positions[0][1] == -1:\n",
        "        for i in range(n_states):\n",
        "            fixed_positions[0][1] = i\n",
        "            prob += calculate_rooted_event(fixed_positions, lenght, initial_dist, transition_matrix)\n",
        "\n",
        "    #De lo contrario el evento ya estaba enraizado y puede ser calculada su\n",
        "    #probabilidad directamente\n",
        "    else:\n",
        "        prob = calculate_rooted_event(fixed_positions, lenght, initial_dist, transition_matrix)\n",
        "\n",
        "    return prob"
      ],
      "metadata": {
        "id": "DfRmD-6bbk1H"
      },
      "execution_count": null,
      "outputs": []
    },
    {
      "cell_type": "markdown",
      "source": [
        "<p align=\"justify\"> Calcularemos ahora la probabilidad ahora para los mismos eventos y la misma cadena que usamos para probar el primer algoritmo."
      ],
      "metadata": {
        "id": "jFGhnK-qfQ81"
      }
    },
    {
      "cell_type": "code",
      "source": [
        "n_states, states, initial_dist, transition_matrix = initialize_chain()"
      ],
      "metadata": {
        "colab": {
          "base_uri": "https://localhost:8080/"
        },
        "id": "aYWm5zGsfh2A",
        "outputId": "c664c732-9570-485d-9399-cab3389e1a8b"
      },
      "execution_count": null,
      "outputs": [
        {
          "name": "stdout",
          "output_type": "stream",
          "text": [
            "Da la cantidad de estados: 3\n",
            "Da la distribucón inicial:\n",
            "0.2 0.5 0.3\n",
            "Da la matriz de transicion:\n",
            "0 0.3 0.7\n",
            "0 0 1\n",
            "0.6 0.4 0\n"
          ]
        }
      ]
    },
    {
      "cell_type": "code",
      "source": [
        "calculate_event(n_states, states, initial_dist, transition_matrix)"
      ],
      "metadata": {
        "colab": {
          "base_uri": "https://localhost:8080/"
        },
        "id": "moktfHj9gHPD",
        "outputId": "842199f8-d969-43bc-b605-a97675a9e80e"
      },
      "execution_count": null,
      "outputs": [
        {
          "name": "stdout",
          "output_type": "stream",
          "text": [
            "Da la cantidad de posiciones fijas: 2\n",
            "Da las posiciones fijas (recordar el formato es tiempo de la variable valor en el que está fija):\n",
            "0 0\n",
            "2 1\n"
          ]
        },
        {
          "output_type": "execute_result",
          "data": {
            "text/plain": [
              "0.055999999999999994"
            ]
          },
          "metadata": {},
          "execution_count": 28
        }
      ]
    },
    {
      "cell_type": "code",
      "source": [
        "calculate_event(n_states, states, initial_dist, transition_matrix)"
      ],
      "metadata": {
        "colab": {
          "base_uri": "https://localhost:8080/"
        },
        "id": "uXtRjQYqhOPy",
        "outputId": "2dd50b06-b55d-47aa-8826-7d23c1c02984"
      },
      "execution_count": null,
      "outputs": [
        {
          "name": "stdout",
          "output_type": "stream",
          "text": [
            "Da la cantidad de posiciones fijas: 1\n",
            "Da las posiciones fijas (recordar el formato es tiempo de la variable valor en el que está fija):\n",
            "2 1\n"
          ]
        },
        {
          "output_type": "execute_result",
          "data": {
            "text/plain": [
              "0.31"
            ]
          },
          "metadata": {},
          "execution_count": 29
        }
      ]
    },
    {
      "cell_type": "markdown",
      "source": [
        "<p align=\"justify\"> Aunque realmente la ventaja de este algoritmo se ve en eventos con separaciones grandes, como lo podría ser $(X_{0} = 1, X_{9} = 2, X_{34} = 0, X_{245} = 1)$."
      ],
      "metadata": {
        "id": "XLyaRPrtjlll"
      }
    },
    {
      "cell_type": "code",
      "source": [
        "calculate_event(n_states, states, initial_dist, transition_matrix)"
      ],
      "metadata": {
        "colab": {
          "base_uri": "https://localhost:8080/"
        },
        "id": "TeJunzJEoJc7",
        "outputId": "1bba54d3-0157-4dad-cc00-2fca86d34c0c"
      },
      "execution_count": null,
      "outputs": [
        {
          "name": "stdout",
          "output_type": "stream",
          "text": [
            "Da la cantidad de posiciones fijas: 4\n",
            "Da las posiciones fijas (recordar el formato es tiempo de la variable valor en el que está fija):\n",
            "0 1\n",
            "9 2\n",
            "34 0\n",
            "245 1\n"
          ]
        },
        {
          "output_type": "execute_result",
          "data": {
            "text/plain": [
              "0.01951410105185473"
            ]
          },
          "metadata": {},
          "execution_count": 33
        }
      ]
    },
    {
      "cell_type": "markdown",
      "source": [
        "# Distribuciones en n Pasos"
      ],
      "metadata": {
        "id": "imkzPc3lqf-4"
      }
    },
    {
      "cell_type": "markdown",
      "source": [
        "<p align=\"justify\"> Ahora que tenemos una manera de calcular transiciones en n pasos, es sencillo averiguar la probabilidad de estar en un estado al tiempo $t$. Por ejemplo, si $S = \\{0,1,2\\}$, entonces la probabilidad de estar en el estado 1 al tiempo 10 lo podemos calcular como $Π_{0}(0)*p^{10}(0,1) + Π_{0}(1)*p^{10}(1,1) + Π_{0}(2)*p^{10}(2,1)$, lo cual era algo que ya eramos capaces de calcular expresándolo como el evento $(X_{10} = 1)$ y pensándolo como un evento no enraizado.\n",
        "\n",
        "<p align=\"justify\"> Sin embargo, ahora nos preguntamos no por la probabilidad de estar en un estado a un tiempo $t$ si no por la distribución de estar en algún estado al tiempo $t$, es decir por:\n",
        "\n",
        "\\begin{equation*}\n",
        "Π_{t} = (P(X_{t} = 0), P(X_{t} = 1), ⋯, P(X_{t} = n))\n",
        "\\end{equation*}\n",
        "\n",
        "<p align=\"justify\"> Recordando que las columnas de la matriz $P^{t}$ pueden ser vistas como los vectores de la probabilidad de transicionar a un cierto estado, podemos ahora reponderarlos con la matriz $Π_{0}$ y así obtener precisamente la matriz $Π_{t}$.\n",
        "\n",
        "\\begin{equation*}\n",
        "Π_{t} = Π_{0}*P^{t}\n",
        "\\end{equation*}\n"
      ],
      "metadata": {
        "id": "ak3jm4eYqm_g"
      }
    },
    {
      "cell_type": "code",
      "source": [
        "def distribution_n_steps(initial_dist, transition_matrix):\n",
        "  n_steps = int(input(\"Da el tiempo de la distribución deseada: \"))\n",
        "\n",
        "  powers = calculate_powers_of_two(transition_matrix, n_steps)\n",
        "  return matrix_multiplication([initial_dist], binary_exponentiation(transition_matrix, n_steps, powers))"
      ],
      "metadata": {
        "id": "dF1w7MWx4YW7"
      },
      "execution_count": null,
      "outputs": []
    },
    {
      "cell_type": "markdown",
      "source": [
        "<p align=\"justify\"> Ejemplo:\n",
        "\n",
        "<p align=\"justify\"> Supóngase se tiene un inventario en el que se pueden tener 0, 1 o 2 productos. Si la distribución inicial es $Π_{0} = (0.5, 0, 0.5)$ y la matriz de transición es:\n",
        "\n",
        "\\begin{equation*}\n",
        "\\begin{bmatrix}\n",
        "    0.1 & 0.4 & 0.5\\\\\n",
        "    0.5 & 0.5 & 0\\\\\n",
        "    0.1 & 0.4 & 0.5\n",
        "\\end{bmatrix}\n",
        "\\end{equation*}\n",
        "\n",
        "<p align=\"justify\"> ¿Cuál es la cantidad de productos que esperamos que haya al tercer día en el inventario?\n",
        "\n",
        "<p align=\"justify\"> Para resolver este problema note que debemos calcular antes que nada la probabilidad de tener 0, 1 o 2 productos al tercer día, para posteriormente poder tomar el valor esperado."
      ],
      "metadata": {
        "id": "ArIsasjx4ryG"
      }
    },
    {
      "cell_type": "code",
      "source": [
        "def calculate_expected_value(n_states, distribution):\n",
        "  expected_value = 0\n",
        "  for i in range(n_states):\n",
        "    expected_value += i * distribution[0][i]\n",
        "\n",
        "  return expected_value"
      ],
      "metadata": {
        "id": "d4ltfy2D6GBi"
      },
      "execution_count": null,
      "outputs": []
    },
    {
      "cell_type": "code",
      "source": [
        "n_states, states, initial_dist, transition_matrix = initialize_chain()\n",
        "distribution = distribution_n_steps(initial_dist, transition_matrix)\n",
        "print(\"La distribución es: \", distribution)\n",
        "print(\"El valor esperado es: \", calculate_expected_value(n_states, distribution))"
      ],
      "metadata": {
        "colab": {
          "base_uri": "https://localhost:8080/"
        },
        "id": "XV5kfovO61yg",
        "outputId": "08b7603f-1da1-49f4-d8be-f73c94240014"
      },
      "execution_count": null,
      "outputs": [
        {
          "output_type": "stream",
          "name": "stdout",
          "text": [
            "Da la cantidad de estados: 3\n",
            "Da la distribucón inicial:\n",
            "0.5 0 0.5\n",
            "Da la matriz de transicion:\n",
            "0.1 0.4 0.5\n",
            "0.5 0.5 0\n",
            "0.1 0.4 0.5\n",
            "Da el tiempo de la distribución deseada: 3\n",
            "La distribución es:  [[0.276, 0.44400000000000006, 0.28]]\n",
            "El valor esperado es:  1.004\n"
          ]
        }
      ]
    },
    {
      "cell_type": "markdown",
      "source": [
        "# Ejemplo Urna de Eherenfest"
      ],
      "metadata": {
        "id": "i9ojt18M9BqR"
      }
    },
    {
      "cell_type": "markdown",
      "source": [
        "<figure>\n",
        "<center>\n",
        "<img src=\"https://drive.google.com/uc?id=1su3J91WwBbCf8Jso8AgpPkjh4rXV1hKx\"\n",
        "width = 450/>\n",
        "<figcaption></figcaption>Urna de Ehrenfest</center>\n",
        "</figure>"
      ],
      "metadata": {
        "id": "oYFJKfNF9SCp"
      }
    },
    {
      "cell_type": "markdown",
      "source": [
        "<p align=\"justify\"> Supóngase hay dos urnas, A y B, y que hay d esferas numeradas del 1 a $d$. Nos interesará estudiar la cantidad de esferas que hay en la urna A después de $n$ ensayos, donde un ensayo consiste en elegir una bola de forma aleatoria e intercambiarla de caja.\n",
        "\n",
        "<p align=\"justify\"> Note en nuestro vocabulario, tenemos que la variable aleatoria $X_{n} \\equiv$ Número de esferas en la urna A en el ensayo $n$. Y además el espacio de estados es $S = \\{0, \\cdots, d\\}$. Para ver la cadena es de Markov, observe además que el valor de la variable $X_{n+1}$ sólo depende del valor de $X_{n}$ ya que si $X_{n} = i$, luego $X_{n+1}$ puede ser $i -1$ o $i +1$.\n",
        "\n",
        "<p align=\"justify\"> Calculemos ahora las probabilidades de transición, que por lo anterior mencionado sólo requerirá calcular la probabilidad de aumentar en uno o disminuir en uno, teniendo cualquier otra transición con probabilidad 0.\n",
        "\n",
        "\\begin{align*}\n",
        "p(x, x - 1) &= P(X_{n+1} = x - 1 | X_{n} = x) = \\frac{x}{d}\\\\\n",
        "p(x, x + 1) &= P(X_{n+1} = x + 1 | X_{n} = x) = \\frac{d -x}{d}\n",
        "\\end{align*}\n",
        "\n",
        "<p align=\"justify\"> Como ejemplo de la forma que adquiere la matriz de transición, si $d$ = 3 tenemos:\n",
        "\n",
        "\\begin{equation*} P =\n",
        "\\begin{bmatrix}\n",
        "    0 & 1 & 0 & 0\\\\\n",
        "    \\frac{1}{3} & 0 & \\frac{2}{3} & 0\\\\\n",
        "    0 & \\frac{2}{3} & 0 & \\frac{1}{3}\\\\\n",
        "    0 & 0 & 1 & 0\n",
        "\\end{bmatrix}\n",
        "\\end{equation*}\n",
        "\n",
        "<p align=\"justify\"> Ejercicio:\n",
        "\n",
        "<p align=\"justify\"> Considere la cadena de Eherenfest con $d = 100$. Calcular el promedio de esferas en la urna A en el ensayo número 500. Además, supóngase inicialmente hay 5 esferas en urna A.\n",
        "\n",
        "<p align=\"justify\"> Para resolver este problema nos aprovecharemos tenemos una forma de describir las probabilidades de transición para poder generar la matriz de transición de forma automática.\n"
      ],
      "metadata": {
        "id": "ZzWjlbhwueCZ"
      }
    },
    {
      "cell_type": "code",
      "source": [
        "def rule_eherenfest(x, y, d):\n",
        "  if y == x - 1:\n",
        "    return x / d\n",
        "  elif y == x + 1:\n",
        "    return (d - x) / d\n",
        "  else:\n",
        "    return 0\n",
        "\n",
        "def generate_ehrenfest(d):\n",
        "  transition_matrix = []\n",
        "\n",
        "  for i in range(d +1):\n",
        "    row = []\n",
        "    for j in range(d +1):\n",
        "      row.append(rule_eherenfest(i, j, d))\n",
        "    transition_matrix.append(row)\n",
        "\n",
        "  return transition_matrix"
      ],
      "metadata": {
        "id": "hYquXaMN0c9u"
      },
      "execution_count": null,
      "outputs": []
    },
    {
      "cell_type": "code",
      "source": [
        "n_states = 101\n",
        "initial_dist = [0 for i in range(101)]\n",
        "initial_dist[5] = 1\n",
        "transition_matrix = generate_ehrenfest(100)\n",
        "distribution = distribution_n_steps(initial_dist, transition_matrix)\n",
        "print(\"El valor esperado es: \", calculate_expected_value(n_states, distribution))"
      ],
      "metadata": {
        "colab": {
          "base_uri": "https://localhost:8080/"
        },
        "id": "-2kavzPk1hC8",
        "outputId": "db90cb3a-3e38-424e-d6e3-7ad62c7a1122"
      },
      "execution_count": null,
      "outputs": [
        {
          "output_type": "stream",
          "name": "stdout",
          "text": [
            "Da el tiempo de la distribución deseada: 500\n",
            "El valor esperado es:  49.998153920668905\n"
          ]
        }
      ]
    },
    {
      "cell_type": "markdown",
      "source": [
        "# Ejemplo Cadena de Nacimiento y Muerte"
      ],
      "metadata": {
        "id": "ydwVQlSb9MlC"
      }
    },
    {
      "cell_type": "markdown",
      "source": [
        "<figure>\n",
        "<center>\n",
        "<img src=\"https://drive.google.com/uc?id=1t-DC53moqy-zr4rFjDJlW0IXvH7Vo0Is\"\n",
        "width = 650/>\n",
        "<figcaption></figcaption>Cadena de Nacimiento y Muerte</center>\n",
        "</figure>"
      ],
      "metadata": {
        "id": "--mD1XVs3UON"
      }
    },
    {
      "cell_type": "markdown",
      "source": [
        "<p align=\"justify\"> De forma similar a lo que pasaba en la cadena de Ehrenfest en la que sólo nos era posible transicionar a dos estados, pudiendo entenderlos como aumentar o disminuir la cantidad en uno, las cadenas de nacimiento y muerte son una generalización en la que sólo hay tres transiciones posibles, moverse hacia adelante, atrás o quedarse en el mismo lugar; representadas en la imagen por las probabilidades $p, q$ y $r$ respectivamente. Sin embargo, en general en una cadena de nacimiento y muerte podemos elegir libremente dichas probabilidades y cambiarlas para cada estado, por lo que tenemos arreglos para las probabilidades $[p_{0}, p_{1}, \\cdots, p_{n-1}, p_{n}]$, $[q_{0}, q_{1}, \\cdots, q_{n}]$ y $[r_{0}, r_{1}, \\cdots, r_{n}]$ que satisfacen $p_{i} + q_{i} + r_{i} = 1$ con la condición adicional si $i$ es el estado mínimo o máximo, entonces $q_{i} = 0$ o $p_{i} = 0$ respectivamente.\n",
        "\n",
        "<p align=\"justify\"> Visualizando su matriz de transición tenemos:\n",
        "\n",
        "\\begin{equation*} P =\n",
        "\\begin{bmatrix}\n",
        "    r_{0} & p_{0} & 0 & 0 & ⋯ & 0 & 0\\\\\n",
        "    q_{1} & r_{1} & p_{1} & 0 & ⋯ & 0 & 0\\\\\n",
        "    0 & q_{2} & r_{2} & p_{2} & ⋯ & 0 & 0\\\\\n",
        "    \\vdots & \\vdots & \\vdots & \\vdots & & \\vdots & \\vdots\\\\\n",
        "    0 & 0 & 0 & 0 &  \\cdots & q_{n} & r_{n}\n",
        "\\end{bmatrix}\n",
        "\\end{equation*}\n",
        "\n",
        "<p align=\"justify\"> Ejercicio:\n",
        "\n",
        "<p align=\"justify\"> Considere la cadena de nacimiento y muerte de estados $S = \\{0,1,2,3,4,5\\}$ con arreglos de probabilidades:\n",
        "\n",
        "\\begin{align*}\n",
        "p &= [0.7, 0.2, 0.6, 0.5, 0.3, 0]\\\\\n",
        "q &= [0, 0.2, 0.1, 0.5, 0.7, 0.6]\\\\\n",
        "r &= [0.3, 0.6, 0.3, 0, 0, 0.4]\n",
        "\\end{align*}\n",
        "\n",
        "<p align=\"justify\"> Calcular la distribución del tiempo 20 si la distribución inicial es $[1, 0, 0, 0, 0, 0]$ y si la distribución inicial es $[0, 0, 0, 0, 0, 1]$."
      ],
      "metadata": {
        "id": "2namQRp43cgH"
      }
    },
    {
      "cell_type": "code",
      "source": [
        "def rule_birth_death(x, y, p_array, q_array, r_array):\n",
        "  if y == x:\n",
        "    return r_array[x]\n",
        "  elif y == x - 1:\n",
        "    return q_array[x]\n",
        "  elif y == x + 1:\n",
        "    return p_array[x]\n",
        "  else:\n",
        "    return 0\n",
        "\n",
        "def generate_birth_death(p_array, q_array, r_array):\n",
        "  n_states = len(r_array)\n",
        "  transition_matrix = []\n",
        "\n",
        "  for i in range(n_states):\n",
        "    row = []\n",
        "    for j in range(n_states):\n",
        "      row.append(rule_birth_death(i, j, p_array, q_array, r_array))\n",
        "    transition_matrix.append(row)\n",
        "\n",
        "  return transition_matrix"
      ],
      "metadata": {
        "id": "J6clDZCVObSt"
      },
      "execution_count": null,
      "outputs": []
    },
    {
      "cell_type": "code",
      "source": [
        "initial_dist = [0 for i in range(6)]\n",
        "initial_dist[0] = 1\n",
        "transition_matrix = generate_birth_death([0.7, 0.2, 0.6, 0.5, 0.3, 0], [0, 0.2, 0.1, 0.5, 0.7, 0.6], [0.3, 0.6, 0.3, 0, 0, 0.4])\n",
        "distribution = distribution_n_steps(initial_dist, transition_matrix)\n",
        "print(\"La distribución es: \")\n",
        "print_matrix(distribution)\n",
        "initial_dist = [0 for i in range(6)]\n",
        "initial_dist[-1] = 1\n",
        "distribution = distribution_n_steps(initial_dist, transition_matrix)\n",
        "print(\"La distribución es: \")\n",
        "print_matrix(distribution)"
      ],
      "metadata": {
        "colab": {
          "base_uri": "https://localhost:8080/"
        },
        "id": "ffiZx666dBp3",
        "outputId": "078c2872-3bd7-4cac-fd53-9284c8fafcc3"
      },
      "execution_count": null,
      "outputs": [
        {
          "output_type": "stream",
          "name": "stdout",
          "text": [
            "Da el tiempo de la distribución deseada: 20\n",
            "La distribución es: \n",
            "0.0442446015977718 0.1475791809170748 0.2409553405164846 0.27816384638976666 0.19434504218239543 0.09471198839650662 \n",
            "Da el tiempo de la distribución deseada: 20\n",
            "La distribución es: \n",
            "0.03157066279883553 0.11295785249061546 0.24111767331726347 0.29779988171284455 0.20929171769010735 0.1072622119903333 \n"
          ]
        }
      ]
    },
    {
      "cell_type": "markdown",
      "source": [
        "# Tiempos de Alcance"
      ],
      "metadata": {
        "id": "T88aRA6lAI9m"
      }
    },
    {
      "cell_type": "markdown",
      "source": [
        "<p align=\"justify\"> Ahora que podemos calcular las probabilidades de eventos en una cadena de Markov, decidimos cambiar la pregunta y fijarnos no en la probabilidad de que un evento suceda sino en la probabilidad de que suceda en algún tiempo dado por primera vez.\n",
        "\n",
        "<p align=\"justify\"> Para apreciar la diferencia note que cuando nos preguntamos por la probabilidad de un evento, nosotros teníamos que dar algunos valores fijos para ciertas variables aleatorias del proceso. Es decir, de alguna forma ya estábamos fijando el momento en que las cosas sucediesen a partir claro del instante considerado como el tiempo cero. Sin embargo, conocer de antemano éstos tiempos en los que estemos en estados que nos sean de interés puede llegar a ser imposible.\n",
        "\n",
        "<p align=\"justify\"> Por ejemplo, supóngase que se tiene un cierto capital inicial de 4 unidades y se empezará a invertir, de modo que con cada acción ganamos o perdemos dinero. Dentro de este contexto hay entonces dos escenarios de los cuales nos interesaría saber sus probabilidades, los cuales son alcanzar una cierta meta de capital (como podría serlo alcanzar el valor 10) o caer en ruina con un capital de 0.\n",
        "\n",
        "<p align=\"justify\"> Como se puede apreciar los tiempos en los que se alcanza cualquiera de esos estados es desconocido y por tanto no nos es de tanta relevancia calcular la probabilidad $P(X_{20} = 0)$ por ejemplo, ya que nada nos asegura preguntarnos específicamente por el tiempo 20 sea de relevancia. Además, estamos interesados en obtener la probabilidad de alcanzar un estado por primera vez y la forma en la que hasta ahora hemos calculado probabilidades toma en cuenta todos los posibles caminos, lo que significa en pasos intermedios pudo haber sido hayamos caído ya en algún estado de interés. Por lo tanto necesitamos una nueva manera o variante para resolver dichas preguntas.\n",
        "\n",
        "<p align=\"justify\"> Denotemos entonces por $T_{A}$ a la variable aleatoria con rango $\\{0, 1, \\cdots, ∞\\}$ que representa el primer tiempo en el que se alcanza un estado en $A ⊆ S$. Con notación sería:\n",
        "\n",
        "\\begin{equation*}\n",
        "T_{A} := inf\\{t ≥ 1: X_{t} \\in A\\}\n",
        "\\end{equation*}\n",
        "\n",
        "<p align=\"justify\"> Respecto a la definición, note que los tiempos que consideramos son mayores o iguales a 1, esto simplemente para evitar la respuesta trivial alcanzamos un estado en $A$ por que iniciamos en $A$.\n",
        "\n",
        "<p align=\"justify\"> Ahora bien, dada esta nueva variable aleatoria, por el momento queremos en particular estudiarla para los casos en los que $A$ solamente contiene a un estado, $A = \\{y\\}$, $y \\in S$; lo cual por abuso de notación escribiremos $T_y$.\n",
        "\n",
        "<p align=\"justify\"> En el siguiente código mostramos como encontrar $T_{10}$ y $T_{0}$ para una simulación de parte de una cadena de Markov que representa nuestro escenario de inversión. Note como las variables $X_{n}$ ya tienen valores fijos en realidad sólo estamos buscando el primer momento en que se alcanzaron los estados de interés, sin embargo lo mostramos con el propósito de ilustrar el concepto detrás de nuestra nueva pregunta."
      ],
      "metadata": {
        "id": "wI7y8XJCANXN"
      }
    },
    {
      "cell_type": "code",
      "source": [
        "def find_reach_simulation(values, key):\n",
        "  for i in range(len(values)):\n",
        "    if values[i] == key:\n",
        "      return i\n",
        "  return -1"
      ],
      "metadata": {
        "id": "4oPOUVC7Kx6z"
      },
      "execution_count": null,
      "outputs": []
    },
    {
      "cell_type": "code",
      "source": [
        "from random import choice, randint, seed\n",
        "import matplotlib.pyplot as plt\n",
        "import numpy as np\n",
        "\n",
        "seed(68)\n",
        "\n",
        "times = [0]\n",
        "values = [4]\n",
        "disturbance = [2, -2]\n",
        "\n",
        "for i in range(30):\n",
        "  times.append(times[-1] + 1)\n",
        "  values.append(values[-1] + choice(disturbance))\n",
        "\n",
        "reach_0 = find_reach_simulation(values, 0)\n",
        "print(\"El primer tiempo en el que alcanzamos el estado 0 es: \", reach_0)\n",
        "reach_10 = find_reach_simulation(values, 10)\n",
        "print(\"El primer tiempo en el que alcanzamos el estado 10 es: \", reach_10)\n",
        "\n",
        "plt.plot(times, values)\n",
        "plt.xlabel(\"Tiempo\")\n",
        "plt.ylabel(\"Presupuesto\")\n",
        "plt.plot(np.linspace(0, 30, 30), np.zeros(30), linestyle='dashed')\n",
        "plt.plot(np.linspace(0, 30, 30), [10 for i in range(30)], linestyle='dashed')\n",
        "\n",
        "plt.plot(reach_0, 0, marker='o', color='red')\n",
        "plt.plot(reach_10, 10, marker='o', color='green')\n",
        "\n",
        "plt.show()\n"
      ],
      "metadata": {
        "colab": {
          "base_uri": "https://localhost:8080/",
          "height": 485
        },
        "id": "OPDMyCoICsiH",
        "outputId": "4080c164-2298-4985-ab29-05cdcf0da340"
      },
      "execution_count": null,
      "outputs": [
        {
          "output_type": "stream",
          "name": "stdout",
          "text": [
            "El primer tiempo en el que alcanzamos el estado 0 es:  6\n",
            "El primer tiempo en el que alcanzamos el estado 10 es:  21\n"
          ]
        },
        {
          "output_type": "display_data",
          "data": {
            "text/plain": [
              "<Figure size 640x480 with 1 Axes>"
            ],
            "image/png": "[encoded data removed]"
          },
          "metadata": {}
        }
      ]
    },
    {
      "cell_type": "markdown",
      "source": [
        "<p align=\"justify\"> Como es de esperarse en general no podremos calcular explícitamente el valor de la variable $T_{y}$ puesto que de lo contrario no sería aleatoria y más bien estaremos interesados en calcular por ejemplo su esperanza. Pero para poder llevar a cabo cualquiera de esos cálculos, es necesario entonces calcular las probabilidades para los valores puntuales de $T_{y}$.\n",
        "\n",
        "<p align=\"justify\"> Ahora bien, observe tal como lo hacíamos en el cálculo de probabilidades de eventos, nos facilita el trabajo tener un punto de partida para poder comenzar a trazar caminos, lo cual recuerde no representa ningún problema ya que si juntamos las probabilidades para todos los comienzos diferentes obtenemos la probabilidad general. Es por ello que decidimos centrarnos en lugar de calcular $P(T_{y} = t)$, mejor calcular $P(T_{y} = t | X_{0} = x)$, lo cual abreviaremos como $P_{x}(T_{y} = t)$.\n",
        "\n",
        "<p align=\"justify\"> Para calcular dicha probabilidad nótese para garantizar el estado $y$ se visita por primera vez en el tiempo $t$, al igual que antes sólo tenemos que generar todos los posibles caminos, con la única restricción no se permita transitar a $y$ antes del tiempo $t$. Por ejemplo, para $P_{x}(T_{y} = 3)$ tenemos:\n",
        "\n",
        "\\begin{equation*}\n",
        "P_{x}(T_{y} = 3) = Σ_{z_{2} \\neq y} Σ_{z_{1} \\neq y} p(x, z_{1})*p(z_{1}, z_{2})*p(z_{2}, y)\n",
        "\\end{equation*}\n",
        "\n",
        "<p align=\"justify\"> De esta última expresión es inmediato el darse cuenta si quisiéramos calcular la probabilidad de esta manera, tendríamos que calcular la probabilidad para un número exponencial de eventos disjuntos ya que al igual que antes estaríamos recreando \"casi\" todas las rutas. Lamentablemente, en este problema no podemos simplemente usar nuestro enfoque de repesar la matriz de transición de la cadena ya que los repesajes toman en cuenta la posible transición por el estado $y$. Lo que estamos entonces buscando, es alguna manera de poder calcular rápidamente, posiblemente por medio de repesajes, una transición que no tome en cuenta a $y$. Para ello, hagamos las siguientes observaciones.\n",
        "\n",
        "<p align=\"justify\"> La primera observación, es que a partir de la expresión anterior, las probabilidades de tiempo de alcance pueden ser calculadas hasta cierto punto y vistas como un tiempo de alcance a menor distancia con un nuevo punto inicial.\n",
        "\n",
        "\\begin{equation*}\n",
        "P_{x}(T_{y} = 3) = Σ_{z_{1} \\neq y} p(x, z_{1})*P_{z_{1}}(T_{y} = 2)\n",
        "\\end{equation*}\n",
        "\n",
        "<p align=\"justify\"> Además, como caso especial tenemos el tiempo de alcance de un estado cuando transcurre solamente una unidad de tiempo es meramente la probabilidad de transición entre los estados:\n",
        "\n",
        "\\begin{equation*}\n",
        "P_{x}(T_{y} = 1) = p(x, y)\n",
        "\\end{equation*}\n",
        "\n",
        "<p align=\"justify\"> Juntando ambas observaciones es que se nos ocurre particionar el alcanzar un estado $y$ como la probabilidad de moverse en un grafo sin transiciones a $y$ y posteriormente habilitar la transición a $y$ en un único paso.\n",
        "\n",
        "<p align=\"justify\"> La matriz entonces que proponemos como aquella que nos ayudará a calcular las probabilidades en n-pasos en la misma cadena de Markov pero sin $y$ es la matriz de transición de la cadena con la columna del estado $y$ siendo completamente ceros (Note la fila no debe hacerse ceros ya que si el estado inicial del que partimos es $y$ nos estaríamos condenando a no salir y solamente queremos restringir los estado se muevan a $y$). Note esta nueva matriz ya no necesariamente es estocástica, por lo que por su cuenta no representa una cadena de Markov, sin embargo sí representa una dinámica cerrada en ésta, lo cual es lo que nos importa.\n",
        "\n",
        "<p align=\"justify\"> Luego si nombramos a ésta matriz $R$, podemos calcular la probabilidad de $P_{x}(T_{y} = t)$ como la suma de todas las transiciones en $t-1$-pasos de $x$ a $z$ en el grafo reducido multiplicadas por la probabilidad de transicionar de $z$ a $y$ en la cadena sin restricción, lo que en notación sería $Σ_{z \\neq y} R^{t-1}_{x,z}*p(z,y)$.\n",
        "\n",
        "<p align=\"justify\"> El desarrollo algebraico se realiza abajo para el caso $P_{x}(T_{y} = 4)$ y puede ser fácilmente generalizado.\n",
        "\n",
        "\\begin{align*}\n",
        "P_{x}(T_{y} = 4) &= Σ_{z_{3} \\neq y} Σ_{z_{2} \\neq y} Σ_{z_{1} \\neq y} p(x, z_{1})*p(z_{1}, z_{2})*p(z_{2}, z_{3})*p(z_{3}, y)\\\\\n",
        "&= Σ_{z_{3} \\neq y} P_{z_{3}}(T_{y} = 1) Σ_{z_{2} \\neq y} Σ_{z_{1} \\neq y} p(x, z_{1})*p(z_{1}, z_{2})*p(z_{2}, z_{3})\\\\\n",
        "&=Σ_{z_{3} \\neq y}P_{z_{3}}(T_{y} = 1)*R^{3}_{x,z_{3}}\\\\\n",
        "&=Σ_{z_{3} \\neq y}p(z_{3}, y)*R^{3}_{x,z_{3}}\n",
        "\\end{align*}\n",
        "\n",
        "<p align=\"justify\"> Como un extra, note que el enfoque de resolver el problema por medio de repesajes nos permite obtener de golpe también los tiempos de alcance para el estado $y$ en $t$ unidades de tiempo para cualquier estado inicial si decidimos repesar el vector de transición al estado $y$ con la matriz $R^{t-1}$.\n",
        "\n",
        "\\begin{equation*}\n",
        "\\begin{bmatrix}\n",
        "    p(0,0) & p(0,1) & ⋯ & p(0, y-1) & 0 & \\cdots & p(0,n) \\\\\n",
        "    p(1,0) & p(1,1) & ⋯ & p(1, y-1) & 0 & \\cdots & p(1,n)\\\\\n",
        "    \\vdots & \\vdots & & \\vdots & \\vdots & & \\vdots\\\\\n",
        "    p(y,0) & p(y,1) & ⋯ & p(y, y-1) & 0 & \\cdots & p(y,n)\\\\\n",
        "    \\vdots & \\vdots &  & \\vdots & \\vdots &  & \\vdots\\\\\n",
        "    p(n,0) & p(n,1) & ⋯ & p(n, y-1) & 0 & \\cdots & p(n,n)\n",
        "\\end{bmatrix}^{t-1}\n",
        "\\begin{bmatrix}\n",
        "    p(0,y)\\\\\n",
        "    p(1,y)\\\\\n",
        "    \\vdots\\\\\n",
        "    p(n,y)\n",
        "\\end{bmatrix}\n",
        "\\end{equation*}"
      ],
      "metadata": {
        "id": "G5YEVMsn210p"
      }
    },
    {
      "cell_type": "markdown",
      "source": [
        "## Código Tiempos de Alcance"
      ],
      "metadata": {
        "id": "0hYBneOiBCW4"
      }
    },
    {
      "cell_type": "markdown",
      "source": [
        "<p align=\"justify\"> El siguiente código usa el método que anteriormente describimos, encontrando la matriz reducida y posteriormente haciendo uso de nuestra función para elevar matrices la cual posteriormente se usa para calcular el único valor deseado $P_{x}(T_{y} = t)$, aunque se puede modificar fácilmente a devolver el vector ponderado de dichas probabilidades para todo valor inicial $x$."
      ],
      "metadata": {
        "id": "7uiMe9ynBKuf"
      }
    },
    {
      "cell_type": "code",
      "source": [
        "def conditional_prob_reaching_time(initial_state, reach_state, time,\n",
        "                                   transition_matrix, n_states):\n",
        "\n",
        "  reduced_matrix = [[0 if j == reach_state\n",
        "                     else transition_matrix[i][j] for j in range(n_states)]\n",
        "                     for i in range(n_states)]\n",
        "\n",
        "  powers = calculate_powers_of_two(reduced_matrix, time - 1)\n",
        "  reduced_matrix_exp = binary_exponentiation(reduced_matrix, time - 1, powers)\n",
        "\n",
        "  prob = 0\n",
        "  for state in range(n_states):\n",
        "    prob += reduced_matrix_exp[initial_state][state] * transition_matrix[state][reach_state]\n",
        "\n",
        "  return prob"
      ],
      "metadata": {
        "id": "vqL-0ueWClNQ"
      },
      "execution_count": null,
      "outputs": []
    },
    {
      "cell_type": "markdown",
      "source": [
        "## Complejidad"
      ],
      "metadata": {
        "id": "w0htZqgCnyhI"
      }
    },
    {
      "cell_type": "markdown",
      "source": [
        "<p align=\"justify\"> Dado que nuestro código se basa en nuestra función para elevar matrices, tenemos la complejidad de la función $\\textit{conditional_prob_reaching_time}$ es $O(\\log_{2}(t-1)*n^{3} + n^{2} + n)$, donde el término al cuadrado es por la creación de la matriz reducida y el termino lineal por el cálculo de la probabilidad. En general esto es $O(\\log_{2}(t-1)*n^{3})$."
      ],
      "metadata": {
        "id": "iSdg27tkn3AX"
      }
    },
    {
      "cell_type": "markdown",
      "source": [
        "## Ejemplo 1"
      ],
      "metadata": {
        "id": "6VZlx9C8E0p_"
      }
    },
    {
      "cell_type": "markdown",
      "source": [
        "<p align=\"justify\"> Tomando nuestra cadena de Markov para la máquina, supóngase queremos encontrar la probabilidad que dado nuestra máquina está descompuesta, vuelva a descomponerse hasta el día 30, es decir $P_{0}(T_{0} = 30)$.\n",
        "\n",
        "<figure>\n",
        "<center>\n",
        "<img src=\"https://drive.google.com/uc?id=1u-9WnFG3GxJuNak3pKuRoLpNwmuLtQpt\"\n",
        "width = 350/>\n",
        "<figcaption></figcaption>Cadena Máquina</center>\n",
        "</figure>"
      ],
      "metadata": {
        "id": "LST6iod-FcfX"
      }
    },
    {
      "cell_type": "code",
      "source": [
        "n_states, states, initial_dist, transition_matrix = initialize_chain()"
      ],
      "metadata": {
        "colab": {
          "base_uri": "https://localhost:8080/"
        },
        "id": "Anasn4EiJTNs",
        "outputId": "ac025453-0b68-46be-fd16-81ea67a95a12"
      },
      "execution_count": null,
      "outputs": [
        {
          "name": "stdout",
          "output_type": "stream",
          "text": [
            "Da la cantidad de estados: 2\n",
            "Da la distribucón inicial:\n",
            "0.5 0.5\n",
            "Da la matriz de transicion:\n",
            "0.6 0.4\n",
            "0.7 0.3\n"
          ]
        }
      ]
    },
    {
      "cell_type": "code",
      "source": [
        "initial_state = int(input(\"Da el estado inicial: \"))\n",
        "reach_state = int(input(\"Da el estado de alcance: \"))\n",
        "time = int(input(\"Da el tiempo de alcance: \"))\n",
        "print(\"La probabilidad es: \",\n",
        "      conditional_prob_reaching_time(initial_state, reach_state,\n",
        "                                     time, transition_matrix, n_states))"
      ],
      "metadata": {
        "colab": {
          "base_uri": "https://localhost:8080/"
        },
        "id": "DBga5gGcMSSi",
        "outputId": "b227d5e5-1ad7-4b6d-bbf6-7417cb62f636"
      },
      "execution_count": null,
      "outputs": [
        {
          "output_type": "stream",
          "name": "stdout",
          "text": [
            "Da el estado inicial: 0\n",
            "Da el estado de alcance: 0\n",
            "Da el tiempo de alcance: 30\n",
            "La probabilidad es:  6.405501887389076e-16\n"
          ]
        }
      ]
    },
    {
      "cell_type": "markdown",
      "source": [
        "<p align=\"justify\"> En este caso, para aquellos escépticos, podemos confirmar el resultado de forma teórica ya que la cantidad tan pequeña de estados facilita la obtención de una fórmula cerrada.\n",
        "\n",
        "<p align=\"justify\"> A continuación mostramos la probabilidad para unos cuantos valores de $t$, a partir de los cuales la obtención de la fórmula general es inmediata.\n",
        "\n",
        "\\begin{align*}\n",
        "P_{0}(T_{0} = 1) &= p(0,0)\\\\\n",
        "P_{0}(T_{0} = 2) &= p(0,1)*p(1,0)\\\\\n",
        "P_{0}(T_{0} = 3) &= p(0,1)*p(1,1)*p(1,0)\\\\\n",
        "P_{0}(T_{0} = 4) &= p(0,1)*p(1,1)*p(1,1)*p(1,0)\\\\\n",
        "&= p(0,1)*p(1,1)^{2}*p(1,0)\n",
        "\\end{align*}\n",
        "\n",
        "<p align=\"justify\"> En general entonces tenemos:\n",
        "\n",
        "\\begin{align*}\n",
        "P_{0}(T_{0} = t) &= p(0,1)*p(1,1)^{t-2}*p(1,0) \\text{, si } t ≥ 2\\\\\n",
        "P_{0}(T_{0} = 1) &= p(0,0)\n",
        "\\end{align*}\n",
        "\n",
        "<p align=\"justify\"> Por lo tanto $P_{0}(T_{0} = 30) = p(0,1)*p(1,1)^{28}*p(1,0) = 0.4 * (0.3)^{28} * 0.7$, lo cual es igual al resultado que obtuvimos.\n"
      ],
      "metadata": {
        "id": "DFApDzvqO0ft"
      }
    },
    {
      "cell_type": "markdown",
      "source": [
        "## Ejemplo 2"
      ],
      "metadata": {
        "id": "4PgL5He3lQC8"
      }
    },
    {
      "cell_type": "markdown",
      "source": [
        "<p align=\"justify\"> Supóngase se tiene un inventario inicialmente lleno, que puede contener 0,1 o 2 productos y que tiene como matriz de transición:\n",
        "\n",
        "\\begin{equation*}\n",
        "\\begin{bmatrix}\n",
        "    0.1 & 0.4 & 0.5\\\\\n",
        "    0.5 & 0.5 & 0\\\\\n",
        "    0.1 & 0.4 & 0.5\n",
        "\\end{bmatrix}\n",
        "\\end{equation*}\n",
        "\n",
        "<p align=\"justify\"> Calcular la probabilidad el inventario se vacíe en 4 días, es decir, $P_{2}(T_{0} = 4)$."
      ],
      "metadata": {
        "id": "WZhZM4q7lV1S"
      }
    },
    {
      "cell_type": "code",
      "source": [
        "n_states, states, initial_dist, transition_matrix = initialize_chain()"
      ],
      "metadata": {
        "colab": {
          "base_uri": "https://localhost:8080/"
        },
        "id": "UnpENXKimXvx",
        "outputId": "95f5b032-9d6a-43bb-ed70-979a2ee311cd"
      },
      "execution_count": null,
      "outputs": [
        {
          "name": "stdout",
          "output_type": "stream",
          "text": [
            "Da la cantidad de estados: 3\n",
            "Da la distribucón inicial:\n",
            "0 0 1\n",
            "Da la matriz de transicion:\n",
            "0.1 0.4 0.5\n",
            "0.5 0.5 0\n",
            "0.1 0.4 0.5\n"
          ]
        }
      ]
    },
    {
      "cell_type": "code",
      "source": [
        "initial_state = int(input(\"Da el estado inicial: \"))\n",
        "reach_state = int(input(\"Da el estado de alcance: \"))\n",
        "time = int(input(\"Da el tiempo de alcance: \"))\n",
        "print(\"La probabilidad es: \",\n",
        "      conditional_prob_reaching_time(initial_state, reach_state,\n",
        "                                     time, transition_matrix, n_states))"
      ],
      "metadata": {
        "colab": {
          "base_uri": "https://localhost:8080/"
        },
        "id": "WJ8ltFZNmn28",
        "outputId": "38e4913d-b6c3-4c0e-834f-cdd384ffc49b"
      },
      "execution_count": null,
      "outputs": [
        {
          "output_type": "stream",
          "name": "stdout",
          "text": [
            "Da el estado inicial: 2\n",
            "Da el estado de alcance: 0\n",
            "Da el tiempo de alcance: 4\n",
            "La probabilidad es:  0.16250000000000003\n"
          ]
        }
      ]
    },
    {
      "cell_type": "markdown",
      "source": [
        "## Otra Observación"
      ],
      "metadata": {
        "id": "rNX9rSmHnfYc"
      }
    },
    {
      "cell_type": "markdown",
      "source": [
        "Antes de continuar, hay algo importante que vale la pena resaltar. Note que a partir del ejemplo anterior."
      ],
      "metadata": {
        "id": "egkpf3QbI1Fn"
      }
    }
  ]
}