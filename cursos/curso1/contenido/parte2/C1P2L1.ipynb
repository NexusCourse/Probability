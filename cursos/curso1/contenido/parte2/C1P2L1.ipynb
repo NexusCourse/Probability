{
 "cells": [
  {
   "cell_type": "markdown",
   "metadata": {},
   "source": [
    "<div style=\"line-height: 0.4;\">\n",
    "    <h1 style=\"color: green; font-weight: bold; text-align: center;\"></h1>\n",
    "    <h1 style=\"color: green; font-weight: bold; text-align: center;\">PROBABILIDAD CONDICIONAL E INDEPENDENCIA</h1>\n",
    "    <h3 style=\"color: darkolivegreen; font-weight: bold; text-align: center;\">CURSO 1 (PROBABILIDAD I)</h3>\n",
    "    <h5 style=\"color: darkolivegreen; font-weight: bold; text-align: center;\">PARTE 1 / LECCIÓN 2</h5>\n",
    "</div>"
   ]
  },
  {
   "cell_type": "markdown",
   "metadata": {},
   "source": [
    "<h4 style=\"color: green; font-weight: bold; text-align: left;\">Ejercicio 1</h4>\n",
    "\n",
    "<h3>Lanzamiento de dos monedas</h3>\n",
    "Se lanzan dos monedas. Defina los eventos:\n",
    "<ul>\n",
    "    <li>A: La primera moneda muestra cara.\n",
    "    <li>B: Ambas monedas muestran el mismo resultado.\n",
    "</ul>       \n",
    "\n",
    "Calcule la probabilidad condicional $P(A \\mid B)$, es decir, la probabilidad de que la primera moneda sea cara, dado que ambas monedas muestran el mismo resultado."
   ]
  },
  {
   "cell_type": "code",
   "execution_count": 5,
   "metadata": {},
   "outputs": [
    {
     "name": "stdout",
     "output_type": "stream",
     "text": [
      "Ejercicio 1:\n",
      "P(A|B) = 0.50\n"
     ]
    }
   ],
   "source": [
    "# Espacio muestral: Todas las combinaciones posibles al lanzar dos monedas\n",
    "\n",
    "espacio_muestral = [(\"cara\", \"cara\"), (\"cara\", \"cruz\"), (\"cruz\", \"cara\"), (\"cruz\", \"cruz\")]\n",
    "    \n",
    "# Evento A: La primera moneda muestra \"cara\"\n",
    "evento_A = [outcome for outcome in espacio_muestral if outcome[0] == \"cara\"]\n",
    "    \n",
    "# Evento B: Ambas monedas muestran el mismo resultado\n",
    "evento_B = [outcome for outcome in espacio_muestral if outcome[0] == outcome[1]]\n",
    "    \n",
    "# Interseccion de A y B: Ambas monedas muestran el mismo resultado y la primera es \"cara\"\n",
    "interseccion_A_B = [outcome for outcome in evento_B if outcome in evento_A]\n",
    "    \n",
    "# Probabilidad condicional P(A|B)\n",
    "P_B = len(evento_B) / len(espacio_muestral)\n",
    "P_A_given_B = len(interseccion_A_B) / len(evento_B)\n",
    "    \n",
    "# Resultado\n",
    "print(\"Ejercicio 1:\")\n",
    "print(f\"P(A|B) = {P_A_given_B:.2f}\")"
   ]
  },
  {
   "cell_type": "markdown",
   "metadata": {},
   "source": [
    "<h4 style=\"color: green; font-weight: bold; text-align: left;\">Ejercicio 2</h4>\n",
    "\n",
    "<h3>Extracción de cartas de una baraja</h3>\n",
    "En una baraja estándar de 52 cartas, se extrae una carta al azar. Defina los eventos:\n",
    "<ul>\n",
    "    <li>A: La carta extraída es un as.\n",
    "    <li>B: La carta extraída pertenece al palo de corazones.        \n",
    "</ul>\n",
    "\n",
    "Calcule la probabilidad condicional $P(A \\mid B)$, es decir, la probabilidad de que la carta extraída sea un as, dado que pertenece al palo de corazones."
   ]
  },
  {
   "cell_type": "code",
   "execution_count": 7,
   "metadata": {},
   "outputs": [
    {
     "name": "stdout",
     "output_type": "stream",
     "text": [
      "Ejercicio 2:\n",
      "P(A|B) = 0.08\n"
     ]
    }
   ],
   "source": [
    "# Probabilidades individuales\n",
    "    \n",
    "P_B = 13 / 52  # Probabilidad de que la carta sea del palo de corazones\n",
    "P_A_and_B = 1 / 52  # Probabilidad de que la carta sea el as de corazones\n",
    "        \n",
    "# Probabilidad condicional P(A|B)\n",
    "P_A_given_B = P_A_and_B / P_B\n",
    "        \n",
    "# Resultado\n",
    "print(\"Ejercicio 2:\")\n",
    "print(f\"P(A|B) = {P_A_given_B:.2f}\")"
   ]
  },
  {
   "cell_type": "markdown",
   "metadata": {},
   "source": [
    "<h4 style=\"color: green; font-weight: bold; text-align: left;\">Ejercicio 3</h4>\n",
    "\n",
    "<h3>Regla Multiplicativa</h3>\n",
    "\n",
    "<p>Supongamos que en una urna hay 3 bolas rojas y 2 bolas azules. Se extraen dos bolas sin reemplazo. Defina los eventos:</p>\n",
    "\n",
    "<ul>\n",
    "    <li>A: La primera bola extraída es roja.</li>\n",
    "    <li>B: La segunda bola extraída es azul.</li>\n",
    "</ul>\n",
    "\n",
    "Usando la regla multiplicativa: $P(A \\cap B) = P(A)P(B \\mid A)$\n",
    "\n",
    "Calcule $P(A \\cap B)$, es decir, la probabilidad de que la primera bola sea roja y la segunda sea azul."
   ]
  },
  {
   "cell_type": "code",
   "execution_count": 11,
   "metadata": {},
   "outputs": [
    {
     "name": "stdout",
     "output_type": "stream",
     "text": [
      "Ejercicio 3:\n",
      "P(A ∩ B) = 0.30\n"
     ]
    }
   ],
   "source": [
    "# Probabilidad de extraer una bola roja en la primera extraccion\n",
    "P_A = 3 / 5  # Hay 3 bolas rojas de un total de 5\n",
    "    \n",
    "# Probabilidad de extraer una bola azul en la segunda extraccion dado que la primera fue roja\n",
    "P_B_given_A = 2 / 4  # Quedan 4 bolas, 2 de las cuales son azules\n",
    "    \n",
    "# Probabilidad conjunta\n",
    "P_A_and_B = P_A * P_B_given_A\n",
    "    \n",
    "# Resultado\n",
    "print(\"Ejercicio 3:\")\n",
    "print(f\"P(A ∩ B) = {P_A_and_B:.2f}\")"
   ]
  },
  {
   "cell_type": "markdown",
   "metadata": {},
   "source": [
    "<h4 style=\"color: green; font-weight: bold; text-align: left;\">Ejercicio 4</h4>\n",
    "\n",
    "<h3>Probabilidad Total</h3>\n",
    "Supongamos que en un examen el 60% de los estudiantes estudian antes del examen S y el 40% no estudian \\neg S. Si se sabe que:\n",
    "<ul>\n",
    "    <li>La probabilidad de aprobar dado que estudian es P(A ∣ S)= 0.8,\n",
    "    <li>La probabilidad de aprobar dado que no estudian es P(A ∣ S)= 0.3,\n",
    "</ul>\n",
    "        \n",
    "Calcule la probabilidad total de aprobar $P(A)$ usando la ley de la probabilidad total: $P(A) = P(A \\mid S)P(S) + P(A \\mid \\neg S)P(\\neg S)$"
   ]
  },
  {
   "cell_type": "code",
   "execution_count": 14,
   "metadata": {},
   "outputs": [
    {
     "name": "stdout",
     "output_type": "stream",
     "text": [
      "Ejercicio 4:\n",
      "P(A) = 0.60\n"
     ]
    }
   ],
   "source": [
    "# Probabilidades dadas:\n",
    "    \n",
    "P_S = 0.6   # Probabilidad de estudiar\n",
    "    \n",
    "P_not_S = 1 - P_S   # Probabilidad de no estudiar\n",
    "    \n",
    "P_A_given_S = 0.8  # Probabilidad de aprobar dado que estudian\n",
    "\n",
    "P_A_given_not_S = 0.3  # Probabilidad de aprobar dado que no estudian\n",
    "        \n",
    "# Probabilidad total de aprobar\n",
    "P_A = (P_A_given_S * P_S) + (P_A_given_not_S * P_not_S)  \n",
    "        \n",
    "# Resultado\n",
    "print(\"Ejercicio 4:\")\n",
    "print(f\"P(A) = {P_A:.2f}\")"
   ]
  }
 ],
 "metadata": {
  "kernelspec": {
   "display_name": "Python 3",
   "language": "python",
   "name": "python3"
  },
  "language_info": {
   "codemirror_mode": {
    "name": "ipython",
    "version": 3
   },
   "file_extension": ".py",
   "mimetype": "text/x-python",
   "name": "python",
   "nbconvert_exporter": "python",
   "pygments_lexer": "ipython3",
   "version": "3.10.9"
  }
 },
 "nbformat": 4,
 "nbformat_minor": 2
}
