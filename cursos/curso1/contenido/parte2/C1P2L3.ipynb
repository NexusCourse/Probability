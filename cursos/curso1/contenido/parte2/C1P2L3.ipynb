{
 "cells": [
  {
   "cell_type": "markdown",
   "metadata": {},
   "source": [
    "<div style=\"line-height: 0.4;\">\n",
    "    <h1 style=\"color: green; font-weight: bold; text-align: center;\"></h1>\n",
    "    <h1 style=\"color: green; font-weight: bold; text-align: center;\">PROBABILIDAD CONDICIONAL</h1>\n",
    "    <h3 style=\"color: darkolivegreen; font-weight: bold; text-align: center;\">CURSO 1 (PROBABILIDAD I)</h3>\n",
    "    <h5 style=\"color: darkolivegreen; font-weight: bold; text-align: center;\">PARTE 2 / LECCIÓN 1</h5>\n",
    "</div>"
   ]
  },
  {
   "cell_type": "markdown",
   "metadata": {},
   "source": [
    "<h4 style=\"color: green; font-weight: bold; text-align: left;\">Ejercicio 1</h4>\n",
    "\n",
    "<h3>Lanzamiento de dos monedas</h3>\n",
    "Se lanzan dos monedas. Defina los eventos:\n",
    "<ul>\n",
    "    <li>A: La primera moneda muestra cara.\n",
    "    <li>B: Ambas monedas muestran el mismo resultado.\n",
    "</ul>       \n",
    "\n",
    "Calcule la probabilidad condicional $P(A \\mid B)$, es decir, la probabilidad de que la primera moneda sea cara, dado que ambas monedas muestran el mismo resultado."
   ]
  },
  {
   "cell_type": "code",
   "execution_count": 5,
   "metadata": {},
   "outputs": [
    {
     "name": "stdout",
     "output_type": "stream",
     "text": [
      "Ejercicio 1:\n",
      "P(A|B) = 0.50\n"
     ]
    }
   ],
   "source": [
    "# Espacio muestral: Todas las combinaciones posibles al lanzar dos monedas\n",
    "\n",
    "espacio_muestral = [(\"cara\", \"cara\"), (\"cara\", \"cruz\"), (\"cruz\", \"cara\"), (\"cruz\", \"cruz\")]\n",
    "    \n",
    "# Evento A: La primera moneda muestra \"cara\"\n",
    "evento_A = [outcome for outcome in espacio_muestral if outcome[0] == \"cara\"]\n",
    "    \n",
    "# Evento B: Ambas monedas muestran el mismo resultado\n",
    "evento_B = [outcome for outcome in espacio_muestral if outcome[0] == outcome[1]]\n",
    "    \n",
    "# Interseccion de A y B: Ambas monedas muestran el mismo resultado y la primera es \"cara\"\n",
    "interseccion_A_B = [outcome for outcome in evento_B if outcome in evento_A]\n",
    "    \n",
    "# Probabilidad condicional P(A|B)\n",
    "P_B = len(evento_B) / len(espacio_muestral)\n",
    "P_A_given_B = len(interseccion_A_B) / len(evento_B)\n",
    "    \n",
    "# Resultado\n",
    "print(\"Ejercicio 1:\")\n",
    "print(f\"P(A|B) = {P_A_given_B:.2f}\")"
   ]
  },
  {
   "cell_type": "markdown",
   "metadata": {},
   "source": [
    "<h4 style=\"color: green; font-weight: bold; text-align: left;\">Ejercicio 2</h4>\n",
    "\n",
    "<h3>Extracción de cartas de una baraja</h3>\n",
    "En una baraja estándar de 52 cartas, se extrae una carta al azar. Defina los eventos:\n",
    "<ul>\n",
    "    <li>A: La carta extraída es un as.\n",
    "    <li>B: La carta extraída pertenece al palo de corazones.        \n",
    "</ul>\n",
    "\n",
    "Calcule la probabilidad condicional $P(A \\mid B)$, es decir, la probabilidad de que la carta extraída sea un as, dado que pertenece al palo de corazones."
   ]
  },
  {
   "cell_type": "code",
   "execution_count": 7,
   "metadata": {},
   "outputs": [
    {
     "name": "stdout",
     "output_type": "stream",
     "text": [
      "Ejercicio 2:\n",
      "P(A|B) = 0.08\n"
     ]
    }
   ],
   "source": [
    "# Probabilidades individuales\n",
    "    \n",
    "P_B = 13 / 52  # Probabilidad de que la carta sea del palo de corazones\n",
    "P_A_and_B = 1 / 52  # Probabilidad de que la carta sea el as de corazones\n",
    "        \n",
    "# Probabilidad condicional P(A|B)\n",
    "P_A_given_B = P_A_and_B / P_B\n",
    "        \n",
    "# Resultado\n",
    "print(\"Ejercicio 2:\")\n",
    "print(f\"P(A|B) = {P_A_given_B:.2f}\")"
   ]
  },
  {
   "cell_type": "markdown",
   "metadata": {},
   "source": [
    "<h4 style=\"color: green; font-weight: bold; text-align: left;\">Ejercicio 3</h4>\n",
    "\n",
    "<h3>Regla Multiplicativa</h3>\n",
    "\n",
    "<p>Supongamos que en una urna hay 3 bolas rojas y 2 bolas azules. Se extraen dos bolas sin reemplazo. Defina los eventos:</p>\n",
    "\n",
    "<ul>\n",
    "    <li>A: La primera bola extraída es roja.</li>\n",
    "    <li>B: La segunda bola extraída es azul.</li>\n",
    "</ul>\n",
    "\n",
    "Usando la regla multiplicativa: $P(A \\cap B) = P(A)P(B \\mid A)$\n",
    "\n",
    "Calcule $P(A \\cap B)$, es decir, la probabilidad de que la primera bola sea roja y la segunda sea azul."
   ]
  },
  {
   "cell_type": "code",
   "execution_count": 11,
   "metadata": {},
   "outputs": [
    {
     "name": "stdout",
     "output_type": "stream",
     "text": [
      "Ejercicio 3:\n",
      "P(A ∩ B) = 0.30\n"
     ]
    }
   ],
   "source": [
    "# Probabilidad de extraer una bola roja en la primera extraccion\n",
    "P_A = 3 / 5  # Hay 3 bolas rojas de un total de 5\n",
    "    \n",
    "# Probabilidad de extraer una bola azul en la segunda extraccion dado que la primera fue roja\n",
    "P_B_given_A = 2 / 4  # Quedan 4 bolas, 2 de las cuales son azules\n",
    "    \n",
    "# Probabilidad conjunta\n",
    "P_A_and_B = P_A * P_B_given_A\n",
    "    \n",
    "# Resultado\n",
    "print(\"Ejercicio 3:\")\n",
    "print(f\"P(A ∩ B) = {P_A_and_B:.2f}\")"
   ]
  },
  {
   "cell_type": "markdown",
   "metadata": {},
   "source": [
    "<h4 style=\"color: green; font-weight: bold; text-align: left;\">Ejercicio 4</h4>\n",
    "\n",
    "<h3>Probabilidad Total</h3>\n",
    "Supongamos que en un examen el 60% de los estudiantes estudian antes del examen S y el 40% no estudian \\neg S. Si se sabe que:\n",
    "<ul>\n",
    "    <li>La probabilidad de aprobar dado que estudian es P(A ∣ S)= 0.8,\n",
    "    <li>La probabilidad de aprobar dado que no estudian es P(A ∣ S)= 0.3,\n",
    "</ul>\n",
    "        \n",
    "Calcule la probabilidad total de aprobar $P(A)$ usando la ley de la probabilidad total: $P(A) = P(A \\mid S)P(S) + P(A \\mid \\neg S)P(\\neg S)$"
   ]
  },
  {
   "cell_type": "code",
   "execution_count": 14,
   "metadata": {},
   "outputs": [
    {
     "name": "stdout",
     "output_type": "stream",
     "text": [
      "Ejercicio 4:\n",
      "P(A) = 0.60\n"
     ]
    }
   ],
   "source": [
    "# Probabilidades dadas:\n",
    "    \n",
    "P_S = 0.6   # Probabilidad de estudiar\n",
    "    \n",
    "P_not_S = 1 - P_S   # Probabilidad de no estudiar\n",
    "    \n",
    "P_A_given_S = 0.8  # Probabilidad de aprobar dado que estudian\n",
    "\n",
    "P_A_given_not_S = 0.3  # Probabilidad de aprobar dado que no estudian\n",
    "        \n",
    "# Probabilidad total de aprobar\n",
    "P_A = (P_A_given_S * P_S) + (P_A_given_not_S * P_not_S)  \n",
    "        \n",
    "# Resultado\n",
    "print(\"Ejercicio 4:\")\n",
    "print(f\"P(A) = {P_A:.2f}\")"
   ]
  },
  {
   "cell_type": "markdown",
   "metadata": {},
   "source": [
    "<h4 style=\"color: green; font-weight: bold; text-align: left;\">Ejercicio 5</h4>\n",
    "Considere dos urnas. La primera contiene dos bolas blancas y siete bolas negras, y la segunda contiene cinco bolas blancas y seis bolas negras. Lanzamos una moneda justa y:\n",
    "<ul>\n",
    "    <li> Si sale cara, seleccionamos una bola de la primera urna.\n",
    "    <li> Si sale cruz, seleccionamos una bola de la segunda urna.\n",
    "</ul>\n",
    "\n",
    "¿Cuál es la probabilidad de que se extraiga una bola blanca?"
   ]
  },
  {
   "cell_type": "code",
   "execution_count": 15,
   "metadata": {},
   "outputs": [
    {
     "name": "stdout",
     "output_type": "stream",
     "text": [
      "0.33838383838383834\n"
     ]
    }
   ],
   "source": [
    "# Probabilidades individuales\n",
    "P_cara = 0.5  #Probabilidad de que salga cara (primera urna)\n",
    "P_cruz = 0.5  #Probabilidad de que salga cruz (segunda urna)\n",
    "    \n",
    "# Probabilidades de extraer una bola blanca dado cada urna\n",
    "P_blanca_urna1 = 2 / 9  #Primera urna: 2 blancas de un total de 9\n",
    "P_blanca_urna2 = 5 / 11  #Segunda urna: 5 blancas de un total de 11\n",
    "    \n",
    "# Probabilidad total de extraer una bola blanca\n",
    "P_blanca = (P_blanca_urna1 * P_cara) + (P_blanca_urna2 * P_cruz)\n",
    "    \n",
    "print(P_blanca)"
   ]
  },
  {
   "cell_type": "markdown",
   "metadata": {},
   "source": [
    "<h4 style=\"color: green; font-weight: bold; text-align: left;\">Ejercicio 6</h4>\n",
    "\n",
    "Un test para detectar una enfermedad tiene una tasa de sensibilidad del 99\\% y una tasa de especificidad del 95\\%. El 0.5\\% de la población tiene la enfermedad. \n",
    "    \n",
    "Si una persona obtiene un resultado positivo, ¿cuál es la probabilidad de que realmente tenga la enfermedad?"
   ]
  },
  {
   "cell_type": "code",
   "execution_count": 16,
   "metadata": {},
   "outputs": [
    {
     "name": "stdout",
     "output_type": "stream",
     "text": [
      "La probabilidad de tener la enfermedad dado un resultado positivo es: 0.0905\n"
     ]
    }
   ],
   "source": [
    "# Definir probabilidades\n",
    "P_E = 0.005  # Probabilidad de tener la enfermedad\n",
    "P_not_E = 1 - P_E  # Probabilidad de no tener la enfermedad\n",
    "    \n",
    "P_pos_given_E = 0.99  # Sensibilidad: Probabilidad de positivo dado enfermedad\n",
    "P_pos_given_not_E = 0.05  # Falso positivo: Probabilidad de positivo dado no enfermedad\n",
    "    \n",
    "# Probabilidad total de un resultado positivo P(+)\n",
    "P_pos = P_pos_given_E * P_E + P_pos_given_not_E * P_not_E\n",
    "    \n",
    "# Aplicar el Teorema de Bayes para encontrar P(E|+)\n",
    "P_E_given_pos = (P_pos_given_E * P_E) / P_pos\n",
    "    \n",
    "# Imprimir resultado\n",
    "print(f\"La probabilidad de tener la enfermedad dado un resultado positivo es: {P_E_given_pos:.4f}\")"
   ]
  },
  {
   "cell_type": "markdown",
   "metadata": {},
   "source": [
    "<h4 style=\"color: green; font-weight: bold; text-align: left;\">Ejercicio 7</h4>\n",
    "\n",
    "<h3>Probabilidad de Lanzamiento de Monedas</h3>\n",
    "Se lanzan dos monedas justas. Definamos los eventos:\n",
    "<ul>\n",
    "    <li> A: El resultado del primer lanzamiento es cara.\n",
    "    <li> B: El resultado del segundo lanzamiento es cara.\n",
    "</ul>\n",
    "\n",
    "Determina si los eventos $A$ y $B$ son independientes, y calcula la probabilidad de que ambos eventos ocurran."
   ]
  },
  {
   "cell_type": "code",
   "execution_count": 18,
   "metadata": {},
   "outputs": [
    {
     "name": "stdout",
     "output_type": "stream",
     "text": [
      "Ejercicio 7: La probabilidad de que ambos eventos ocurran es: 0.25\n"
     ]
    }
   ],
   "source": [
    "P_A = 1 / 2  # Probabilidad de que el primer lanzamiento sea cara\n",
    "P_B = 1 / 2  # Probabilidad de que el segundo lanzamiento sea cara\n",
    "\n",
    "P_A_and_B = P_A * P_B  # Probabilidad de que ambos sean cara\n",
    "    \n",
    "print(f\"Ejercicio 7: La probabilidad de que ambos eventos ocurran es: {P_A_and_B}\")"
   ]
  },
  {
   "cell_type": "markdown",
   "metadata": {},
   "source": [
    "<h4 style=\"color: green; font-weight: bold; text-align: left;\">Ejercicio 8</h4>\n",
    "\n",
    "<h3>Bolas de una Urna</h3>\n",
    "Una urna contiene 5 bolas: 3 rojas y 2 verdes. Se extraen dos bolas sin reemplazo. Definamos los siguientes eventos:\n",
    "<ul>\n",
    "    <li> A: La primera bola extraída es roja.\n",
    "    <li> B: La segunda bola extraída es verde.\n",
    "</ul>\n",
    "\n",
    "¿Son $A$ y $B$ eventos independientes?"
   ]
  },
  {
   "cell_type": "code",
   "execution_count": 20,
   "metadata": {},
   "outputs": [
    {
     "name": "stdout",
     "output_type": "stream",
     "text": [
      "Ejercicio 8: Los eventos no son independientes\n",
      "Probabilidad conjunta: 0.3\n"
     ]
    }
   ],
   "source": [
    "P_A = 3 / 5  # Probabilidad de que la primera bola sea roja\n",
    "P_B_given_A = 1 / 2  # Probabilidad de que la segunda bola sea verde dado que la primera fue roja\n",
    "P_A_and_B = P_A * P_B_given_A  # Probabilidad conjunta\n",
    "    \n",
    "P_B = 2 / 5  # Probabilidad de que la segunda bola sea verde\n",
    "    \n",
    "if P_B_given_A == P_B:\n",
    "    print(\"Ejercicio 8: Los eventos son independientes\")\n",
    "else:\n",
    "    print(\"Ejercicio 8: Los eventos no son independientes\")\n",
    "    \n",
    "#Resultado\n",
    "print(f\"Probabilidad conjunta: {P_A_and_B}\")"
   ]
  },
  {
   "cell_type": "markdown",
   "metadata": {},
   "source": [
    "<h4 style=\"color: green; font-weight: bold; text-align: left;\">Ejercicio 9</h4>\n",
    "\n",
    "<h3>Lanzamiento de Dados</h3>\n",
    "Se lanza un dado justo. Definamos los siguientes eventos:\n",
    "<ul>\n",
    "    <li> A: El número lanzado es par.\n",
    "    <li> B: El número lanzado es mayor que 3.\n",
    "</ul>\n",
    "\n",
    "Determina si los eventos $A$ y $B$ son independientes."
   ]
  },
  {
   "cell_type": "code",
   "execution_count": 21,
   "metadata": {},
   "outputs": [
    {
     "name": "stdout",
     "output_type": "stream",
     "text": [
      "Ejercicio 9: Los eventos no son independientes\n",
      "Probabilidad conjunta: 0.3333333333333333\n"
     ]
    }
   ],
   "source": [
    "P_A = 3 / 6  # Probabilidad de que el número lanzado sea par\n",
    "P_B = 3 / 6  # Probabilidad de que el número lanzado sea mayor que 3\n",
    "P_A_and_B = 2 / 6  # Probabilidad de que el número sea par y mayor que 3\n",
    "    \n",
    "if P_A_and_B == P_A * P_B:\n",
    "    print(\"Ejercicio 9: Los eventos son independientes\")\n",
    "else:\n",
    "    print(\"Ejercicio 9: Los eventos no son independientes\")\n",
    "    \n",
    "#Resultado\n",
    "print(f\"Probabilidad conjunta: {P_A_and_B}\")"
   ]
  }
 ],
 "metadata": {
  "kernelspec": {
   "display_name": "Python 3",
   "language": "python",
   "name": "python3"
  },
  "language_info": {
   "codemirror_mode": {
    "name": "ipython",
    "version": 3
   },
   "file_extension": ".py",
   "mimetype": "text/x-python",
   "name": "python",
   "nbconvert_exporter": "python",
   "pygments_lexer": "ipython3",
   "version": "3.10.9"
  }
 },
 "nbformat": 4,
 "nbformat_minor": 2
}
