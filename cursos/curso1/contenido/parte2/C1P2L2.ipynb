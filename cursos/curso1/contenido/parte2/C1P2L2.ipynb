{
 "cells": [
  {
   "cell_type": "markdown",
   "metadata": {},
   "source": [
    "<div style=\"line-height: 0.4;\">\n",
    "    <h1 style=\"color: green; font-weight: bold; text-align: center;\"></h1>\n",
    "    <h1 style=\"color: green; font-weight: bold; text-align: center;\">TEOREMA DE BAYES</h1>\n",
    "    <h3 style=\"color: darkolivegreen; font-weight: bold; text-align: center;\">CURSO 1 (PROBABILIDAD I)</h3>\n",
    "    <h5 style=\"color: darkolivegreen; font-weight: bold; text-align: center;\">PARTE 2 / LECCIÓN 2</h5>\n",
    "</div>"
   ]
  },
  {
   "cell_type": "markdown",
   "metadata": {},
   "source": [
    "<h4 style=\"color: green; font-weight: bold; text-align: left;\">Ejercicio 1</h4>\n",
    "Considere dos urnas. La primera contiene dos bolas blancas y siete bolas negras, y la segunda contiene cinco bolas blancas y seis bolas negras. Lanzamos una moneda justa y:\n",
    "<ul>\n",
    "    <li> Si sale cara, seleccionamos una bola de la primera urna.\n",
    "    <li> Si sale cruz, seleccionamos una bola de la segunda urna.\n",
    "</ul>\n",
    "\n",
    "¿Cuál es la probabilidad de que se extraiga una bola blanca?"
   ]
  },
  {
   "cell_type": "code",
   "execution_count": 15,
   "metadata": {},
   "outputs": [
    {
     "name": "stdout",
     "output_type": "stream",
     "text": [
      "0.33838383838383834\n"
     ]
    }
   ],
   "source": [
    "# Probabilidades individuales\n",
    "P_cara = 0.5  #Probabilidad de que salga cara (primera urna)\n",
    "P_cruz = 0.5  #Probabilidad de que salga cruz (segunda urna)\n",
    "    \n",
    "# Probabilidades de extraer una bola blanca dado cada urna\n",
    "P_blanca_urna1 = 2 / 9  #Primera urna: 2 blancas de un total de 9\n",
    "P_blanca_urna2 = 5 / 11  #Segunda urna: 5 blancas de un total de 11\n",
    "    \n",
    "# Probabilidad total de extraer una bola blanca\n",
    "P_blanca = (P_blanca_urna1 * P_cara) + (P_blanca_urna2 * P_cruz)\n",
    "    \n",
    "print(P_blanca)"
   ]
  },
  {
   "cell_type": "markdown",
   "metadata": {},
   "source": [
    "<h4 style=\"color: green; font-weight: bold; text-align: left;\">Ejercicio 2</h4>\n",
    "\n",
    "Un test para detectar una enfermedad tiene una tasa de sensibilidad del 99\\% y una tasa de especificidad del 95\\%. El 0.5\\% de la población tiene la enfermedad. \n",
    "    \n",
    "Si una persona obtiene un resultado positivo, ¿cuál es la probabilidad de que realmente tenga la enfermedad?"
   ]
  },
  {
   "cell_type": "code",
   "execution_count": 16,
   "metadata": {},
   "outputs": [
    {
     "name": "stdout",
     "output_type": "stream",
     "text": [
      "La probabilidad de tener la enfermedad dado un resultado positivo es: 0.0905\n"
     ]
    }
   ],
   "source": [
    "# Definir probabilidades\n",
    "P_E = 0.005  # Probabilidad de tener la enfermedad\n",
    "P_not_E = 1 - P_E  # Probabilidad de no tener la enfermedad\n",
    "    \n",
    "P_pos_given_E = 0.99  # Sensibilidad: Probabilidad de positivo dado enfermedad\n",
    "P_pos_given_not_E = 0.05  # Falso positivo: Probabilidad de positivo dado no enfermedad\n",
    "    \n",
    "# Probabilidad total de un resultado positivo P(+)\n",
    "P_pos = P_pos_given_E * P_E + P_pos_given_not_E * P_not_E\n",
    "    \n",
    "# Aplicar el Teorema de Bayes para encontrar P(E|+)\n",
    "P_E_given_pos = (P_pos_given_E * P_E) / P_pos\n",
    "    \n",
    "# Imprimir resultado\n",
    "print(f\"La probabilidad de tener la enfermedad dado un resultado positivo es: {P_E_given_pos:.4f}\")"
   ]
  },
  {
   "cell_type": "markdown",
   "metadata": {},
   "source": [
    "<h4 style=\"color: green; font-weight: bold; text-align: left;\">Ejercicio 3</h4>\n",
    "\n",
    "Un test médico para detectar una enfermedad tiene los siguientes resultados:\n",
    "<ul>\n",
    "    <li>El 99% de las personas enfermas reciben un resultado positivo (es decir, la sensibilidad del test es del 99%).\n",
    "    <li>El 95% de las personas sanas reciben un resultado negativo (es decir, la especificidad del test es del 95%).\n",
    "    <li>El 1% de la población tiene la enfermedad.\n",
    "</ul>\n",
    "\n",
    "Una persona se realiza el test y recibe un resultado positivo. ¿Cuál es la probabilidad de que realmente tenga la enfermedad?\n"
   ]
  },
  {
   "cell_type": "code",
   "execution_count": null,
   "metadata": {},
   "outputs": [],
   "source": [
    "# Datos del problema\n",
    "# E: La persona tiene la enfermedad.\n",
    "# Ec: La persona no tiene la enfermedad.\n",
    "# T+: El test es positivo.\n",
    "   \n",
    "P_E = 0.01           # Probabilidad de que la persona tenga la enfermedad\n",
    "P_Ec = 1 - P_E       # Probabilidad de que la persona no tenga la enfermedad\n",
    "P_T_pos_given_E = 0.99  # Sensibilidad del test\n",
    "P_T_pos_given_Ec = 0.05 # Falsos positivos\n",
    "   \n",
    "# Calculo de P(T+), la probabilidad de un resultado positivo\n",
    "P_T_pos = (P_T_pos_given_E * P_E) + (P_T_pos_given_Ec * P_Ec)\n",
    "    \n",
    "# Aplicamos el Teorema de Bayes para calcular P(E | T+)\n",
    "P_E_given_T_pos = (P_T_pos_given_E * P_E) / P_T_pos\n",
    "    \n",
    "# Mostramos el resultado\n",
    "print(f\"La probabilidad de tener la enfermedad dado un test positivo es: {P_E_given_T_pos:.4f}\")"
   ]
  }
 ],
 "metadata": {
  "kernelspec": {
   "display_name": "Python 3",
   "language": "python",
   "name": "python3"
  },
  "language_info": {
   "codemirror_mode": {
    "name": "ipython",
    "version": 3
   },
   "file_extension": ".py",
   "mimetype": "text/x-python",
   "name": "python",
   "nbconvert_exporter": "python",
   "pygments_lexer": "ipython3",
   "version": "3.10.9"
  }
 },
 "nbformat": 4,
 "nbformat_minor": 2
}
