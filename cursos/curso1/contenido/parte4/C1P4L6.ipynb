{
  "nbformat": 4,
  "nbformat_minor": 0,
  "metadata": {
    "colab": {
      "provenance": []
    },
    "kernelspec": {
      "name": "python3",
      "display_name": "Python 3"
    },
    "language_info": {
      "name": "python"
    }
  },
  "cells": [
    {
      "cell_type": "markdown",
      "source": [
        "# Ejercicios Distribución Poisson"
      ],
      "metadata": {
        "id": "9A4MyNyK4sZV"
      }
    },
    {
      "cell_type": "markdown",
      "source": [
        "## Ejercicio 1\n",
        " En promedio, uno de cada 100 focos producidos por una máquina es defectuoso. Use la distribución Poisson para estimar la probabilidad de encontrar 5 focos defectuosos en un lote de 1000 focos."
      ],
      "metadata": {
        "id": "IFBohQvt40XW"
      }
    },
    {
      "cell_type": "code",
      "execution_count": null,
      "metadata": {
        "id": "6yjRoCHC4rsu"
      },
      "outputs": [],
      "source": [
        "import math\n",
        "\n",
        "# Parámetro lambda para la distribución Poisson\n",
        "lambda_ = 10\n",
        "\n",
        "# Número de focos defectuosos que buscamos\n",
        "k = 5\n",
        "\n",
        "# Cálculo de la probabilidad usando la fórmula de la distribución Poisson\n",
        "probabilidad = (lambda_**k * math.exp(-lambda_)) / math.factorial(k)\n",
        "\n",
        "# Imprimir el resultado\n",
        "print(f\"La probabilidad de encontrar exactamente 5 focos defectuosos en un lote de 1000 es: {probabilidad:.4f}\")"
      ]
    },
    {
      "cell_type": "markdown",
      "source": [
        "## Ejercicio 2\n",
        " En promedio, se reciben 2 peticiones de acceso a una página web durante un minuto cualquiera. Utilice el modelo Poisson para calcular la probabilidad de que en un minuto dado:\n",
        "\n",
        "\n",
        "*   Nadie solicite acceso a la página.\n",
        "  \n",
        "*   Se reciban más de dos peticiones\n",
        "\n"
      ],
      "metadata": {
        "id": "gnvIKNqb4_yT"
      }
    },
    {
      "cell_type": "code",
      "source": [
        "import math\n",
        "\n",
        "# Parámetro lambda para la distribución Poisson\n",
        "lambda_ = 2\n",
        "\n",
        "# Parte a) Probabilidad de que nadie solicite acceso (P(X = 0))\n",
        "k_a = 0\n",
        "prob_a = (lambda_**k_a * math.exp(-lambda_)) / math.factorial(k_a)\n",
        "\n",
        "# Parte b) Probabilidad de que se reciban más de dos peticiones (P(X > 2))\n",
        "# P(X > 2) = 1 - P(X <= 2)\n",
        "k_b = 2\n",
        "prob_b = 1 - sum((lambda_**k * math.exp(-lambda_)) / math.factorial(k) for k in range(k_b + 1))\n",
        "\n",
        "# Imprimir los resultados\n",
        "print(f\"Parte a) La probabilidad de que nadie solicite acceso es: {prob_a:.4f}\")\n",
        "print(f\"Parte b) La probabilidad de que se reciban más de dos peticiones es: {prob_b:.4f}\")"
      ],
      "metadata": {
        "id": "VNUdxE_r5F6j"
      },
      "execution_count": null,
      "outputs": []
    },
    {
      "cell_type": "markdown",
      "source": [
        "## Ejercicio 3\n",
        "Cierta enfermedad tiene probabilidad de ocurrir $ p = \\frac{1}{100000} $, lo que en Medicina se denomina prevalencia. Calcula la probabilidad de que en una ciudad de 500000 habitantes haya más de 3 personas con dicha enfermedad. ¿Cuál sería en dicha ciudad el número de enfermos esperado?"
      ],
      "metadata": {
        "id": "znApvxsa5gRU"
      }
    },
    {
      "cell_type": "code",
      "source": [
        "import math\n",
        "\n",
        "# Parámetro lambda para la distribución Poisson (número esperado de enfermos)\n",
        "lambda_ = 5\n",
        "\n",
        "# Parte a) Calcular P(X > 3)\n",
        "# P(X > 3) = 1 - P(X <= 3)\n",
        "prob_X_leq_3 = sum((lambda_**k * math.exp(-lambda_)) / math.factorial(k) for k in range(4))\n",
        "prob_X_greater_3 = 1 - prob_X_leq_3\n",
        "\n",
        "# Parte b) El número esperado de enfermos\n",
        "numero_esperado_enfermos = lambda_\n",
        "\n",
        "# Imprimir resultados\n",
        "print(f\"Parte a) La probabilidad de que haya más de 3 personas con la enfermedad es: {prob_X_greater_3:.4f}\")\n",
        "print(f\"Parte b) El número esperado de enfermos en la ciudad es: {numero_esperado_enfermos}\")"
      ],
      "metadata": {
        "id": "ErRXRCu85tV1"
      },
      "execution_count": null,
      "outputs": []
    },
    {
      "cell_type": "markdown",
      "source": [
        "## Ejercicio 4\n",
        " Participa en un juego de azar que puede ganar o perder (no hay otras En la inspección de hojalata producida por un proceso electrolítico continuo, se identifican 0.2 imperfecciones en promedio por minuto. Determine las probabilidades de identificar:\n",
        "\n",
        "\n",
        "\n",
        "*  Una imperfección en 3 minutos.\n",
        "*  Al menos dos imperfecciones en 5 minutos.\n",
        "*  Cuando más una imperfección en 15 minutos\n"
      ],
      "metadata": {
        "id": "fosViik3548y"
      }
    },
    {
      "cell_type": "code",
      "source": [
        "import math\n",
        "\n",
        "# Función para calcular la probabilidad de Poisson\n",
        "def poisson_pmf(k, lambda_):\n",
        "    return (lambda_**k * math.exp(-lambda_)) / math.factorial(k)\n",
        "\n",
        "# Parte a) Probabilidad de identificar 1 imperfección en 3 minutos\n",
        "lambda_3min = 0.2 * 3\n",
        "prob_a = poisson_pmf(1, lambda_3min)\n",
        "\n",
        "# Parte b) Probabilidad de identificar al menos 2 imperfecciones en 5 minutos\n",
        "lambda_5min = 0.2 * 5\n",
        "prob_b = 1 - poisson_pmf(0, lambda_5min) - poisson_pmf(1, lambda_5min)\n",
        "\n",
        "# Parte c) Probabilidad de identificar como máximo 1 imperfección en 15 minutos\n",
        "lambda_15min = 0.2 * 15\n",
        "prob_c = poisson_pmf(0, lambda_15min) + poisson_pmf(1, lambda_15min)\n",
        "\n",
        "# Imprimir los resultados\n",
        "print(f\"Parte a) La probabilidad de identificar 1 imperfección en 3 minutos es: {prob_a:.4f}\")\n",
        "print(f\"Parte b) La probabilidad de identificar al menos 2 imperfecciones en 5 minutos es: {prob_b:.4f}\")\n",
        "print(f\"Parte c) La probabilidad de identificar como máximo 1 imperfección en 15 minutos es: {prob_c:.4f}\")"
      ],
      "metadata": {
        "id": "uUJ7XpEm6Qwj"
      },
      "execution_count": null,
      "outputs": []
    }
  ]
}