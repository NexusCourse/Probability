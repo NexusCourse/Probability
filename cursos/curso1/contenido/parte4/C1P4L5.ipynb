{
  "nbformat": 4,
  "nbformat_minor": 0,
  "metadata": {
    "colab": {
      "provenance": []
    },
    "kernelspec": {
      "name": "python3",
      "display_name": "Python 3"
    },
    "language_info": {
      "name": "python"
    }
  },
  "cells": [
    {
      "cell_type": "markdown",
      "source": [
        "# Ejercicios Distribución Geométrica"
      ],
      "metadata": {
        "id": "msoG02iE3S29"
      }
    },
    {
      "cell_type": "markdown",
      "source": [
        "## Ejercicio 1\n",
        " Una persona participa cada semana con un boleto en un juego de lotería, en donde la probabilidad de ganar el primer premio es  $p = 10^{-6} = \\frac{1}{1,000,000}$. ¿Cuántos años, en promedio, debe esta persona participar en el juego hasta obtener el primer premio?"
      ],
      "metadata": {
        "id": "BuXMYcXQ3fuZ"
      }
    },
    {
      "cell_type": "code",
      "execution_count": null,
      "metadata": {
        "id": "dEt2-qsH3Rw-"
      },
      "outputs": [],
      "source": [
        " #Definir la probabilidad de ganar en una semana\n",
        "p = 1 / 1000000  # Probabilidad de ganar el primer premio\n",
        "\n",
        "# Calcular el número esperado de semanas para ganar\n",
        "# Es el inverso de la probabilidad de ganar\n",
        "esperanza_semanas = 1 / p\n",
        "\n",
        "# Convertir el número de semanas a años\n",
        "# Sabemos que un año tiene 52 semanas\n",
        "esperanza_anos = esperanza_semanas / 52\n",
        "\n",
        "# Imprimir el resultado\n",
        "print(f\"En promedio, la persona debe participar durante {esperanza_anos:.2f} años para ganar el primer premio.\")"
      ]
    },
    {
      "cell_type": "markdown",
      "source": [
        "## Ejercicio 2\n",
        "Dos personas lanzan alternativamente una moneda equilibrada. Se escoge una de las caras de la moneda y el primero que obtenga esa cara es el ganador. Encuentre la probabilidad de ganar de cada uno de los jugadores."
      ],
      "metadata": {
        "id": "TOnCYm0u33bV"
      }
    },
    {
      "cell_type": "code",
      "source": [
        "# Probabilidad de que el primer jugador gane\n",
        "p_a = 1 / 2 + (1 / 2) * (1 / 2) * (1 - (1 / 2))\n",
        "\n",
        "# Probabilidad de que el segundo jugador gane (complemento de la probabilidad de A)\n",
        "p_b = 1 - p_a\n",
        "\n",
        "print(f\"La probabilidad de que el primer jugador gane es: {p_a:.2f}\")\n",
        "print(f\"La probabilidad de que el segundo jugador gane es: {p_b:.2f}\")"
      ],
      "metadata": {
        "id": "8Ks5yjnR4A4g"
      },
      "execution_count": null,
      "outputs": []
    },
    {
      "cell_type": "markdown",
      "source": [
        "## Ejercicio 3\n",
        "Cuando se rueda un comercial de televisión, la probabilidad de que ciertoactor logre todas sus líneas 0.40.¿Cuál es la probabilidad de que este actor logre todas sus líneas por vezprimera en la tercera o cuarta toma?"
      ],
      "metadata": {
        "id": "Zr0IXVfW4ERc"
      }
    },
    {
      "cell_type": "code",
      "source": [
        "# Probabilidad de éxito en cada toma\n",
        "p = 0.40\n",
        "\n",
        "# Probabilidad de fracaso en cada toma\n",
        "q = 1 - p\n",
        "\n",
        "# Probabilidad de éxito por primera vez en la tercera toma\n",
        "prob_tercera = (q ** 2) * p\n",
        "\n",
        "# Probabilidad de éxito por primera vez en la cuarta toma\n",
        "prob_cuarta = (q ** 3) * p\n",
        "\n",
        "# Probabilidad total de éxito por primera vez en la tercera o cuarta toma\n",
        "probabilidad_total = prob_tercera + prob_cuarta\n",
        "\n",
        "# Imprimir el resultado\n",
        "print(f\"La probabilidad de que el actor logre todas sus líneas por primera vez en la tercera o cuarta toma es: {probabilidad_total:.4f}\")"
      ],
      "metadata": {
        "id": "xL_hahlp4LR4"
      },
      "execution_count": null,
      "outputs": []
    },
    {
      "cell_type": "markdown",
      "source": [
        "## Ejercicio 4\n",
        "   Participa en un juego de azar que puede ganar o perder (no hay otras posibilidades) hasta que pierde. Su probabilidad de perder es $ p = 0.57 $. ¿Cuál es la probabilidad de que se necesiten cinco jugadas para perder? Supongamos que $ X $ es el número de partidas que juega hasta que pierde (incluye la partida perdida)."
      ],
      "metadata": {
        "id": "1t465J7M4TOX"
      }
    },
    {
      "cell_type": "code",
      "source": [
        "# Probabilidad de perder\n",
        "p = 0.57\n",
        "\n",
        "# Probabilidad de ganar\n",
        "q = 1 - p\n",
        "\n",
        "# Número de jugadas hasta que se pierde\n",
        "k = 5\n",
        "\n",
        "# Probabilidad de perder por primera vez en la quinta jugada\n",
        "probabilidad = (q ** (k - 1)) * p\n",
        "\n",
        "# Imprimir el resultado\n",
        "print(f\"La probabilidad de que se necesiten {k} jugadas para perder es: {probabilidad:.4f}\")"
      ],
      "metadata": {
        "id": "XizpMVQR4cI6"
      },
      "execution_count": null,
      "outputs": []
    }
  ]
}