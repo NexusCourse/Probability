{
  "nbformat": 4,
  "nbformat_minor": 0,
  "metadata": {
    "colab": {
      "provenance": []
    },
    "kernelspec": {
      "name": "python3",
      "display_name": "Python 3"
    },
    "language_info": {
      "name": "python"
    }
  },
  "cells": [
    {
      "cell_type": "markdown",
      "source": [
        "## Ejercicios Distribución Exponencial"
      ],
      "metadata": {
        "id": "kNcZdXP88CWt"
      }
    },
    {
      "cell_type": "markdown",
      "source": [
        "## Ejercicio 1\n",
        "  Suponga que el tiempo en minutos que un usuario cualquiera permanece revisando su correo electrónico sigue una distribución exponencial de parámetro $λ = \\frac{1}{5}$. Calcule la probabilidad de que un usuario cualquiera permanezca conectado al servidor de correo:\n",
        "\n",
        "a) Menos de un minuto.\n",
        "\n",
        "b) Más de una hora."
      ],
      "metadata": {
        "id": "vlMKGDeX8Hrk"
      }
    },
    {
      "cell_type": "code",
      "execution_count": null,
      "metadata": {
        "id": "ylA6-Yis79qG"
      },
      "outputs": [],
      "source": [
        "import numpy as np\n",
        "\n",
        "# Parámetro lambda\n",
        "lambda_param = 1/5  # Promedio de 5 minutos\n",
        "\n",
        "# a) Probabilidad de que el usuario permanezca menos de un minuto\n",
        "x_1 = 1  # 1 minuto\n",
        "prob_menos_1_minuto = 1 - np.exp(-lambda_param * x_1)\n",
        "\n",
        "# b) Probabilidad de que el usuario permanezca más de una hora (60 minutos)\n",
        "x_60 = 60  # 1 hora = 60 minutos\n",
        "prob_mas_1_hora = np.exp(-lambda_param * x_60)\n",
        "\n",
        "# Mostrar resultados\n",
        "print(f\"Probabilidad de que el usuario permanezca menos de un minuto: {prob_menos_1_minuto:.4f}\")\n",
        "print(f\"Probabilidad de que el usuario permanezca más de una hora: {prob_mas_1_hora:.4f}\")"
      ]
    },
    {
      "cell_type": "markdown",
      "source": [
        "## Ejercicio 2\n",
        "Un señor está vendiendo su coche y decide aceptar la primera oferta que exceda $50,000$. Si las ofertas son variables aleatorias independientes con distribución exponencial de media $45,000$, encuentre:\n",
        "\n",
        "\n",
        "\n",
        "*   El número de ofertas recibidas hasta vender el coche\n",
        "*    La probabilidad de que el precio de venta rebase \\$55,000.\n",
        "*   El precio promedio de la venta del coche.\n",
        "\n"
      ],
      "metadata": {
        "id": "RqmG9ANT8UtM"
      }
    },
    {
      "cell_type": "code",
      "source": [
        "import numpy as np\n",
        "\n",
        "# Parámetro lambda de la distribución exponencial\n",
        "mu = 45000  # Media de la distribución\n",
        "lambda_param = 1 / mu  # Parámetro lambda\n",
        "\n",
        "# a) Número esperado de ofertas hasta vender el coche\n",
        "p = np.exp(-lambda_param * 50000)\n",
        "esperanza_n = 1 / p\n",
        "\n",
        "# b) Probabilidad de vender el coche por más de $55,000\n",
        "prob_mas_55000 = np.exp(-lambda_param * 55000)\n",
        "\n",
        "# c) Precio promedio de venta del coche\n",
        "precio_promedio_venta = 50000 + (1 / lambda_param)\n",
        "\n",
        "# Mostrar resultados\n",
        "print(f\"Número esperado de ofertas hasta vender el coche: {esperanza_n:.2f}\")\n",
        "print(f\"Probabilidad de vender el coche por más de $55,000: {prob_mas_55000:.4f}\")\n",
        "print(f\"Precio promedio de venta del coche: ${precio_promedio_venta:.2f}\")"
      ],
      "metadata": {
        "id": "nes7ro_P8qn5"
      },
      "execution_count": null,
      "outputs": []
    },
    {
      "cell_type": "markdown",
      "source": [
        "## Ejercicio 3\n",
        "\n",
        "El tiempo de llegada entre cliente y cliente a un negocio es una variable aleatoria con distribución exponencial y parámetro $\\lambda = \\frac{1}{15}$.\n",
        "\n",
        "\n",
        "\n",
        "*   Probabilidad de que el cliente llegue después de 10 minutos.\n",
        "*   Dado que a los 10 minutos no ha llegado el siguiente cliente, calcular la probabilidad de que llegue antes de los 20 minutos.\n",
        "\n",
        "*   Calcular el promedio de la llegada del siguiente cliente.\n"
      ],
      "metadata": {
        "id": "JKtZ3G9T8vTG"
      }
    },
    {
      "cell_type": "code",
      "source": [
        "from scipy.stats import expon\n",
        "import numpy as np\n",
        "\n",
        "# Parámetro de la distribución exponencial\n",
        "lambda_param = 1 / 15  # 1/s\n",
        "\n",
        "# a) Probabilidad de que el cliente llegue después de 10 minutos\n",
        "p_a = np.exp(-lambda_param * 10)\n",
        "\n",
        "# b) Probabilidad de que llegue antes de los 20 minutos dado que no ha llegado en 10\n",
        "p_b = 1 - np.exp(-lambda_param * 10)\n",
        "\n",
        "# c) Promedio de la llegada del siguiente cliente\n",
        "expected_time = 1 / lambda_param\n",
        "\n",
        "print(f\"Probabilidad de que el cliente llegue después de 10 minutos: {p_a:.4f}\")\n",
        "print(f\"Probabilidad de que llegue antes de 20 minutos dado que no llegó en 10: {p_b:.4f}\")\n",
        "print(f\"Promedio de llegada del siguiente cliente: {expected_time:.2f} minutos\")"
      ],
      "metadata": {
        "id": "wDYdnU_V9Emu"
      },
      "execution_count": null,
      "outputs": []
    }
  ]
}