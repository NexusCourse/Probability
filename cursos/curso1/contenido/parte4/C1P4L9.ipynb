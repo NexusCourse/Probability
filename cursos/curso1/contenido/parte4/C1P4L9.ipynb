{
  "nbformat": 4,
  "nbformat_minor": 0,
  "metadata": {
    "colab": {
      "provenance": []
    },
    "kernelspec": {
      "name": "python3",
      "display_name": "Python 3"
    },
    "language_info": {
      "name": "python"
    }
  },
  "cells": [
    {
      "cell_type": "markdown",
      "source": [
        "# Ejercicios Distribución Gamma"
      ],
      "metadata": {
        "id": "BX0yqbID9b4Y"
      }
    },
    {
      "cell_type": "markdown",
      "source": [
        "## Ejercicio 1\n",
        " La duración (vida) en cientos de horas de determinado componente es una variable aleatoria con distribución Gamma con parámetros $r = 5$ y $\\lambda = 2$.\n",
        "\n",
        "*   Calcula la probabilidad de que un determinado componente dure más de 200 horas.\n",
        "*    De que dure entre 250 y 300 horas\n",
        "\n",
        "*  Calcula el número de horas promedio de la vida de un componente, así como su desviación estándar\n",
        "\n"
      ],
      "metadata": {
        "id": "BenisxN29jhd"
      }
    },
    {
      "cell_type": "code",
      "source": [
        "import scipy.stats as stats\n",
        "\n",
        "# Parámetros de la distribución Gamma\n",
        "r = 5  # Parámetro de forma\n",
        "lam = 2  # Parámetro de tasa\n",
        "\n",
        "# La distribución Gamma en scipy usa scale = 1/lambda\n",
        "scale = 1 / lam\n",
        "\n",
        "# a) Probabilidad de que el componente dure más de 200 horas\n",
        "p_mas_200 = 1 - stats.gamma.cdf(200, a=r, scale=scale)\n",
        "print(f\"Probabilidad de que el componente dure más de 200 horas: {p_mas_200:.6f}\")\n",
        "\n",
        "# b) Probabilidad de que dure entre 250 y 300 horas\n",
        "p_entre_250_300 = stats.gamma.cdf(300, a=r, scale=scale) - stats.gamma.cdf(250, a=r, scale=scale)\n",
        "print(f\"Probabilidad de que el componente dure entre 250 y 300 horas: {p_entre_250_300:.6f}\")\n",
        "\n",
        "# c) Cálculo del número de horas promedio (esperanza matemática) y desviación estándar\n",
        "media = stats.gamma.mean(a=r, scale=scale)\n",
        "desviacion = stats.gamma.std(a=r, scale=scale)\n",
        "print(f\"Vida promedio del componente (esperanza matemática): {media:.2f} horas\")"
      ],
      "metadata": {
        "colab": {
          "base_uri": "https://localhost:8080/"
        },
        "id": "AWXWsLVpeM9X",
        "outputId": "5cbccdf9-e1fe-41d8-829b-03fa34744c06"
      },
      "execution_count": null,
      "outputs": [
        {
          "output_type": "stream",
          "name": "stdout",
          "text": [
            "Probabilidad de que el componente dure más de 200 horas: 0.000000\n",
            "Probabilidad de que el componente dure entre 250 y 300 horas: 0.000000\n",
            "Vida promedio del componente (esperanza matemática): 2.50 horas\n",
            "Desviación estándar de la vida del componente: 1.12 horas\n"
          ]
        }
      ]
    },
    {
      "cell_type": "markdown",
      "source": [
        "## Ejercicio 2\n",
        " Supongamos que la vida útil de un dispositivo (en horas) tiene la distribución Gamma con los siguientes parámetros:\n",
        "\n",
        "\n",
        "*   parámetro de forma : $k = 4$\n",
        "*  Parámetro de escala: $b = 100$\n",
        "\n",
        " Realiza los siguientes cálculos:\n",
        "\n",
        "*    Encuentra la probabilidad de que el dispositivo dure más de 300 horas.\n",
        "*   Calcula la media y la desviación estándar de la vida útil del dispositivo\n",
        "\n",
        "\n"
      ],
      "metadata": {
        "id": "wCsGRsWr-CVu"
      }
    },
    {
      "cell_type": "code",
      "source": [
        "import scipy.stats as stats\n",
        "\n",
        "# Parámetros de la distribución Gamma\n",
        "k = 4    # Shape (forma)\n",
        "b = 100  # Scale (escala)\n",
        "\n",
        "# a) Probabilidad de que el dispositivo dure más de 300 horas\n",
        "p_mas_300 = 1 - stats.gamma.cdf(300, a=k, scale=b)\n",
        "\n",
        "\n",
        "# b) Media y desviación estándar de la distribución Gamma\n",
        "media = stats.gamma.mean(a=k, scale=b)\n",
        "desviacion = stats.gamma.std(a=k, scale=b)\n",
        "\n",
        "print(f\"Probabilidad de que el dispositivo dure más de 300 horas: {p_mas_300:.6f}\")\n",
        "print(f\"Media de la vida útil del dispositivo: {media:.2f} horas\")\n",
        "print(f\"Desviación estándar de la vida útil del dispositivo: {desviacion:.2f} horas\")"
      ],
      "metadata": {
        "id": "vQ3x4s7a_gZe"
      },
      "execution_count": null,
      "outputs": []
    }
  ]
}