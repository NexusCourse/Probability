{
  "nbformat": 4,
  "nbformat_minor": 0,
  "metadata": {
    "colab": {
      "provenance": []
    },
    "kernelspec": {
      "name": "python3",
      "display_name": "Python 3"
    },
    "language_info": {
      "name": "python"
    }
  },
  "cells": [
    {
      "cell_type": "markdown",
      "source": [
        "# Ejercicios Binomial Negativa"
      ],
      "metadata": {
        "id": "8mn48NJ600Zl"
      }
    },
    {
      "cell_type": "markdown",
      "source": [
        "## Ejercicio 1\n",
        "Se tira un dado varias veces hasta que resulte por quinta vez un 5.\n",
        "\n",
        "\n",
        "*   Calcular la probabilidad de que resulte por quinta vez el número 5, en el quinto lanzamiento\n",
        "*   Calcular la probabilidad de que antes del séptimo lanzamiento resulte por cuarta vez un 5\n"
      ],
      "metadata": {
        "id": "4cMUEBn40_X-"
      }
    },
    {
      "cell_type": "code",
      "execution_count": null,
      "metadata": {
        "id": "FhlL7ZOV0vK4"
      },
      "outputs": [],
      "source": [
        "from math import comb\n",
        "\n",
        "# Función para calcular la probabilidad en una distribución binomial negativa\n",
        "def binomial_negativa(r, p, x):\n",
        "    \"\"\"\n",
        "    Calcula P(X = x) para una distribución binomial negativa.\n",
        "    r: número de éxitos deseados\n",
        "    p: probabilidad de éxito en un intento\n",
        "    x: número total de intentos\n",
        "    \"\"\"\n",
        "    return comb(x - 1, r - 1) * (p ** r) * ((1 - p) ** (x - r))\n",
        "\n",
        "# Probabilidad de obtener un 5 en un lanzamiento de dado\n",
        "p = 1 / 6\n",
        "\n",
        "# Apartado a)\n",
        "# Calcular la probabilidad de que se obtenga el quinto 5 en el quinto lanzamiento\n",
        "r_a = 5  # número de éxitos deseados\n",
        "x_a = 5  # número total de lanzamientos\n",
        "prob_a = binomial_negativa(r_a, p, x_a)\n",
        "\n",
        "# Apartado b)\n",
        "# Calcular la probabilidad de que antes del séptimo lanzamiento se obtengan 4 veces un 5\n",
        "r_b = 4  # número de éxitos deseados\n",
        "x_b = 7  # número total de lanzamientos\n",
        "prob_b = sum(binomial_negativa(r_b, p, x) for x in range(r_b, x_b))\n",
        "\n",
        "# Imprimir los resultados\n",
        "print(f\"a) La probabilidad de obtener el quinto 5 en el quinto lanzamiento es: {prob_a:.4f}\")\n",
        "print(f\"b) La probabilidad de obtener cuatro 5 antes del séptimo lanzamiento es: {prob_b:.4f}\")\n"
      ]
    },
    {
      "cell_type": "markdown",
      "source": [
        "## Ejercicio 2\n",
        " Se lanza repetidas veces una moneda honesta cuyos dos resultados son cara y cruz.¿Cuál es la probabilidad de obtener la tercera cruz en el quinto lanzamiento?"
      ],
      "metadata": {
        "id": "HRCSe5-P1ipo"
      }
    },
    {
      "cell_type": "code",
      "source": [
        "\n",
        "   from math import comb\n",
        "\n",
        "    # FunciOn para calcular la probabilidad en una distribuciOn binomial negativa\n",
        "    def binomial_negativa(r, p, x):\n",
        "    \"\"\"\n",
        "    Calcula P(X = x) para una distribuciOn binomial negativa.\n",
        "    r: numero de exitos deseados (tercera cruz en este caso)\n",
        "    p: probabilidad de exito (probabilidad de cruz)\n",
        "    x: numero total de lanzamientos\n",
        "    \"\"\"\n",
        "    return comb(x - 1, r - 1) * (p ** r) * ((1 - p) ** (x - r))\n",
        "\n",
        "    # Probabilidad de cruz en una moneda honesta\n",
        "    p = 0.5\n",
        "\n",
        "    # Datos del problema\n",
        "    r = 3  # tercer exito (tercera cruz)\n",
        "    x = 5  # quinto lanzamiento\n",
        "\n",
        "    # Calcular la probabilidad\n",
        "    probabilidad = binomial_negativa(r, p, x)\n",
        "\n",
        "    # Resultados para el Ejercicio 2\n",
        "    print(f\"La probabilidad de obtener la tercera cruz en el quinto lanzamiento es: {probabilidad:.4f}\")"
      ],
      "metadata": {
        "id": "JjP91l7S1s9j"
      },
      "execution_count": null,
      "outputs": []
    },
    {
      "cell_type": "markdown",
      "source": [
        "## Ejercicio 3\n",
        "\n",
        " Para tratar a un paciente de una afección de pulmón, han de ser operados en operaciones independientes sus 5 lóbulos pulmonares.\n",
        " La técnica a utilizar es tal que si todo va bien, lo que ocurre con probabilidad 7\\11, el lóbulo queda definitivamente sano,\n",
        "pero si no es así se deberá esperar el tiempo suficiente para intentarlo posteriormente de nuevo. Se practicará la cirugía hasta que 4 de sus 5 lóbulos funcionen correctamente.\n",
        "\n",
        "\n",
        "*  ¿Cuál es el valor esperado de intervenciones que deba padecer el paciente?\n",
        "*  ¿Cuál es la probabilidad de que se necesiten 10 intervenciones?\n"
      ],
      "metadata": {
        "id": "cdQM-2OK2Vbs"
      }
    },
    {
      "cell_type": "code",
      "source": [
        "from math import comb\n",
        "\n",
        "# Función para calcular la probabilidad en una distribución binomial negativa\n",
        "def binomial_negativa(r, p, x):\n",
        "    \"\"\"\n",
        "    Calcula P(X = x) para una distribución binomial negativa.\n",
        "    r: número de éxitos deseados (lóbulos sanos)\n",
        "    p: probabilidad de éxito por operación\n",
        "    x: número total de intervenciones\n",
        "    \"\"\"\n",
        "    return comb(x - 1, r - 1) * (p ** r) * ((1 - p) ** (x - r))\n",
        "\n",
        "# Parámetros del problema\n",
        "p = 7 / 11  # Probabilidad de éxito por operación\n",
        "r = 4       # Número de lóbulos que deben quedar sanos\n",
        "\n",
        "# a) Número esperado de intervenciones\n",
        "# La fórmula para el valor esperado en la binomial negativa es:\n",
        "# E(X) = r / p\n",
        "esperado = r / p\n",
        "\n",
        "# b) Probabilidad de que se necesiten exactamente 10 intervenciones\n",
        "x = 10  # Número total de intervenciones\n",
        "prob_10 = binomial_negativa(r, p, x)\n",
        "\n",
        "# Mostrar los resultados\n",
        "print(f\"El número esperado de intervenciones es: {esperado:.2f}\")\n",
        "print(f\"La probabilidad de que se necesiten exactamente 10 intervenciones es: {prob_10:.4f}\")"
      ],
      "metadata": {
        "id": "XBVcW2RG2wFB"
      },
      "execution_count": null,
      "outputs": []
    }
  ]
}