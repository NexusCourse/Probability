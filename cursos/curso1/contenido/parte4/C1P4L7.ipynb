{
  "nbformat": 4,
  "nbformat_minor": 0,
  "metadata": {
    "colab": {
      "provenance": []
    },
    "kernelspec": {
      "name": "python3",
      "display_name": "Python 3"
    },
    "language_info": {
      "name": "python"
    }
  },
  "cells": [
    {
      "cell_type": "markdown",
      "source": [
        "# Ejercicios Distribución Uniforme Contínua"
      ],
      "metadata": {
        "id": "YCV9JLfj6ok5"
      }
    },
    {
      "cell_type": "markdown",
      "source": [
        "## Ejercicio 1\n",
        " Se sabe que un autobús llegará de forma aleatoria en un intervalo entre 0 y 15 min.\n",
        "\n",
        "\n",
        "*   La probabilidad que el autobús llegue después de 10 minutos\n",
        "*    La probabilidad de que el autobús llegue después de 10 minutos dado que se sabe que a los 5 minutos no llegó.\n",
        "*    La media y desviación estándar del momento en que llegará el autobús.\n",
        "\n",
        "\n",
        "\n"
      ],
      "metadata": {
        "id": "Mr-ucZc_6xlK"
      }
    },
    {
      "cell_type": "code",
      "execution_count": null,
      "metadata": {
        "id": "j72KSfE86fW1"
      },
      "outputs": [],
      "source": [
        "import scipy.stats as stats\n",
        "\n",
        "# Definimos los límites de la distribución uniforme\n",
        "a, b = 0, 15\n",
        "\n",
        "# Probabilidad de que el autobús llegue después de 10 minutos\n",
        "p_x_gt_10 = 1 - stats.uniform.cdf(10, loc=a, scale=b-a)\n",
        "\n",
        "# Probabilidad condicional P(X > 10 | X > 5)\n",
        "p_x_gt_5 = 1 - stats.uniform.cdf(5, loc=a, scale=b-a)\n",
        "p_x_gt_10_given_x_gt_5 = p_x_gt_10 / p_x_gt_5\n",
        "\n",
        "# Media y desviación estándar\n",
        "mean_x = stats.uniform.mean(loc=a, scale=b-a)\n",
        "std_x = stats.uniform.std(loc=a, scale=b-a)\n",
        "\n",
        "# Resultados\n",
        "print(f\"P(X > 10) = {p_x_gt_10:.4f}\")\n",
        "print(f\"P(X > 10 | X > 5) = {p_x_gt_10_given_x_gt_5:.4f}\")\n",
        "print(f\"Media de X = {mean_x:.2f}\")\n",
        "print(f\"Desviación estándar de X = {std_x:.2f}\")"
      ]
    },
    {
      "cell_type": "markdown",
      "source": [
        "## Ejercicio 2\n",
        "e tiene un servicio de llamadas telefónicas donde el tiempo mínimo de espera es de 20 segundos y el máximo de 50 segundos.\n",
        "  Si los tiempos de respuesta se distribuyen uniformemente, se desea calcular:\n",
        "\n",
        "\n",
        "*   La probabilidad de que el tiempo de respuesta esté entre 25 y 45 segundos.\n",
        "*   La probabilidad de que el tiempo de respuesta sea menor a 30 segundos\n"
      ],
      "metadata": {
        "id": "hqJT30MJ7Ivs"
      }
    },
    {
      "cell_type": "code",
      "source": [
        "from scipy.stats import uniform\n",
        "\n",
        "# Definir los parámetros de la distribución\n",
        "min_time = 20  # segundos\n",
        "max_time = 50  # segundos\n",
        "\n",
        "# Calcular la probabilidad para el intervalo [25, 45]\n",
        "p1 = uniform.cdf(45, loc=min_time, scale=max_time - min_time) - uniform.cdf(25, loc=min_time, scale=max_time - min_time)\n",
        "\n",
        "# Calcular la probabilidad para el intervalo [20, 30]\n",
        "p2 = uniform.cdf(30, loc=min_time, scale=max_time - min_time)\n",
        "\n",
        "print(f\"Probabilidad de que el tiempo de respuesta esté entre 25 y 45 segundos: {p1:.4f}\")\n",
        "print(f\"Probabilidad de que el tiempo de respuesta sea menor a 30 segundos: {p2:.4f}\")"
      ],
      "metadata": {
        "id": "DHFj6qcM7XM2"
      },
      "execution_count": null,
      "outputs": []
    },
    {
      "cell_type": "markdown",
      "source": [
        "## Ejercicio 3\n",
        " Una persona que va al seguro sabe que, para ser atendido, tiene que esperar un tiempo mínimo de 43 minutos hasta 75 minutos. Si los tiempos de respuesta para que pasen los pacientes se distribuyen uniformemente, se desea encontrar la probabilidad de que dicha persona sea atendida:\n",
        "\n",
        "\n",
        "*    A más tardar a los 58 minutos.\n",
        "*   Que al paciente lo atiendan entre los 49 y 67 minutos\n",
        "\n",
        "\n",
        "\n"
      ],
      "metadata": {
        "id": "A96gKtCZ7bOo"
      }
    },
    {
      "cell_type": "code",
      "source": [
        "# Definir los límites de la distribución uniforme\n",
        "c = 43  # tiempo mínimo\n",
        "d = 75  # tiempo máximo\n",
        "\n",
        "# A) Probabilidad de ser atendido a más tardar a los 58 minutos\n",
        "a_58 = 58\n",
        "probabilidad_58 = (a_58 - c) / (d - c)\n",
        "\n",
        "# B) Probabilidad de ser atendido entre los 49 y 67 minutos\n",
        "a_49 = 49\n",
        "b_67 = 67\n",
        "probabilidad_49_67 = (b_67 - a_49) / (d - c)\n",
        "\n",
        "# Mostrar los resultados\n",
        "print(f\"Probabilidad de ser atendido a más tardar a los 58 minutos: {probabilidad_58 * 100:.2f}%\")\n",
        "print(f\"Probabilidad de ser atendido entre los 49 y 67 minutos: {probabilidad_49_67 * 100:.2f}%\")"
      ],
      "metadata": {
        "id": "ko1CeMC27p7V"
      },
      "execution_count": null,
      "outputs": []
    }
  ]
}