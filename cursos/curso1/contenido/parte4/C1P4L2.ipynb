{
  "nbformat": 4,
  "nbformat_minor": 0,
  "metadata": {
    "colab": {
      "provenance": []
    },
    "kernelspec": {
      "name": "python3",
      "display_name": "Python 3"
    },
    "language_info": {
      "name": "python"
    }
  },
  "cells": [
    {
      "cell_type": "markdown",
      "source": [
        "# Ejercicios Distribución Bernoulli"
      ],
      "metadata": {
        "id": "9Su5ToX-xgtN"
      }
    },
    {
      "cell_type": "markdown",
      "source": [
        "##Ejercicio 1\n",
        " En una mochila hay 6 libros: matemática, física, química,mecánica, termodinámica y estadística ¿Cuál es laprobabilidad de que el estudiante saque al azar el libro deestadística?"
      ],
      "metadata": {
        "id": "SXu6XxYRxuan"
      }
    },
    {
      "cell_type": "code",
      "execution_count": null,
      "metadata": {
        "id": "6N35pU0yxfnb"
      },
      "outputs": [],
      "source": [
        "from scipy.stats import bernoulli\n",
        "\n",
        "# Probabilidad de éxito (sacar el libro de estadística)\n",
        "p = 1 / 6\n",
        "\n",
        "# Crear una distribución de Bernoulli\n",
        "distribucion_bernoulli = bernoulli(p)\n",
        "\n",
        "# Probabilidad de éxito (sacar el libro de estadística)\n",
        "probabilidad_exito = distribucion_bernoulli.pmf(1)\n",
        "\n",
        "# Probabilidad de fracaso (no sacar el libro de estadística)\n",
        "probabilidad_fracaso = distribucion_bernoulli.pmf(0)\n",
        "\n",
        "print(\"probabilidad de éxito:\", probabilidad_exito)\n",
        "print(\"probabilidad de fracaso:\", probabilidad_fracaso)"
      ]
    },
    {
      "cell_type": "markdown",
      "source": [
        "## Ejercicio 2\n",
        " ¿Cuál es la probabilidad de, que al lanzar una moneda, se obtenga cara o cruz?"
      ],
      "metadata": {
        "id": "ujPgWSq4x0F9"
      }
    },
    {
      "cell_type": "code",
      "source": [
        "from scipy.stats import bernoulli\n",
        "\n",
        "# Probabilidad de éxito (obtener cara)\n",
        "p = 0.5\n",
        "\n",
        "# Crear una distribución de Bernoulli\n",
        "distribucion_bernoulli = bernoulli(p)\n",
        "\n",
        "# Probabilidad de obtener \"cara\" (éxito)\n",
        "probabilidad_cara = distribucion_bernoulli.pmf(1)\n",
        "\n",
        "# Probabilidad de obtener \"cruz\" (fracaso)\n",
        "probabilidad_cruz = distribucion_bernoulli.pmf(0)\n",
        "\n",
        "print(\"probabilidad de obtener cara:\", probabilidad_cara)\n",
        "print(\"probabilidad de obtener cruz:\", probabilidad_cruz)"
      ],
      "metadata": {
        "id": "1e220Q3nx74L"
      },
      "execution_count": null,
      "outputs": []
    },
    {
      "cell_type": "markdown",
      "source": [
        "## Ejercicio 3\n",
        "En un restaurante de comida rápida, el 25\\% de las órdenes para beber es una bebida pequeña, el 35\\% una mediana y el 40\\% una grande. Sea $X=1$ si se escoge aleatoriamente una orden de una bebida pequeña y sea $X=0$ en cualquier otro caso. Sea $Y=1$ si la orden es de una bebida mediana y $Y=0$ en cualquier otro caso. Sea $Z=1$ si la orden es una bebida pequeña o mediana y $Z=0$ para cualquier otro caso."
      ],
      "metadata": {
        "id": "y93nssnWx_6x"
      }
    },
    {
      "cell_type": "code",
      "source": [
        "from scipy.stats import bernoulli\n",
        "\n",
        "# Probabilidades de éxito para cada variable\n",
        "p_x = 0.25  # Probabilidad de X=1 (bebida pequeña)\n",
        "p_y = 0.35  # Probabilidad de Y=1 (bebida mediana)\n",
        "p_z = 0.25 + 0.35  # Probabilidad de Z=1 (bebida pequeña o mediana)\n",
        "\n",
        "# Modelos Bernoulli\n",
        "X = bernoulli(p_x)  # Distribución Bernoulli para X\n",
        "Y = bernoulli(p_y)  # Distribución Bernoulli para Y\n",
        "Z = bernoulli(p_z)  # Distribución Bernoulli para Z\n",
        "\n",
        "# Probabilidades de éxito y fracaso\n",
        "print(f\"P(X=1): {X.pmf(1)}\")  # P(X=1) - Probabilidad de éxito\n",
        "print(f\"P(X=0): {X.pmf(0)}\")  # P(X=0) - Probabilidad de fracaso\n",
        "\n",
        "print(f\"P(Y=1): {Y.pmf(1)}\")  # P(Y=1) - Probabilidad de éxito\n",
        "print(f\"P(Y=0): {Y.pmf(0)}\")  # P(Y=0) - Probabilidad de fracaso\n",
        "\n",
        "print(f\"P(Z=1): {Z.pmf(1)}\")  # P(Z=1) - Probabilidad de éxito\n",
        "print(f\"P(Z=0): {Z.pmf(0)}\")  # P(Z=0) - Probabilidad de fracaso"
      ],
      "metadata": {
        "id": "KXeXn5IDyJKx"
      },
      "execution_count": null,
      "outputs": []
    }
  ]
}