{
  "nbformat": 4,
  "nbformat_minor": 0,
  "metadata": {
    "colab": {
      "provenance": []
    },
    "kernelspec": {
      "name": "python3",
      "display_name": "Python 3"
    },
    "language_info": {
      "name": "python"
    }
  },
  "cells": [
    {
      "cell_type": "markdown",
      "source": [
        "UNIFORME DISCRETA"
      ],
      "metadata": {
        "id": "lOfMCfzuvaOc"
      }
    },
    {
      "cell_type": "markdown",
      "source": [
        "##Ejercicio 1\n",
        " Sea $X$ con distribución uniforme en el conjunto  {1, 2, 3, 4, 5\\}. ¿Cuál es la probabilidad de que el area del rectángulo de lados $ X$ y $6 - X $ sea mayor o igual a 8?"
      ],
      "metadata": {
        "id": "BpfadRghvu1d"
      }
    },
    {
      "cell_type": "code",
      "source": [
        "# Ejercicio de distribucion uniforme discreta\n",
        "#Sea \\( X \\) con distribución uniforme en el conjunto \\( \\{1, 2, 3, 4, 5\\} \\).\n",
        "#¿Cuál es la probabilidad de que el área del rectángulo de lados \\( X \\) y \\( 6 - X \\) sea mayor o igual a 8?\n",
        "\n",
        "# Valores posibles de X (distribución uniforme en el conjunto {1, 2, 3, 4, 5})\n",
        "X_values = [1, 2, 3, 4, 5]\n",
        "\n",
        "# Cada valor de X es equiprobable, con una probabilidad de 1/5\n",
        "\n",
        "# Calculamos el área del rectángulo para cada valor de X\n",
        "areas = [x * (6 - x) for x in X_values]\n",
        "\n",
        "# Determinamos los casos donde el área es mayor o igual a 8\n",
        "valid_cases = [area for area in areas if area >= 8]\n",
        "\n",
        "# Como X tiene una distribución uniforme, la probabilidad de un evento se calcula\n",
        "# como (número de casos favorables) / (número total de casos posibles)\n",
        "probability = len(valid_cases) / len(X_values)\n",
        "\n",
        "# Mostramos los resultados\n",
        "print(f\"Valores de X: {X_values}\")\n",
        "print(f\"Áreas correspondientes: {areas}\")\n",
        "print(f\"Número de casos donde el área es >= 8: {len(valid_cases)}\")\n",
        "print(f\"Probabilidad de que el área sea >= 8: {probability:.2f}\")"
      ],
      "metadata": {
        "id": "nxxJ1Q9fvf6u"
      },
      "execution_count": null,
      "outputs": []
    },
    {
      "cell_type": "markdown",
      "source": [
        "## Ejercicio 2\n",
        " Se escogen al azar y de manera independiente dos números $a$ y $b$ dentro\n",
        "         del conjunto  \\{1, 2,.., 10\\} . Calcule la probabilidad de que:\n",
        "\n",
        "         \n",
        "\n",
        "*   $a$ sea menor a $b$\n",
        "*  $a$ y $b$ coincidan\n",
        "\n",
        "\n",
        "        "
      ],
      "metadata": {
        "id": "X42FsTZhwGFk"
      }
    },
    {
      "cell_type": "code",
      "source": [
        "import itertools\n",
        "\n",
        "# Definir el conjunto de números\n",
        "conjunto = list(range(1, 11))\n",
        "\n",
        "# Espacio muestral: todas las combinaciones posibles de a y b (10 × 10 = 100)\n",
        "espacio_muestral = list(itertools.product(conjunto, repeat=2))\n",
        "\n",
        "# a) Calcular la probabilidad de que a y b coincidan\n",
        "eventos_a_igual_b = [(a, b) for a, b in espacio_muestral if a == b]\n",
        "probabilidad_a_igual_b = len(eventos_a_igual_b) / len(espacio_muestral)\n",
        "\n",
        "# b) Calcular la probabilidad de que a sea menor que b\n",
        "eventos_a_menor_b = [(a, b) for a, b in espacio_muestral if a < b]\n",
        "probabilidad_a_menor_b = len(eventos_a_menor_b) / len(espacio_muestral)\n",
        "\n",
        "# Mostrar los resultados\n",
        "print(f\"a) Probabilidad de que a y b coincidan: {probabilidad_a_igual_b:.2f}\")\n",
        "print(f\"b) Probabilidad de que a sea menor que b: {probabilidad_a_menor_b:.2f}\")"
      ],
      "metadata": {
        "id": "N9hMAAY6wFbX"
      },
      "execution_count": null,
      "outputs": []
    },
    {
      "cell_type": "markdown",
      "source": [
        "## Ejercicio 3\n",
        " Una persona que va al seguro, sabe que para ser atendido tiene que esperarun tiempo mínimo de 43min hasta 75min. Si los tiempos de respuesta para que pasen los pacientes se distribuyen uniformemente, encuentre la probabilidades que, dicha persona pueda ser atendida:\n",
        "\n",
        "\n",
        "*   $A)$ A más tardar a los 58 minutos.\n",
        "*   $B)$ Que al paciente lo atiendan entre los 49 y 67 minutos.\n",
        "\n",
        "\n",
        "    \n",
        "    "
      ],
      "metadata": {
        "id": "u7BtFulewuT6"
      }
    },
    {
      "cell_type": "code",
      "source": [
        "# Parámetros de la distribución uniforme\n",
        "min_time = 43  # Tiempo mínimo\n",
        "max_time = 75  # Tiempo máximo\n",
        "\n",
        "# A) Probabilidad de ser atendido a más tardar en 58 minutos\n",
        "a = min_time  # Límite inferior\n",
        "b_a = 58      # Límite superior para este caso\n",
        "\n",
        "# Probabilidad de a más tardar 58 minutos\n",
        "prob_a = (b_a - min_time) / (max_time - min_time)\n",
        "\n",
        "# B) Probabilidad de ser atendido entre 49 y 67 minutos\n",
        "a_b = 49  # Límite inferior\n",
        "b_b = 67  # Límite superior\n",
        "\n",
        "# Probabilidad de estar en el intervalo [49, 67]\n",
        "prob_b = (b_b - a_b) / (max_time - min_time)\n",
        "\n",
        "# Mostrar resultados\n",
        "print(f\"Probabilidad de ser atendido a más tardar en 58 minutos: {prob_a:.4f}\")\n",
        "print(f\"Probabilidad de ser atendido entre 49 y 67 minutos: {prob_b:.4f}\")"
      ],
      "metadata": {
        "id": "sNHpOj5ywt1-"
      },
      "execution_count": null,
      "outputs": []
    }
  ]
}