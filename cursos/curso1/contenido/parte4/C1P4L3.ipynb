{
  "nbformat": 4,
  "nbformat_minor": 0,
  "metadata": {
    "colab": {
      "provenance": []
    },
    "kernelspec": {
      "name": "python3",
      "display_name": "Python 3"
    },
    "language_info": {
      "name": "python"
    }
  },
  "cells": [
    {
      "cell_type": "markdown",
      "source": [
        "#Ejercicios Distribución Binomial"
      ],
      "metadata": {
        "id": "_mm1K1_5zFI8"
      }
    },
    {
      "cell_type": "markdown",
      "source": [
        " ## Ejercicio 1\n",
        "  La probabilidad de que a un cliente nuevo le guste la matehamburguesa de Jorge es de 0,8. Si llegan 5 clientes nuevos a la cafetería, ¿cuál es la probabilidad de que solo a 3 de ellos les guste la matehamburguesa?"
      ],
      "metadata": {
        "id": "Popod2gYzTlg"
      }
    },
    {
      "cell_type": "code",
      "source": [
        "import math\n",
        "\n",
        "# Parámetros\n",
        "n = 5   # Número de clientes\n",
        "p = 0.8 # Probabilidad de que a un cliente le guste la matehamburguesa\n",
        "k = 3   # Número de clientes que les gusta la matehamburguesa\n",
        "\n",
        "# Cálculo del coeficiente binomial\n",
        "def coef_binomial(n, k):\n",
        "    return math.factorial(n) // (math.factorial(k) * math.factorial(n - k))\n",
        "\n",
        "# Cálculo de la probabilidad\n",
        "probabilidad = coef_binomial(n, k) * (p ** k) * ((1 - p) ** (n - k))\n",
        "\n",
        "print(f'La probabilidad de que exactamente {k} de los {n} clientes nuevos disfruten de la matehamburguesa es: {probabilidad:.4f}')"
      ],
      "metadata": {
        "id": "NRDhLIP0zOsF"
      },
      "execution_count": null,
      "outputs": []
    },
    {
      "cell_type": "markdown",
      "source": [
        "##Ejercicio 2\n",
        " Se sabe que en un proceso de producción el $7.4\\%$ de artículos son producidos con algún defecto. Se obtiene una muestra aleatoria de 100 artículos. Calcula la probabilidad:\n",
        "\n",
        "\n",
        "*   10 artículos defectuosos\n",
        "*   más de dos artículos defectuosos\n",
        "*   El promedio y la desviación estandar del número de artículos defectuosos\n",
        "*   0.1 percentil\n",
        "*   moda\n"
      ],
      "metadata": {
        "id": "UT041O6mzdu_"
      }
    },
    {
      "cell_type": "code",
      "execution_count": null,
      "metadata": {
        "id": "yWTWSi4eyw2l"
      },
      "outputs": [],
      "source": [
        "import scipy.stats as stats\n",
        "import numpy as np\n",
        "\n",
        "# Parámetros de la distribución binomial\n",
        "n = 100  # tamaño de la muestra\n",
        "p = 0.074  # probabilidad de que un artículo sea defectuoso\n",
        "\n",
        "# a) Probabilidad de tener exactamente 10 artículos defectuosos\n",
        "prob_10_defectuosos = stats.binom.pmf(10, n, p)\n",
        "print(f\"Probabilidad de tener exactamente 10 artículos defectuosos: {prob_10_defectuosos:.4f}\")\n",
        "\n",
        "# b) Probabilidad de tener más de 10 artículos defectuosos\n",
        "prob_mas_de_10_defectuosos = 1 - stats.binom.cdf(10, n, p)\n",
        "print(f\"Probabilidad de tener más de 10 artículos defectuosos: {prob_mas_de_10_defectuosos:.4f}\")\n",
        "\n",
        "# c) Promedio y desviación estándar\n",
        "mean = n * p  # Promedio\n",
        "std_dev = np.sqrt(n * p * (1 - p))  # Desviación estándar\n",
        "print(f\"Promedio: {mean:.2f}\")\n",
        "print(f\"Desviación estándar: {std_dev:.2f}\")\n",
        "\n",
        "# d) Percentil del 0.1 (el valor de defectuosos que representa el 10% más bajo)\n",
        "percentil_01 = stats.binom.ppf(0.1, n, p)\n",
        "print(f\"Percentil del 0.1: {percentil_01}\")\n",
        "\n",
        "# e) Moda (el valor más probable de defectuosos)\n",
        "moda = int((n + 1) * p)\n",
        "print(f\"Moda: {moda}\")"
      ]
    },
    {
      "cell_type": "markdown",
      "source": [
        "## Ejercicio 3\n",
        "     \n",
        "Un examen tiene diez preguntas y cada una tiene tres opciones como respuesta, siendo solamente una de ellas la correcta. Si un estudiante contesta cada pregunta al azar, ¿cuál es la probabilidad de que apruebe el examen?"
      ],
      "metadata": {
        "id": "56Ts7Kqa0WWi"
      }
    },
    {
      "cell_type": "code",
      "source": [
        "import math\n",
        "\n",
        "# Datos del problema\n",
        "n = 10  # Número de preguntas\n",
        "p = 1 / 3  # Probabilidad de acertar una pregunta\n",
        "k_min_aprobatoria = 6  # Mínimo número de aciertos para aprobar\n",
        "\n",
        "# Función para calcular factorial\n",
        "def factorial(k):\n",
        "    return 1 if k == 0 else k * factorial(k - 1)\n",
        "\n",
        "# Función para calcular la probabilidad binomial\n",
        "def binomial_prob(n, k, p):\n",
        "    comb = factorial(n) // (factorial(k) * factorial(n - k))  # Coeficiente binomial\n",
        "    prob = comb * (p ** k) * ((1 - p) ** (n - k))  # Fórmula de la probabilidad binomial\n",
        "    return prob\n",
        "\n",
        "# Probabilidad de aprobar el examen (X >= 6)\n",
        "prob_aprobar = sum(binomial_prob(n, k, p) for k in range(k_min_aprobatoria, n + 1))\n",
        "print(f\"La probabilidad de aprobar el examen es: {prob_aprobar:.6f}\")"
      ],
      "metadata": {
        "id": "oNtd3nve0iWc"
      },
      "execution_count": null,
      "outputs": []
    }
  ]
}