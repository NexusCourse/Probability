{
  "nbformat": 4,
  "nbformat_minor": 0,
  "metadata": {
    "colab": {
      "provenance": []
    },
    "kernelspec": {
      "name": "python3",
      "display_name": "Python 3"
    },
    "language_info": {
      "name": "python"
    }
  },
  "cells": [
    {
      "cell_type": "markdown",
      "source": [
        "# Ejercicios Distribución Normal"
      ],
      "metadata": {
        "id": "R4Qf7vOu_vDH"
      }
    },
    {
      "cell_type": "markdown",
      "source": [
        "## Ejercicio 1\n",
        "Suponga que el tiempo promedio que le toma a una persona terminar un cierto examen de inglés es de 30 minutos, con una desviación estándar de 5 minutos. Suponiendo una distribución aproximada normal con estos parámetros, determine el tiempo que debe asignarse al examen para que el 95\\% de las personas puedan terminar el examen."
      ],
      "metadata": {
        "id": "6uPu2Lmf_2GV"
      }
    },
    {
      "cell_type": "code",
      "execution_count": null,
      "metadata": {
        "id": "Wz4KPGj9_uKa"
      },
      "outputs": [],
      "source": [
        "import scipy.stats as stats\n",
        "\n",
        "# Parámetros dados\n",
        "mu = 30  # media en minutos\n",
        "sigma = 5  # desviación estándar en minutos\n",
        "\n",
        "# Valor z para el percentil 95 de la distribución normal estándar\n",
        "z_95 = stats.norm.ppf(0.95)\n",
        "\n",
        "# Calcular el tiempo necesario para que el 95% de las personas terminen el examen\n",
        "t = mu + z_95 * sigma\n",
        "\n",
        "print(f\"El tiempo que debe asignarse al examen para que el 95% de las personas puedan terminar es: {t:.2f} minutos\")"
      ]
    },
    {
      "cell_type": "markdown",
      "source": [
        "## Ejercicio 2\n",
        " Suponga que el tiempo de vida útil $ X $, medido en horas, de un componente electrónico se puede modelar de manera aproximada mediante una variable aleatoria con distribución normal con parámetros $ \\mu = 20,000 $ hrs. y $ \\sigma = 500 $hrs.\n",
        "\n",
        "\n",
        "\n",
        "*    ¿Cuál es la probabilidad de que el componente dure más de 21,000 horas?\n",
        "*   Dado que el componente ha cubierto un tiempo de vida de 21,000 horas, ¿cuál es la probabilidad de que sobrepase 22,000 horas funcionando?\n"
      ],
      "metadata": {
        "id": "25Hqy9x5ADV7"
      }
    },
    {
      "cell_type": "code",
      "source": [
        "import scipy.stats as stats\n",
        "\n",
        "# Parámetros dados\n",
        "mu = 20000  # media en horas\n",
        "sigma = 500  # desviación estándar en horas\n",
        "\n",
        "# a) Probabilidad de que el componente dure más de 21,000 horas\n",
        "prob_mas_21000 = 1 - stats.norm.cdf(21000, loc=mu, scale=sigma)\n",
        "\n",
        "# b) Probabilidad de que, dado que el componente ha cubierto 21,000 horas, dure más de 22,000 horas\n",
        "prob_mas_22000_dado_mas_21000 = (1 - stats.norm.cdf(22000, loc=mu, scale=sigma)) / prob_mas_21000\n",
        "\n",
        "# Imprimir resultados\n",
        "print(f\"a) Probabilidad de que el componente dure más de 21,000 horas: {prob_mas_21000:.4f}\")\n",
        "print(f\"b) Probabilidad de que, dado que el componente ha cubierto 21,000 horas, dure más de 22,000 horas: {prob_mas_22000_dado_mas_21000:.4f}\")"
      ],
      "metadata": {
        "id": "VeIt5bPMAV6n"
      },
      "execution_count": null,
      "outputs": []
    },
    {
      "cell_type": "markdown",
      "source": [
        "## Ejercicio 3\n",
        "Un estudio ha mostrado que, en un cierto barrio, el 60\\% de los hogares tienen al menos dos televisores. Se elige al azar una muestra de 50 hogares en el citado barrio. Se pide:\n",
        "\n",
        "\n",
        "\n",
        "*   ¿Cuál es la probabilidad de que al menos 20 de los citados hogares tengan cuando menos dos televisores?\n",
        "*  ¿Cuál es la probabilidad de que entre 35 y 40 hogares tengan cuando menos dos televisores?\n"
      ],
      "metadata": {
        "id": "XeCjm8tjAbW6"
      }
    },
    {
      "cell_type": "code",
      "source": [
        "import scipy.stats as stats\n",
        "import math\n",
        "\n",
        "# Parámetros del problema\n",
        "n = 50  # Número de hogares\n",
        "p = 0.60  # Probabilidad de que un hogar tenga al menos dos televisores\n",
        "\n",
        "# Calcular la media y la desviación estándar\n",
        "mu = n * p\n",
        "sigma = math.sqrt(n * p * (1 - p))\n",
        "\n",
        "# Pregunta 1: Probabilidad de que al menos 20 hogares tengan al menos dos televisores\n",
        "# Aproximamos con la normal: P(X >= 20) = 1 - P(X < 20)\n",
        "prob_mas_20 = 1 - stats.norm.cdf(20, loc=mu, scale=sigma)\n",
        "\n",
        "# Pregunta 2: Probabilidad de que entre 35 y 40 hogares tengan al menos dos televisores\n",
        "prob_35_40 = stats.norm.cdf(40, loc=mu, scale=sigma) - stats.norm.cdf(35, loc=mu, scale=sigma)\n",
        "\n",
        "# Imprimir resultados\n",
        "print(f\"Probabilidad de que al menos 20 hogares tengan al menos dos televisores: {prob_mas_20*100:.2f}%\")\n",
        "print(f\"Probabilidad de que entre 35 y 40 hogares tengan al menos dos televisores: {prob_35_40*100:.2f}%\")"
      ],
      "metadata": {
        "id": "n2e8xsDFAnvj"
      },
      "execution_count": null,
      "outputs": []
    }
  ]
}