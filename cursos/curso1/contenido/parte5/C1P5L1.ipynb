{
  "nbformat": 4,
  "nbformat_minor": 0,
  "metadata": {
    "colab": {
      "provenance": []
    },
    "kernelspec": {
      "name": "python3",
      "display_name": "Python 3"
    },
    "language_info": {
      "name": "python"
    }
  },
  "cells": [
    {
      "cell_type": "markdown",
      "source": [
        "# Valor esperado y propiedades\n",
        "\n",
        "Curso 1 (Probabilidad I)\n",
        "\n",
        "Parte 5 / Lección 1"
      ],
      "metadata": {
        "id": "iKS9AJwJE3Rq"
      }
    },
    {
      "cell_type": "markdown",
      "source": [
        "Ejercicio 1.\n",
        "\n",
        " Suponga que las calificaciones de una persona al final del curso son: 8, 8, 6, 2. Calcule el **promedio muestral**."
      ],
      "metadata": {
        "id": "Ai3Uo-F2FTy7"
      }
    },
    {
      "cell_type": "code",
      "execution_count": 1,
      "metadata": {
        "colab": {
          "base_uri": "https://localhost:8080/"
        },
        "id": "UEmMpRiLErVB",
        "outputId": "040e1072-e562-4ce9-e5c8-6ee88cd8b5d3"
      },
      "outputs": [
        {
          "output_type": "stream",
          "name": "stdout",
          "text": [
            "El promedio muestral es: 6.0\n"
          ]
        }
      ],
      "source": [
        "# Lista de calificaciones\n",
        "calificaciones = [8, 8, 6, 2]\n",
        "\n",
        "# Cálculo del promedio muestral\n",
        "promedio_muestral = sum(calificaciones) / len(calificaciones)\n",
        "\n",
        "# Mostrar el resultado\n",
        "print(f\"El promedio muestral es: {promedio_muestral}\")\n"
      ]
    },
    {
      "cell_type": "markdown",
      "source": [
        "Ejercicio 2.\n",
        "\n",
        "Utilizando el ejemplo de las 3 monedas, la función de densidad del número de soles está dada por:\n",
        "$$f_X (x) = \\binom{3}{x}\\frac{1}{8} I_\\{0,1,2,3\\}^{(x)}$$\n",
        "Calcule la esperanza matemática."
      ],
      "metadata": {
        "id": "qVJxbwzQFdE6"
      }
    },
    {
      "cell_type": "code",
      "source": [
        "from math import comb\n",
        "\n",
        "# Definir los valores posibles de X\n",
        "valores = [0, 1, 2, 3]\n",
        "\n",
        "# Calcular la función de probabilidad f_X(x)\n",
        "def f_X(x):\n",
        "    return comb(3, x) * (1/8)\n",
        "\n",
        "# Calcular la esperanza matemática\n",
        "esperanza = sum(x * f_X(x) for x in valores)\n",
        "\n",
        "# Imprimir el resultado\n",
        "print(\"Esperanza matemática E[X]:\", esperanza)\n"
      ],
      "metadata": {
        "colab": {
          "base_uri": "https://localhost:8080/"
        },
        "id": "i57l8ArhFfuO",
        "outputId": "af1537e8-a9c5-4d6c-a6dc-d2d269391031"
      },
      "execution_count": 5,
      "outputs": [
        {
          "output_type": "stream",
          "name": "stdout",
          "text": [
            "Esperanza matemática E[X]: 1.5\n"
          ]
        }
      ]
    },
    {
      "cell_type": "markdown",
      "source": [
        "Ejercicio 3.\n",
        "\n",
        "Sea X el resultado de lanzar un dado, entonces $X$ toma valores \\{1,2,3,4,5,6\\} con probabilidad uniforme en este conjunto. Calcula la esperanza matemática de ésta variable aleatoria."
      ],
      "metadata": {
        "id": "ekeEbL8xF5NP"
      }
    },
    {
      "cell_type": "code",
      "source": [
        "# Definir los valores posibles de X\n",
        "valores = [1, 2, 3, 4, 5, 6]\n",
        "\n",
        "# Calcular la probabilidad uniforme\n",
        "probabilidad = 1 / len(valores)\n",
        "\n",
        "# Calcular la esperanza matemática\n",
        "esperanza = sum(x * probabilidad for x in valores)\n",
        "\n",
        "# Imprimir el resultado\n",
        "print(\"Esperanza matemática E[X]:\", esperanza)"
      ],
      "metadata": {
        "colab": {
          "base_uri": "https://localhost:8080/"
        },
        "id": "t6YGt_h0F7GA",
        "outputId": "7f00f61f-2e34-4b32-c1da-7415ea488e7d"
      },
      "execution_count": 4,
      "outputs": [
        {
          "output_type": "stream",
          "name": "stdout",
          "text": [
            "Esperanza matemática E[X]: 3.5\n"
          ]
        }
      ]
    },
    {
      "cell_type": "markdown",
      "source": [
        "Ejercicio 4.\n",
        "\n",
        "Sea $X$ una variable aleatoria discreta con función de probabilidad dada por la siguiente tabla:\n",
        "         \\\n",
        "\\begin{array}{|c|c|c|c|c|}\n",
        "\\hline\n",
        "x & -1 & 0 & 1 & 2 \\\\ \\hline\n",
        "f(x) & \\frac{1}{8} & \\frac{4}{8} & \\frac{1}{8} & \\frac{2}{8} \\\\ \\hline\n",
        "\\end{array}\n",
        "\\\n",
        "         Calcula la esperanza de $X$."
      ],
      "metadata": {
        "id": "uYWSeBTPGA_2"
      }
    },
    {
      "cell_type": "code",
      "source": [
        "# Definimos los valores de x y sus probabilidades f(x)\n",
        "x_values = [-1, 0, 1, 2]  # Valores de x\n",
        "probabilities = [1/8, 4/8, 1/8, 2/8]  # Probabilidades f(x)\n",
        "\n",
        "# Calculamos la esperanza matemática\n",
        "expected_value = sum(x * p for x, p in zip(x_values, probabilities))\n",
        "\n",
        "# Mostramos los resultados\n",
        "print(\"Valores de x:\", x_values)\n",
        "print(\"Probabilidades:\", probabilities)\n",
        "print(\"Esperanza matemática E[X]:\", expected_value)"
      ],
      "metadata": {
        "colab": {
          "base_uri": "https://localhost:8080/"
        },
        "id": "3idzmSX8GFf1",
        "outputId": "34573deb-c951-4215-9b41-1573fae54495"
      },
      "execution_count": 3,
      "outputs": [
        {
          "output_type": "stream",
          "name": "stdout",
          "text": [
            "Valores de x: [-1, 0, 1, 2]\n",
            "Probabilidades: [0.125, 0.5, 0.125, 0.25]\n",
            "Esperanza matemática E[X]: 0.5\n"
          ]
        }
      ]
    },
    {
      "cell_type": "markdown",
      "source": [
        "Ejercicio 6.\n",
        "\n",
        "Considere la variable aleatoria continua $X$ con función de densidad\n",
        "\n",
        "f(x) =\n",
        "\\begin{cases}\n",
        "2x & \\text{si } x \\in(0,1)\\\\\n",
        "0 & \\text{en otro caso.}\n",
        "\\end{cases}\n",
        "\n",
        "Calcula la esperanza de $X$."
      ],
      "metadata": {
        "id": "s0CMVOQ_FqUR"
      }
    },
    {
      "cell_type": "code",
      "source": [
        "from scipy.integrate import quad\n",
        "\n",
        "# Definimos la función de densidad f(x)\n",
        "def f_x(x):\n",
        "    return 2 * x if 0 < x < 1 else 0\n",
        "\n",
        "# Definimos la función x * f(x)\n",
        "def x_fx(x):\n",
        "    return x * f_x(x)\n",
        "\n",
        "# Calculamos la esperanza matemática como una integral definida\n",
        "expected_value, _ = quad(x_fx, 0, 1)  # Integral de 0 a 1\n",
        "print(\"Esperanza matemática E[X]:\", expected_value)"
      ],
      "metadata": {
        "colab": {
          "base_uri": "https://localhost:8080/"
        },
        "id": "K2RZDOW7Ft16",
        "outputId": "de2f6674-545a-450a-bf33-f43cac4d83d6"
      },
      "execution_count": 2,
      "outputs": [
        {
          "output_type": "stream",
          "name": "stdout",
          "text": [
            "Esperanza matemática E[X]: 0.6666666666666667\n"
          ]
        }
      ]
    }
  ]
}