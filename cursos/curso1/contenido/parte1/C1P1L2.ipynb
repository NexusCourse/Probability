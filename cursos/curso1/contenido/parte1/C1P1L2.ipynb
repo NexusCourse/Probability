{
 "cells": [
  {
   "cell_type": "markdown",
   "metadata": {},
   "source": [
    "<div style=\"line-height: 0.4;\">\n",
    "    <h1 style=\"color: green; font-weight: bold; text-align: center;\"></h1>\n",
    "    <h1 style=\"color: green; font-weight: bold; text-align: center;\">MEDIDA DE PROBABILIDAD</h1>\n",
    "    <h3 style=\"color: darkolivegreen; font-weight: bold; text-align: center;\">CURSO 1 (PROBABILIDAD I)</h3>\n",
    "    <h5 style=\"color: darkolivegreen; font-weight: bold; text-align: center;\">PARTE 1 / LECCIÓN 2</h5>\n",
    "</div>"
   ]
  },
  {
   "cell_type": "markdown",
   "metadata": {},
   "source": [
    "<h4 style=\"color: green; font-weight: bold; text-align: left;\">Ejercicio 1</h4>\n",
    "\n",
    "<h3>Probabilidad de Obtener una Suma de 4 al Lanzar Dos Dados</h3> \n",
    "\n",
    "Supongamos que lanzamos dos dados y queremos calcular la probabilidad de que la suma de los dos resultados sea 4. El espacio muestral es el conjunto de todas las posibles combinaciones de resultados de los dos dados, es decir, el conjunto $S = \\{(1,1), (1,2), \\dots, (6,6)\\}$.\n",
    "\n",
    "El evento $A$ de obtener una suma de 4 consiste en las combinaciones $(1,3), (2,2), (3,1)$."
   ]
  },
  {
   "cell_type": "code",
   "execution_count": 1,
   "metadata": {},
   "outputs": [
    {
     "name": "stdout",
     "output_type": "stream",
     "text": [
      "Probabilidad de obtener una suma de 4: 0.0827\n"
     ]
    }
   ],
   "source": [
    "import random\n",
    "\n",
    "# Funcion para simular el lanzamiento de dos dados\n",
    "def lanzar_dados():\n",
    "    dado_1 = random.randint(1, 6)\n",
    "    dado_2 = random.randint(1, 6)\n",
    "    return dado_1 + dado_2\n",
    "\n",
    "# Simulaciones\n",
    "n_simulaciones = 10000\n",
    "resultados = [lanzar_dados() for _ in range(n_simulaciones)]\n",
    "\n",
    "# Evento: Suma igual a 4\n",
    "eventos_suma_4 = [x for x in resultados if x == 4]\n",
    "probabilidad = len(eventos_suma_4) / n_simulaciones\n",
    "\n",
    "print(f'Probabilidad de obtener una suma de 4: {probabilidad}')"
   ]
  },
  {
   "cell_type": "markdown",
   "metadata": {},
   "source": [
    "<h4 style=\"color: green; font-weight: bold; text-align: left;\">Ejercicio 2</h4>\n",
    "\n",
    "En un curso, el 80\\% de los estudiantes estudian para un examen. De los estudiantes que estudian, el 90\\% aprueban el examen. Por otro lado, de los estudiantes que no estudian, el 30\\% aprueban el examen. Queremos calcular la probabilidad de que un estudiante haya aprobado el examen, sin saber si estudió o no.\n",
    "\n",
    "Definimos los siguientes eventos:\n",
    "\n",
    "Definimos los siguientes eventos:\n",
    "- $S$, el estudiante estudió para el examen.\n",
    "- $A$, el estudiante aprobó el examen.\n",
    "\n",
    "Sabemos que:\n",
    "\n",
    "Sabemos que:\n",
    "- $P(S) = 0.8$, (80\\% de los estudiantes estudian).\n",
    "- $P(A|S) = 0.9$, (El 90\\% de los estudiantes que estudiaron aprobaron).\n",
    "- $P(\\neg S) = 0.2$, (El 20\\% de los estudiantes no estudiaron).\n",
    "- $P(A|\\neg S) = 0.3$, (El 30\\% de los estudiantes que no estudiaron aprobaron).\n",
    "\n",
    "Queremos calcular $P(A)$, la probabilidad total de que un estudiante haya aprobado el examen, usando la ley de probabilidades totales."
   ]
  },
  {
   "cell_type": "code",
   "execution_count": 3,
   "metadata": {},
   "outputs": [
    {
     "name": "stdout",
     "output_type": "stream",
     "text": [
      "Probabilidad total de aprobar el examen: 0.78\n"
     ]
    }
   ],
   "source": [
    "# Definir probabilidades conocidas\n",
    "P_S = 0.8       # Probabilidad de que un estudiante estudie\n",
    "P_A_given_S = 0.9  # Probabilidad de aprobar dado que estudió\n",
    "P_not_S = 0.2   # Probabilidad de que un estudiante no estudie\n",
    "P_A_given_not_S = 0.3  # Probabilidad de aprobar dado que no estudió\n",
    "\n",
    "# Calcular la probabilidad total de aprobar el examen\n",
    "P_A = P_A_given_S * P_S + P_A_given_not_S * P_not_S\n",
    "print(f'Probabilidad total de aprobar el examen: {P_A}')"
   ]
  }
 ],
 "metadata": {
  "kernelspec": {
   "display_name": "base",
   "language": "python",
   "name": "python3"
  },
  "language_info": {
   "codemirror_mode": {
    "name": "ipython",
    "version": 3
   },
   "file_extension": ".py",
   "mimetype": "text/x-python",
   "name": "python",
   "nbconvert_exporter": "python",
   "pygments_lexer": "ipython3",
   "version": "3.11.4"
  }
 },
 "nbformat": 4,
 "nbformat_minor": 2
}
