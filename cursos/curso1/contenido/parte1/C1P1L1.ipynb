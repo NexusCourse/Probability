{
 "cells": [
  {
   "cell_type": "markdown",
   "metadata": {},
   "source": [
    "<div style=\"line-height: 0.4;\">\n",
    "    <h1 style=\"color: green; font-weight: bold; text-align: center;\"></h1>\n",
    "    <h1 style=\"color: green; font-weight: bold; text-align: center;\">ESPACIOS MUESTRALES Y EVENTOS</h1>\n",
    "    <h3 style=\"color: darkolivegreen; font-weight: bold; text-align: center;\">CURSO 1 (PROBABILIDAD I)</h3>\n",
    "    <h5 style=\"color: darkolivegreen; font-weight: bold; text-align: center;\">PARTE 1 / LECCIÓN 1</h5>\n",
    "</div>"
   ]
  },
  {
   "cell_type": "markdown",
   "metadata": {},
   "source": [
    "<h4 style=\"color: green; font-weight: bold; text-align: left;\">Ejercicio 1</h4>\n",
    "\n",
    "<h3> Lanzamiento de dado </h3> \n",
    "\n",
    "Simulamos el lanzamiento de un dado y calculamos la probabilidad de que ocurra un número par. \n",
    "El espacio muestral es $S = \\{1, 2, 3, 4, 5, 6\\}$ y el evento de obtener un número par es $A = \\{2, 4, 6\\}$."
   ]
  },
  {
   "cell_type": "code",
   "execution_count": 1,
   "metadata": {},
   "outputs": [
    {
     "name": "stdout",
     "output_type": "stream",
     "text": [
      "Probabilidad de obtener un número par: 0.4995\n"
     ]
    }
   ],
   "source": [
    "import random\n",
    "\n",
    "# Simulaciones\n",
    "n_simulaciones = 10000\n",
    "resultados = [random.randint(1, 6) for _ in range(n_simulaciones)]\n",
    "\n",
    "# Evento: Número par\n",
    "eventos_par = [x for x in resultados if x in [2, 4, 6]]\n",
    "probabilidad_par = len(eventos_par) / n_simulaciones\n",
    "\n",
    "print(f'Probabilidad de obtener un número par: {probabilidad_par}')"
   ]
  },
  {
   "cell_type": "markdown",
   "metadata": {},
   "source": [
    "<h4 style=\"color: green; font-weight: bold; text-align: left;\">Ejercicio 2</h4>\n",
    "\n",
    "Seleccionamos un número real aleatorio en el intervalo $[0, 1]$. Calculamos la probabilidad de que el número sea menor que 0.5."
   ]
  },
  {
   "cell_type": "code",
   "execution_count": 4,
   "metadata": {},
   "outputs": [
    {
     "name": "stdout",
     "output_type": "stream",
     "text": [
      "Probabilidad de que el número sea menor que 0.5: 0.5027\n"
     ]
    }
   ],
   "source": [
    "# Simular la selección de un número real\n",
    "n_simulaciones = 10000\n",
    "resultados = [random.uniform(0, 1) for _ in range(n_simulaciones)]\n",
    "\n",
    "# Evento: Número menor que 0.5\n",
    "eventos_menor_que_0_5 = [x for x in resultados if x < 0.5]\n",
    "probabilidad_menor_que_0_5 = len(eventos_menor_que_0_5) / n_simulaciones\n",
    "\n",
    "print(f'Probabilidad de que el número sea menor que 0.5: {probabilidad_menor_que_0_5}')"
   ]
  }
 ],
 "metadata": {
  "kernelspec": {
   "display_name": "base",
   "language": "python",
   "name": "python3"
  },
  "language_info": {
   "codemirror_mode": {
    "name": "ipython",
    "version": 3
   },
   "file_extension": ".py",
   "mimetype": "text/x-python",
   "name": "python",
   "nbconvert_exporter": "python",
   "pygments_lexer": "ipython3",
   "version": "3.11.4"
  }
 },
 "nbformat": 4,
 "nbformat_minor": 2
}
