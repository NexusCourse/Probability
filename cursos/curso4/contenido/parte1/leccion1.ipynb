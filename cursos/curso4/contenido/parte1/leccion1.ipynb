{
 "cells": [
  {
   "cell_type": "markdown",
   "metadata": {},
   "source": [
    "<div style=\"line-height: 0.4;\">\n",
    "    <h1 style=\"color: darkolivegreen; font-weight: bold; text-align: center;\"></h1>\n",
    "    <h1 style=\"color: darkolivegreen; font-weight: bold; text-align: center;\">PROCESO DE POISSON</h1>\n",
    "    <h3 style=\"color: darkolivegreen; font-weight: bold; text-align: center;\">CURSO 4 (PPROCESOS ESTOCASTICOS II)</h3>\n",
    "    <h5 style=\"color: darkolivegreen; font-weight: bold; text-align: center;\">PARTE 1 / LECCION 1</h5>\n",
    "</div>\n"
   ]
  },
  {
   "cell_type": "markdown",
   "metadata": {},
   "source": [
    "Como una introducción a la teoría general que se expondrá más adelante, en este capítulo estudiaremos uno de los ejemplos más importantes de este tipo de modelos: **el proceso de Poisson.** Definiremos este proceso de varias formas equivalentes y estudiaremos algunas de sus propiedades, sus generalizaciones y algunas de sus aplicaciones. El proceso de Poisson es un modelo relevante tanto en las aplicaciones como en la teoría general de los procesos estocásticos."
   ]
  },
  {
   "cell_type": "markdown",
   "metadata": {},
   "source": [
    "##### **Definición Constructiva del Proceso Poisson**"
   ]
  },
  {
   "cell_type": "markdown",
   "metadata": {},
   "source": [
    "Suponga que un mismo evento ocurre repetidad veces de manera aleatoria a lo largo del tiempo. Tal evento puede ser, por ejemplo, la llegada de una reclamación a una compañia aseguradora o la recepción de una llamda a un conmutador o los momentos en que una cierta maquinaria requiere reparacion etc.  </br>\n",
    "\n",
    "Suponga que las variables aleatorias $T_{1}, T_{2}...$ representan los tiempos que transcurren entre una ocurrencia del evento y la siguiente ocurrencia. Suponga que estos tiempos son independientes uno del otro yq ue cada uno tiene distribucion $exp(\\lambda)$. </br>\n",
    "\n",
    "Se define al **proceso de Poisson** al tiempo $t$ como el número de ocurrencias del evento que se han observado hasta ese instante $t$."
   ]
  },
  {
   "cell_type": "markdown",
   "metadata": {},
   "source": [
    "##### **Proceso de Conteo**"
   ]
  },
  {
   "cell_type": "markdown",
   "metadata": {},
   "source": [
    "Un proceso estocástico $\\{N(t): t \\geq 0\\}$ es llamado de **conteo** si,\n",
    "$$ N(t) = \\text{Número de sucesos entre } (0,t], $$\n",
    "\n",
    "el cual satisface las siguientes condiciones:\n",
    "1.  $N(t) \\geq 0$\n",
    "2.  $N(t)$ es entero valuable.\n",
    "3.  Si $s \\leq t$ entonces $N(s) \\leq N(t)$\n",
    "4. $N(t) - N(s):$ Número de sucesos que ocurre entre $(s,t]$"
   ]
  },
  {
   "cell_type": "markdown",
   "metadata": {},
   "source": [
    "Recuerda que:\n",
    "1.  Un proceso de conteo tiene **Incrementos Independientes** si el número de eventos que ocurren en intervalos de tiempo disjuntos son independientes.\n",
    "2.  Un proceso de conteo se dice tener **Incrementos Estacionarios** si la distribucion del número de eventos que ocurre en un intervalo de tiempo depende solo de la longitud del intervalo."
   ]
  },
  {
   "cell_type": "markdown",
   "metadata": {},
   "source": [
    "##### **Definición Proceso Poisson**\n",
    "**Definición 1:**  Un proceso de conteo $\\{N(t): t \\geq 0 \\}$ se le llama Proceso de Poisson con tasa $\\lambda , \\ \\lambda > 0$ si: \n",
    "1.  $N(0)=0$\n",
    "2.  Posee incrementos independientes.\n",
    "3.  El número de eventos de algún intervalo de longitud $t$ esta distribuido Poisson con media $\\lambda t$. \n",
    "\n",
    "    Es decir, para todo $s,t \\geq 0$, se tiene que:\n",
    "    $\\begin{equation}  \\mathbb{P}[N(s+t)- N(s)=n] = e^{-\\lambda t} \\dfrac{(\\lambda t)^{n}}{n!}\\end{equation}$"
   ]
  },
  {
   "cell_type": "markdown",
   "metadata": {},
   "source": [
    "##### **Ejercicios**\n",
    "\n"
   ]
  },
  {
   "cell_type": "markdown",
   "metadata": {},
   "source": [
    "**Ejercicio 1:**  Suponga que una panaderia abre a las 6am y los clientes llegan de acuerdo a un proceso de poisson con una tasa de 30 clientes por hora.\n",
    "\n",
    "Encuentre la probabilidad de que lleguen 65 o mas clientes entre 9 y 11 a.m.\n",
    "\n",
    "Solución:"
   ]
  },
  {
   "cell_type": "code",
   "execution_count": 3,
   "metadata": {},
   "outputs": [],
   "source": [
    "from scipy.stats import poisson"
   ]
  },
  {
   "cell_type": "markdown",
   "metadata": {},
   "source": [
    "Primero sera importante definir el proceso $\\{N(t): t \\geq 0 \\}$ con tasa $\\lambda = 30$. Buscamos la probabilidad de que lleguen mas de 65 personas en el intervalo de tiempo $[3,5]$\n",
    "\n",
    "$$ \\mathbb{P}[N(5)-N(3) \\geq 65]$$"
   ]
  },
  {
   "cell_type": "code",
   "execution_count": 8,
   "metadata": {},
   "outputs": [
    {
     "name": "stdout",
     "output_type": "stream",
     "text": [
      "La probabilidad de que lleguen mas de 65 clientes es: 0.2759\n"
     ]
    }
   ],
   "source": [
    "lam = 30\n",
    "t2 = 5\n",
    "t1 = 3\n",
    "prob = 1- poisson(lam * (t2 - t1)).cdf(64)\n",
    "print(f'La probabilidad de que lleguen mas de 65 clientes es: {prob:.4f}')"
   ]
  },
  {
   "cell_type": "markdown",
   "metadata": {},
   "source": [
    "----"
   ]
  },
  {
   "cell_type": "markdown",
   "metadata": {},
   "source": [
    "**Ejercicio 2:**  En una fábrica de componentes electrónicos, los pedidos de dos tipos de componentes (A y B) llegan de acuerdo a dos procesos de Poisson independientes. El tipo A llega con una tasa de 5 pedidos por día, mientras que el tipo B llega con una tasa de 3 pedidos por día.\n",
    "\n",
    "Encuentra la probabilidad de que en 10 días lleguen:\n",
    "\n",
    "1.  Al menos 40 pedidos del tipo A y entre 20 y 30 pedidos del tipo B.\n",
    "\n",
    "Solución:"
   ]
  },
  {
   "cell_type": "markdown",
   "metadata": {},
   "source": [
    "Definimos dos procesos de Poisson independientes: uno para el componente A con tasa $\\lambda_A = 5$ y otro para el componente B con tasa $\\lambda_B = 3$. Buscamos la probabilidad conjunta de que lleguen al menos 40 pedidos de A y entre 20 y 30 pedidos de B en un intervalo de 10 días.\n",
    "\n",
    "Los eventos se pueden representar como:\n",
    "\n",
    "$$\n",
    "\\mathbb{P}[N_A(10) \\geq 40 \\ \\text{y} \\ 20 \\leq N_B(10) \\leq 30]\n",
    "$$\n",
    "\n",
    "Dado que los procesos son independientes, calculamos las probabilidades por separado y luego multiplicamos los resultados:\n",
    "\n",
    "1. Probabilidad de que lleguen al menos 40 pedidos del tipo A:\n",
    "   $$\n",
    "   \\mathbb{P}[N_A(10) \\geq 40] = 1 - \\mathbb{P}[N_A(10) \\leq 39] \n",
    "   $$\n",
    "\n",
    "2. Probabilidad de que lleguen entre 20 y 30 pedidos del tipo B:\n",
    "   $$\n",
    "   \\mathbb{P}[20 \\leq N_B(10) \\leq 30] = \\mathbb{P}[N_B(10) \\leq 30] - \\mathbb{P}[N_B(10) \\leq 19]\n",
    "   $$\n",
    "\n",
    "La probabilidad conjunta es el producto de las dos probabilidades, dado que los procesos son independientes:\n",
    "\n",
    "$$\n",
    "\\mathbb{P}[N_A(10) \\geq 40 \\ \\text{y} \\ 20 \\leq N_B(10) \\leq 30] \n",
    "$$\n",
    "\n",
    "Al calcular esto, obtenemos la probabilidad conjunta."
   ]
  },
  {
   "cell_type": "code",
   "execution_count": 12,
   "metadata": {},
   "outputs": [
    {
     "name": "stdout",
     "output_type": "stream",
     "text": [
      "La probabilidad de que lleguen al menos 40 pedidos del tipo A y entre 20 y 30 pedidos del tipo B es: 0.4925\n"
     ]
    }
   ],
   "source": [
    "# Parámetros del tipo A\n",
    "lam_A = 5  # tasa de pedidos del tipo A por día\n",
    "t_A = 10  # 10 días\n",
    "lower_bound_A = 40  # al menos 40 pedidos\n",
    "\n",
    "# Parámetros del tipo B\n",
    "lam_B = 3  # tasa de pedidos del tipo B por día\n",
    "t_B = 10  # 10 días\n",
    "lower_bound_B = 20  # al menos 20 pedidos\n",
    "upper_bound_B = 30  # no más de 30 pedidos\n",
    "\n",
    "# Probabilidad para el tipo A (al menos 40 pedidos)\n",
    "prob_A = 1 - poisson.cdf(lower_bound_A - 1, lam_A * t_A)\n",
    "\n",
    "# Probabilidad para el tipo B (entre 20 y 30 pedidos)\n",
    "prob_B = poisson.cdf(upper_bound_B, lam_B * t_B) - poisson.cdf(lower_bound_B - 1, lam_B * t_B)\n",
    "\n",
    "# Probabilidad conjunta (independencia)\n",
    "prob_total = prob_A * prob_B\n",
    "\n",
    "print(f'La probabilidad de que lleguen al menos 40 pedidos del tipo A y entre 20 y 30 pedidos del tipo B es: {prob_total:.4f}')\n"
   ]
  },
  {
   "cell_type": "markdown",
   "metadata": {},
   "source": [
    "----"
   ]
  },
  {
   "cell_type": "markdown",
   "metadata": {},
   "source": [
    "**Ejercicio 3:**  En un call center, las llamadas entrantes siguen un proceso de Poisson con una tasa de 25 llamadas por hora.\n",
    "\n",
    "Encuentra la probabilidad de que lleguen entre 45 y 60 llamadas entre las 10:00 a.m. y las 12:00 p.m.\n",
    "\n",
    "Solución:"
   ]
  },
  {
   "cell_type": "markdown",
   "metadata": {},
   "source": [
    "Definimos el proceso ${N(t): t \\geq 0 }$ con tasa $\\lambda = 25$. Buscamos la probabilidad de que lleguen entre 45 y 60 llamadas en el intervalo de tiempo $[10, 12]$.\n",
    "\n",
    "$$ \\mathbb{P}[45 \\leq N(12)- N(10) \\leq 60]$$"
   ]
  },
  {
   "cell_type": "code",
   "execution_count": 13,
   "metadata": {},
   "outputs": [
    {
     "name": "stdout",
     "output_type": "stream",
     "text": [
      "La probabilidad de que lleguen entre 45 y 60 llamadas es: 0.7068\n"
     ]
    }
   ],
   "source": [
    "lam = 25  # tasa de llamadas por hora\n",
    "t2 = 12\n",
    "t1 = 10\n",
    "lower_bound = 45\n",
    "upper_bound = 60\n",
    "\n",
    "# Probabilidad de que lleguen entre 45 y 60 llamadas\n",
    "prob = poisson.cdf(upper_bound, lam * (t2 - t1)) - poisson.cdf(lower_bound - 1, lam * (t2 - t1))\n",
    "print(f'La probabilidad de que lleguen entre 45 y 60 llamadas es: {prob:.4f}')\n"
   ]
  },
  {
   "cell_type": "markdown",
   "metadata": {},
   "source": [
    "----"
   ]
  },
  {
   "cell_type": "markdown",
   "metadata": {},
   "source": [
    "**Ejercicio 4:**  En un almacén, los pedidos de productos llegan de acuerdo a un proceso de Poisson con una tasa de 7 pedidos por día.\n",
    "\n",
    "Encuentra la probabilidad de que lleguen al menos 25 pedidos en una semana (7 días).\n",
    "\n",
    "Solución:"
   ]
  },
  {
   "cell_type": "markdown",
   "metadata": {},
   "source": [
    "Definimos el proceso ${N(t): t \\geq 0 }$ con tasa $\\lambda = 7$ por día. Buscamos la probabilidad de que lleguen al menos 25 pedidos en un intervalo de tiempo de 7 días (una semana)."
   ]
  },
  {
   "cell_type": "code",
   "execution_count": 10,
   "metadata": {},
   "outputs": [
    {
     "name": "stdout",
     "output_type": "stream",
     "text": [
      "La probabilidad de que lleguen al menos 25 pedidos en una semana es: 0.9999\n"
     ]
    }
   ],
   "source": [
    "lam = 7  # tasa de pedidos por día\n",
    "t2 = 7   # número de días (una semana)\n",
    "lower_bound = 25  # al menos 25 pedidos\n",
    "\n",
    "# Probabilidad de que lleguen al menos 25 pedidos en 7 días\n",
    "prob = 1 - poisson.cdf(lower_bound - 1, lam * t2)\n",
    "print(f'La probabilidad de que lleguen al menos 25 pedidos en una semana es: {prob:.4f}')\n"
   ]
  }
 ],
 "metadata": {
  "kernelspec": {
   "display_name": "base",
   "language": "python",
   "name": "python3"
  },
  "language_info": {
   "codemirror_mode": {
    "name": "ipython",
    "version": 3
   },
   "file_extension": ".py",
   "mimetype": "text/x-python",
   "name": "python",
   "nbconvert_exporter": "python",
   "pygments_lexer": "ipython3",
   "version": "3.11.5"
  }
 },
 "nbformat": 4,
 "nbformat_minor": 2
}
