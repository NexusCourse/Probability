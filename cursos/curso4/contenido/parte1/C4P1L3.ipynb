{
  "nbformat": 4,
  "nbformat_minor": 0,
  "metadata": {
    "colab": {
      "provenance": []
    },
    "kernelspec": {
      "name": "python3",
      "display_name": "Python 3"
    },
    "language_info": {
      "name": "python"
    }
  },
  "cells": [
    {
      "cell_type": "markdown",
      "source": [
        "**PROCESO POISSON COMPUESTO**"
      ],
      "metadata": {
        "id": "3ep44qMT5NJM"
      }
    },
    {
      "cell_type": "markdown",
      "source": [
        "Considere el proceso $ X(t), t \\geq 0 $ que cuenta la cantidad de productos vendidos en un almacén. Sea $ N(t), t \\geq 0 $ el Proceso Poisson que cuenta la cantidad de ventas realizadas y sea \\( Y_i \\) la cantidad de productos en cada venta.\n",
        "\n",
        "Consideremos que con probabilidad $ p = 0.6 $ la venta es de un producto y con probabilidad $ 1 - p = 0.4 $ la venta contiene dos productos. Los $ Y_i $ son independientes entre sí y son independientes del número de ventas que han ocurrido.\n",
        "\n",
        "Si la tasa de ventas es de $ \\lambda = 1.5 $ por minuto, calcule la probabilidad de que en 10 minutos el almacén haya vendido exactamente 5 productos."
      ],
      "metadata": {
        "id": "-N-zC_iKOccE"
      }
    },
    {
      "cell_type": "code",
      "execution_count": 1,
      "metadata": {
        "colab": {
          "base_uri": "https://localhost:8080/"
        },
        "id": "VwUaKwj3Objk",
        "outputId": "c9b9f6b6-7948-4f7e-8914-c7fd21e536e1"
      },
      "outputs": [
        {
          "output_type": "stream",
          "name": "stdout",
          "text": [
            "La probabilidad de vender exactamente 5 productos en 10 minutos es: 0.000423\n"
          ]
        }
      ],
      "source": [
        "import scipy.stats as stats\n",
        "\n",
        "# Parámetros\n",
        "lambda_ventas = 1.5  # Tasa de ventas por minuto\n",
        "tiempo = 10  # Minutos\n",
        "p_un_producto = 0.6  # Probabilidad de vender un solo producto\n",
        "p_dos_productos = 1 - p_un_producto  # Probabilidad de vender dos productos\n",
        "productos_objetivo = 5  # Número de productos vendidos en 10 minutos\n",
        "\n",
        "# Distribución de Poisson para el número de ventas en 10 minutos\n",
        "lambda_total = lambda_ventas * tiempo\n",
        "poisson_dist = stats.poisson(lambda_total)\n",
        "\n",
        "# Probabilidad total de vender exactamente 'productos_objetivo' productos\n",
        "probabilidad_total = 0\n",
        "\n",
        "# Se suman las probabilidades de diferentes combinaciones de ventas que sumen productos_objetivo\n",
        "for n_ventas in range(0, productos_objetivo + 1):  # Número de ventas posibles\n",
        "    if 0 <= productos_objetivo - n_ventas <= n_ventas:  # Condición válida\n",
        "        prob_ventas = poisson_dist.pmf(n_ventas)  # Probabilidad de tener 'n_ventas' ventas\n",
        "        prob_productos = stats.binom.pmf(productos_objetivo - n_ventas, n_ventas, p_dos_productos)\n",
        "        probabilidad_total += prob_ventas * prob_productos\n",
        "\n",
        "print(f\"La probabilidad de vender exactamente {productos_objetivo} productos en {tiempo} minutos es: {probabilidad_total:.6f}\")"
      ]
    },
    {
      "cell_type": "markdown",
      "source": [
        "\n",
        "Suponga que la llegada de familias de migrantes a Lima se puede modelar mediante un Proceso de Poisson con tasa $ \\lambda = 3 $ por semana.\n",
        "Si el número de personas en cada familia es independiente del tamaño de las otras familias y toma valores \\( 1,2,3,4,5 \\) con probabilidades $ \\frac{1}{10}, \\frac{2}{10}, \\frac{3}{10}, \\frac{2}{10}, \\frac{2}{10} $ respectivamente, entonces:\n",
        "\n",
        "¿Cuál es el número esperado de individuos que migran a Lima durante un período de 8 semanas?\n"
      ],
      "metadata": {
        "id": "kJgkLK_wRT9d"
      }
    },
    {
      "cell_type": "code",
      "source": [
        "# Parámetros del problema\n",
        "lambda_semanal = 3  # Tasa de llegada de familias por semana\n",
        "tiempo = 8  # Número de semanas\n",
        "\n",
        "# Valores posibles de personas por familia y sus probabilidades\n",
        "personas_por_familia = [1, 2, 3, 4, 5]\n",
        "probabilidades = [1/10, 2/10, 3/10, 2/10, 2/10]\n",
        "\n",
        "# Calcular el valor esperado de personas por familia (E[Y])\n",
        "esperanza_Y = sum(y * p for y, p in zip(personas_por_familia, probabilidades))\n",
        "\n",
        "# Calcular el número esperado de migrantes en 8 semanas usando la fórmula E[X(t)] = lambda * t * E[Y]\n",
        "esperanza_X = lambda_semanal * tiempo * esperanza_Y\n",
        "\n",
        "print(f\"El número esperado de migrantes en {tiempo} semanas es: {esperanza_X}\")"
      ],
      "metadata": {
        "colab": {
          "base_uri": "https://localhost:8080/"
        },
        "id": "ONaOAhkiShnn",
        "outputId": "fc6972d4-bd22-4406-e798-e90812e4cf5c"
      },
      "execution_count": 5,
      "outputs": [
        {
          "output_type": "stream",
          "name": "stdout",
          "text": [
            "El número esperado de migrantes en 8 semanas es: 76.80000000000001\n"
          ]
        }
      ]
    }
  ]
}