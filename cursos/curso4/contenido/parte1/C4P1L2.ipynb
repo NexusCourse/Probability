{
  "nbformat": 4,
  "nbformat_minor": 0,
  "metadata": {
    "colab": {
      "provenance": []
    },
    "kernelspec": {
      "name": "python3",
      "display_name": "Python 3"
    },
    "language_info": {
      "name": "python"
    }
  },
  "cells": [
    {
      "cell_type": "markdown",
      "source": [
        "**PROCESO POISSON NO HOMOGENEO**"
      ],
      "metadata": {
        "id": "9GsyyEfj4_vX"
      }
    },
    {
      "cell_type": "markdown",
      "source": [
        "Consideremos una farmacia que abre las 24 horas del día. Además, supongamos que la tasa con la que llegan los clientes sigue un \\textbf{proceso de Poisson no homogéneo} con la función de tasa dada por:\n",
        "\n",
        "$\n",
        "\\lambda(x) = \\frac{1}{10} (24x - x^2), \\quad x \\in [0,24]\n",
        "$\n",
        "\n",
        "donde $\\lambda(x)$ representa la tasa de llegada de clientes por hora en la hora \\( x \\) del día.\n",
        "\n",
        "Ahora, respondamos las siguientes preguntas:\n",
        "\n",
        "\n",
        "  a) ¿Cuál es la probabilidad de que lleguen exactamente 5 clientes entre las 8:00 y las 9:30 horas?\n",
        "  \n",
        "  b) ¿Cuál es la probabilidad de que lleguen exactamente 7 clientes entre las 15:00 y las 17:00 horas?\n"
      ],
      "metadata": {
        "id": "pIH0B7a5DKTg"
      }
    },
    {
      "source": [
        "import numpy as np\n",
        "import scipy.stats as stats\n",
        "import scipy.integrate as integrate\n",
        "import math\n",
        "\n",
        "# Definir la función de tasa lambda(x)\n",
        "lambda_x = lambda x: (1/10) * (24*x - x**2)\n",
        "\n",
        "# Nuevos intervalos de tiempo y valores de k\n",
        "casos = [\n",
        "    {\"intervalo\": (8, 9.5), \"k\": 5},   # De 8:00 a 9:30, exactamente 5 clientes\n",
        "    {\"intervalo\": (15, 17), \"k\": 7}    # De 15:00 a 17:00, exactamente 7 clientes\n",
        "]\n",
        "\n",
        "# Calcular las probabilidades para cada caso\n",
        "for caso in casos:\n",
        "    a, b = caso[\"intervalo\"]\n",
        "    k = caso[\"k\"]\n",
        "\n",
        "    # Calcular la integral de lambda(x) en [a, b]\n",
        "    Lambda_ab, _ = integrate.quad(lambda_x, a, b)\n",
        "\n",
        "    # Calcular la probabilidad de Poisson P(N = k)\n",
        "    prob_k = (Lambda_ab**k * np.exp(-Lambda_ab)) / math.factorial(k)\n",
        "\n",
        "    print(f\"P(N = {k}) entre {a}:00 y {b}:00 = {prob_k:.4f}\")"
      ],
      "cell_type": "code",
      "metadata": {
        "colab": {
          "base_uri": "https://localhost:8080/"
        },
        "id": "ewvERUJkkwuj",
        "outputId": "b2652971-f944-469d-ddbc-0d59772b6593"
      },
      "execution_count": 8,
      "outputs": [
        {
          "output_type": "stream",
          "name": "stdout",
          "text": [
            "P(N = 5) entre 8:00 y 9.5:00 = 0.0001\n",
            "P(N = 7) entre 15:00 y 17:00 = 0.0000\n"
          ]
        }
      ]
    },
    {
      "cell_type": "markdown",
      "source": [
        "El banco A y el banco B reciben clientes de acuerdo a un proceso de Poisson no homogéneo, cuya tasa está dada por:\n",
        "\n",
        "$\n",
        "\\lambda(t) = \\frac{2}{200} \\quad \\text{para} \\quad 0 < t < 200\n",
        "$\n",
        "\n",
        "El tiempo está medido en horas, y el banco opera desde las 8:00 hasta las 16:00 horas. Sin embargo, los clientes llegan entre las 8:00 y las 16:06 hrs.\n",
        "\n",
        "a) ¿Cuál es la probabilidad de que el primer cliente llegue entre las 9:00 y las 10:00?\n",
        "\n",
        "b) Si todos los clientes se demoran exactamente 15 minutos dentro del banco, determine el número esperado de clientes dentro del banco en cualquier instante del día."
      ],
      "metadata": {
        "id": "SY8eWvkSGZva"
      }
    },
    {
      "cell_type": "code",
      "source": [
        "import numpy as np\n",
        "import scipy.integrate as integrate\n",
        "import matplotlib.pyplot as plt\n",
        "\n",
        "# Definimos la tasa de Poisson no homogénea con los nuevos parámetros\n",
        "def lambda_t(t):\n",
        "    return 2 / 200\n",
        "\n",
        "# a) Probabilidad de que el primer cliente llegue entre las 9:00 y las 10:00 (1 hora)\n",
        "# Tasa acumulada de clientes desde t=0 hasta t=200 horas\n",
        "def probabilidad_llegada_entre_9y10():\n",
        "    # La integral de la tasa entre 9:00 y 10:00 (en horas)\n",
        "    t_inicial = 1  # 9:00 horas\n",
        "    t_final = 2    # 10:00 horas\n",
        "    integral, _ = integrate.quad(lambda t: lambda_t(t), t_inicial, t_final)\n",
        "    return 1 - np.exp(-integral)\n",
        "\n",
        "# b) Número esperado de clientes en el banco en cualquier instante del día\n",
        "# Si todos los clientes se demoran 15 minutos (0.25 horas), la tasa efectiva es la misma\n",
        "def numero_esperado_clientes():\n",
        "    # El tiempo total de operación es de 8 horas (desde las 8:00 hasta las 16:00)\n",
        "    tiempo_total = 8\n",
        "    integral, _ = integrate.quad(lambda t: lambda_t(t), 0, tiempo_total)\n",
        "    return integral\n",
        "probabilidad_9_10 = probabilidad_llegada_entre_9y10()\n",
        "numero_esperado = numero_esperado_clientes()\n",
        "# Resultados\n",
        "\n",
        "print(f\"a) Probabilidad de que el primer cliente llegue entre las 9:00 y las 10:00: {probabilidad_9_10:.4f}\")\n",
        "print(f\"b) Número esperado de clientes en el banco en cualquier instante del día: {numero_esperado:.2f}\")\n"
      ],
      "metadata": {
        "colab": {
          "base_uri": "https://localhost:8080/"
        },
        "id": "PEw40BhqGdYu",
        "outputId": "7da908aa-fb13-4445-c2ff-bd9fb35d3a0d"
      },
      "execution_count": 2,
      "outputs": [
        {
          "output_type": "stream",
          "name": "stdout",
          "text": [
            "a) Probabilidad de que el primer cliente llegue entre las 9:00 y las 10:00: 0.0100\n",
            "b) Número esperado de clientes en el banco en cualquier instante del día: 0.08\n"
          ]
        }
      ]
    }
  ]
}