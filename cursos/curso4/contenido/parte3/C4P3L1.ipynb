{
  "nbformat": 4,
  "nbformat_minor": 0,
  "metadata": {
    "colab": {
      "provenance": []
    },
    "kernelspec": {
      "name": "python3",
      "display_name": "Python 3"
    },
    "language_info": {
      "name": "python"
    }
  },
  "cells": [
    {
      "cell_type": "markdown",
      "source": [
        "# Procesos de riesgo a tiempo discreto\n",
        "\n",
        "Curso 4 (Procesos II)\n",
        "\n",
        "Parte 3 / Lección 1"
      ],
      "metadata": {
        "id": "3G5EIPSJ3HQS"
      }
    },
    {
      "cell_type": "markdown",
      "source": [
        "Ejercciio 1. Consideremos nuevamente el caso cuando los montos $Y$ tienen distribución dada por la tabla que aparece abajo. Usando la fórmula recursiva de la Proposición 7.2 encontraremos $\\psi(u,n)$, cuando $u = 0$ y $n = 1,2,3,4,5$.\n",
        "\n",
        "\n",
        "\\begin{array}{c|ccc}\n",
        "    v & 0 & 1 & 2 \\\\ \\hline\n",
        "    f(v) & 0.5 & 0.2 & 0.3 \\\\\n",
        "\\end{array}\n"
      ],
      "metadata": {
        "id": "PtVKbIjZ3HiU"
      }
    },
    {
      "cell_type": "code",
      "source": [
        "# Definir los valores de la distribución de probabilidad\n",
        "f = {0: 0.5, 1: 0.2, 2: 0.3}\n",
        "\n",
        "# Definir valores iniciales\n",
        "psi_0_n = {1: f[0]}  # ψ(0,1) = f(0)\n",
        "\n",
        "# Calcular ψ(0,n) recursivamente hasta n=5\n",
        "for n in range(2, 6):\n",
        "    psi_0_n[n] = psi_0_n[n - 1] + f[1] * psi_0_n[n - 1] + f[2] * psi_0_n[n - 1]\n",
        "\n",
        "# Mostrar los resultados\n",
        "for n, psi in psi_0_n.items():\n",
        "    print(f\"ψ(0, {n}) = {psi:.6f}\")"
      ],
      "metadata": {
        "colab": {
          "base_uri": "https://localhost:8080/"
        },
        "id": "shp-3Dd92-20",
        "outputId": "3889c6c7-ad02-43d9-ad19-0eb1f0c45d2a"
      },
      "execution_count": 2,
      "outputs": [
        {
          "output_type": "stream",
          "name": "stdout",
          "text": [
            "ψ(0, 1) = 0.500000\n",
            "ψ(0, 2) = 0.750000\n",
            "ψ(0, 3) = 1.125000\n",
            "ψ(0, 4) = 1.687500\n",
            "ψ(0, 5) = 2.531250\n"
          ]
        }
      ]
    },
    {
      "cell_type": "markdown",
      "source": [
        "Ejercicio 2. Suponga que las reclamaciones $Y$ tienen distribución dada por la tabla que aparece abajo. Usando la fórmula recursiva de la Proposición 7.1, encontraremos $\\psi(u)$ para los primeros valores de $u$.\n",
        "\n",
        "\n",
        "\\begin{array}{c|ccc}\n",
        "    y & 0 & 1 & 2 \\\\ \\hline\n",
        "    f(y) & 0.5 & 0.2 & 0.3 \\\\\n",
        "\\end{array}\n"
      ],
      "metadata": {
        "id": "lb6NZRrb3MTI"
      }
    },
    {
      "cell_type": "code",
      "execution_count": 1,
      "metadata": {
        "colab": {
          "base_uri": "https://localhost:8080/"
        },
        "id": "R0fUiAmq2XfR",
        "outputId": "c1c69562-d136-4039-ae10-2d1b6eec0db6"
      },
      "outputs": [
        {
          "output_type": "stream",
          "name": "stdout",
          "text": [
            "ψ(0) = 0.8000000000\n",
            "ψ(1) = 0.4800000000\n",
            "ψ(2) = 0.2880000000\n",
            "ψ(3) = 0.1728000000\n",
            "ψ(4) = 0.1036800000\n",
            "ψ(5) = 0.0622080000\n",
            "ψ(6) = 0.0373248000\n",
            "ψ(7) = 0.0223948800\n",
            "ψ(8) = 0.0134369280\n",
            "ψ(9) = 0.0080621568\n",
            "ψ(10) = 0.0048372941\n",
            "ψ(11) = 0.0029023764\n"
          ]
        }
      ],
      "source": [
        "# Definir valores iniciales\n",
        "psi_values = {0: 0.8}  # ψ(0) dado\n",
        "F_bar_0 = 0.5\n",
        "F_bar_1 = 0.6\n",
        "\n",
        "# Calcular ψ(u) recursivamente hasta u=11\n",
        "for u in range(1, 12):\n",
        "    psi_values[u] = psi_values[u - 1] * F_bar_1\n",
        "\n",
        "# Mostrar los resultados\n",
        "for u, psi in psi_values.items():\n",
        "    print(f\"ψ({u}) = {psi:.10f}\")"
      ]
    }
  ]
}