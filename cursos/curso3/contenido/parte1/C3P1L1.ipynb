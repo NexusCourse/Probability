{
 "cells": [
  {
   "cell_type": "markdown",
   "metadata": {},
   "source": [
    "<div style=\"line-height: 0.4;\">\n",
    "    <h1 style=\"color: green; font-weight: bold; text-align: center;\"></h1>\n",
    "    <h1 style=\"color: green; font-weight: bold; text-align: center;\">DISTRIBUCIÓN CONDICIONAL</h1>\n",
    "    <h3 style=\"color: darkolivegreen; font-weight: bold; text-align: center;\">CURSO 3 (PROCESOS ESTOCÁSTICOS I</h3>\n",
    "    <h5 style=\"color: darkolivegreen; font-weight: bold; text-align: center;\">PARTE 1 / LECCIÓN 1</h5>\n",
    "</div>\n"
   ]
  },
  {
   "cell_type": "markdown",
   "metadata": {},
   "source": [
    "<h4 style=\"color: green; font-weight: bold; text-align: left;\">Ejercicio 1</h4>\n",
    "\n",
    "Sea $(X,Y)$ un vector aleatorio continuo con función de densidad\n",
    "            $$\n",
    "            f_{X,Y}(x,y) = \\begin{cases}\n",
    "            6x^2y & \\text{si } 0 < x < 1, 0 < y < 1, \\\\\n",
    "            0 & \\text{en otro caso.}\n",
    "            \\end{cases}\n",
    "            $$\n",
    "\n",
    "Calcule las siguientes funciones:\n",
    "* $f_{X|Y}(x|y)$, $0 < y < 1$.\n",
    "* $F_{X|Y}(x|y)$, $0 < y < 1$.\n"
   ]
  },
  {
   "cell_type": "code",
   "execution_count": null,
   "metadata": {},
   "outputs": [
    {
     "name": "stdout",
     "output_type": "stream",
     "text": [
      "Ejercicio 1:\n",
      "f_X|Y(x|0.5) =  [0.0, 0.1875, 0.75, 1.6875, 0.0]\n",
      "F_X|Y(x|0.5) =  [0.0, 0.015625, 0.125, 0.421875, 1.0]\n"
     ]
    }
   ],
   "source": [
    "import numpy as np\n",
    "from scipy.integrate import quad\n",
    "\n",
    "# Ejercicio 1: Cálculo de densidades y funciones de distribución\n",
    "\n",
    "# Función de densidad conjunta f_{X,Y}(x, y)\n",
    "def f_x(x, y):\n",
    "    if 0 < x < 1 and 0 < y < 1:\n",
    "        return 6 * (x ** 2) * y\n",
    "    else:\n",
    "        return 0\n",
    "\n",
    "# Función de densidad marginal de Y\n",
    "def f_y(y):\n",
    "    return quad(lambda x: f_xy(x, y), 0, 1)[0]  # Integrar respecto a x de 0 a 1\n",
    "\n",
    "# a) Cálculo de f_{X|Y}(x|y)\n",
    "def f_x_given_y(x, y):\n",
    "    return f_xy(x, y) / f_y(y) if f_y(y) != 0 else 0\n",
    "\n",
    "# b) Cálculo de F_{X|Y}(x|y)\n",
    "def F_x_given_y(x, y):\n",
    "    integral, _ = quad(lambda u: f_x_given_y(u, y), 0, x)\n",
    "    return integral\n",
    "\n",
    "# Resultados para el Ejercicio 1\n",
    "y_val = 0.5  # Ejemplo para y = 0.5\n",
    "print(\"Ejercicio 1:\")\n",
    "print(f\"f_X|Y(x|{y_val}) = \", [f_x_given_y(x, y_val) for x in np.linspace(0, 1, 5)])\n",
    "print(f\"F_X|Y(x|{y_val}) = \", [F_x_given_y(x, y_val) for x in np.linspace(0, 1, 5)])\n"
   ]
  },
  {
   "cell_type": "markdown",
   "metadata": {},
   "source": [
    "<h4 style=\"color: green; font-weight: bold; text-align: left;\">Ejercicio 2</h4>\n",
    "Sea  $(X,Y)$ un vector discreto con función de probabilidad dada por la siguiente tabla:\n",
    "\n",
    "| x/y | 0   | 1   | 2   |\n",
    "|---|---|---|---|\n",
    "| 0   | 0.1 | 0.05| 0.1 |\n",
    "| 1   | 0.05| 0.2 | 0.1 |\n",
    "| 2   | 0.05| 0.05| 0.3 |\n",
    "\n",
    "Calcule las siguientes funciones:\n",
    "* $f_{X|Y}(x|0)$\n",
    "* $f_{X|Y}(x|1)$\n",
    "* $F_{X|Y}(x|1)$\n",
    "* $f_{X|Y}(x|1)$"
   ]
  },
  {
   "cell_type": "code",
   "execution_count": 2,
   "metadata": {},
   "outputs": [
    {
     "name": "stdout",
     "output_type": "stream",
     "text": [
      "\n",
      "Ejercicio 2:\n",
      "f_X|Y(x|0) = [0.5  0.25 0.25]\n",
      "f_X|Y(x|1) = [0.16666667 0.66666667 0.16666667]\n",
      "F_X|Y(x|1) = [0.16666667 0.83333333 1.        ]\n"
     ]
    }
   ],
   "source": [
    "\n",
    "# Ejercicio 2: Cálculo de funciones discretas\n",
    "\n",
    "# Matriz de probabilidades P(X, Y)\n",
    "P_XY = np.array([[0.1, 0.05, 0.1],\n",
    "                 [0.05, 0.2, 0.1],\n",
    "                 [0.05, 0.05, 0.3]])\n",
    "\n",
    "# a) Cálculo de f_X|Y(x|0)\n",
    "f_X_given_Y_0 = P_XY[:, 0] / np.sum(P_XY[:, 0])\n",
    "\n",
    "# b) Cálculo de f_X|Y(x|1)\n",
    "f_X_given_Y_1 = P_XY[:, 1] / np.sum(P_XY[:, 1])\n",
    "\n",
    "# c) Cálculo de F_X|Y(x|1)\n",
    "F_X_given_Y_1 = np.cumsum(f_X_given_Y_1)\n",
    "\n",
    "# Resultados para el Ejercicio 2\n",
    "print(\"\\nEjercicio 2:\")\n",
    "print(\"f_X|Y(x|0) =\", f_X_given_Y_0)\n",
    "print(\"f_X|Y(x|1) =\", f_X_given_Y_1)\n",
    "print(\"F_X|Y(x|1) =\", F_X_given_Y_1)\n"
   ]
  },
  {
   "cell_type": "markdown",
   "metadata": {},
   "source": [
    "<h4 style=\"color: green; font-weight: bold; text-align: left;\">Ejercicio 3</h4>\n",
    "\n",
    "Se lanza un dado equilibrado dos veces. Sea $X$ el resultado del primer lanzamiento y sea $Y$ el mayor de los dos resultados.\n",
    " * Encuentre la función de probabilidad conjunta de $X$ y $Y$.\n",
    " * Calcule las funciones $f_{Y|X}(y | x = 3)$ y $f_{X|Y}(x | y = 3)$\n"
   ]
  },
  {
   "cell_type": "code",
   "execution_count": 4,
   "metadata": {},
   "outputs": [
    {
     "name": "stdout",
     "output_type": "stream",
     "text": [
      "\n",
      "Ejercicio 3:\n",
      "P(X, Y) = {(1, 1): 0.027777777777777776, (1, 2): 0.027777777777777776, (1, 3): 0.027777777777777776, (1, 4): 0.027777777777777776, (1, 5): 0.027777777777777776, (1, 6): 0.027777777777777776, (2, 2): 0.05555555555555555, (2, 3): 0.027777777777777776, (2, 4): 0.027777777777777776, (2, 5): 0.027777777777777776, (2, 6): 0.027777777777777776, (3, 3): 0.08333333333333333, (3, 4): 0.027777777777777776, (3, 5): 0.027777777777777776, (3, 6): 0.027777777777777776, (4, 4): 0.1111111111111111, (4, 5): 0.027777777777777776, (4, 6): 0.027777777777777776, (5, 5): 0.1388888888888889, (5, 6): 0.027777777777777776, (6, 6): 0.16666666666666666}\n",
      "f_Y|X(y|x=3) = {1: 0.0, 2: 0.0, 3: 0.49999999999999994, 4: 0.16666666666666663, 5: 0.16666666666666663, 6: 0.16666666666666663}\n",
      "f_X|Y(x|y=3) = {1: 0.19999999999999998, 2: 0.19999999999999998, 3: 0.6, 4: 0.0, 5: 0.0, 6: 0.0}\n"
     ]
    }
   ],
   "source": [
    "\n",
    "# Ejercicio 3: Lanzamiento de dado\n",
    "from itertools import product\n",
    "from collections import Counter\n",
    "\n",
    "# Calcular la función de probabilidad conjunta P(X, Y)\n",
    "lanzamientos = list(product(range(1, 7), repeat=2))\n",
    "xy_pairs = [(x, max(x, y)) for x, y in lanzamientos]\n",
    "contador = Counter(xy_pairs)\n",
    "\n",
    "# a) Función de probabilidad conjunta\n",
    "P_XY_dado = {k: v / len(lanzamientos) for k, v in contador.items()}\n",
    "\n",
    "# b) Calcular f_Y|X(y|x=3) y f_X|Y(x|y=3)\n",
    "def f_y_given_x(y, x):\n",
    "    prob_x = sum(v for (i, j), v in P_XY_dado.items() if i == x)\n",
    "    return P_XY_dado.get((x, y), 0) / prob_x if prob_x != 0 else 0\n",
    "\n",
    "def f_x_given_y(x, y):\n",
    "    prob_y = sum(v for (i, j), v in P_XY_dado.items() if j == y)\n",
    "    return P_XY_dado.get((x, y), 0) / prob_y if prob_y != 0 else 0\n",
    "\n",
    "# Resultados para el Ejercicio 3\n",
    "print(\"\\nEjercicio 3:\")\n",
    "print(\"P(X, Y) =\", P_XY_dado)\n",
    "print(\"f_Y|X(y|x=3) =\", {y: f_y_given_x(y, 3) for y in range(1, 7)})\n",
    "print(\"f_X|Y(x|y=3) =\", {x: f_x_given_y(x, 3) for x in range(1, 7)})\n"
   ]
  }
 ],
 "metadata": {
  "kernelspec": {
   "display_name": "base",
   "language": "python",
   "name": "python3"
  },
  "language_info": {
   "codemirror_mode": {
    "name": "ipython",
    "version": 3
   },
   "file_extension": ".py",
   "mimetype": "text/x-python",
   "name": "python",
   "nbconvert_exporter": "python",
   "pygments_lexer": "ipython3",
   "version": "3.11.5"
  }
 },
 "nbformat": 4,
 "nbformat_minor": 2
}
