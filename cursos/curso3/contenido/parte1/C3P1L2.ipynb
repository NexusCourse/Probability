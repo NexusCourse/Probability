{
 "cells": [
  {
   "cell_type": "markdown",
   "metadata": {},
   "source": [
    "<div style=\"line-height: 0.4;\">\n",
    "    <h1 style=\"color: green; font-weight: bold; text-align: center;\"></h1>\n",
    "    <h1 style=\"color: green; font-weight: bold; text-align: center;\">DISTRIBUCIÓN CONDICIONAL</h1>\n",
    "    <h3 style=\"color: darkolivegreen; font-weight: bold; text-align: center;\">CURSO 3 (PROCESOS ESTOCÁSTICOS I</h3>\n",
    "    <h5 style=\"color: darkolivegreen; font-weight: bold; text-align: center;\">PARTE 1 / LECCIÓN 1</h5>\n",
    "</div>\n"
   ]
  },
  {
   "cell_type": "markdown",
   "metadata": {},
   "source": [
    "<h4 style=\"color: green; font-weight: bold; text-align: left;\">Ejercicio 1</h4>\n",
    "\n",
    "Un experimento consiste en lanzar un dado equilibrado repetidas veces hasta obtener alguno de los resultados por segunda vez. Encuentre el número esperado de lanzamientos en este experimento.\n"
   ]
  },
  {
   "cell_type": "code",
   "execution_count": 5,
   "metadata": {},
   "outputs": [
    {
     "name": "stdout",
     "output_type": "stream",
     "text": [
      "Ejercicio 1: Número esperado de lanzamientos = 7.0\n"
     ]
    }
   ],
   "source": [
    "import numpy as np\n",
    "from scipy.integrate import quad\n",
    "\n",
    "# Ejercicio 1: Número esperado de lanzamientos para obtener un resultado por segunda vez\n",
    "def expected_rolls_to_repeat():\n",
    "    sides = 6\n",
    "    expected_value = 0\n",
    "    prob_not_repeated = 1\n",
    "    for i in range(1, sides + 1):\n",
    "        expected_value += i * prob_not_repeated * (1 / sides)\n",
    "        prob_not_repeated *= (sides - i) / sides\n",
    "    return expected_value + sides  # Sumar la probabilidad de la repetición en el último lanzamiento\n",
    "\n",
    "print(\"Ejercicio 1: Número esperado de lanzamientos =\", expected_rolls_to_repeat())"
   ]
  },
  {
   "cell_type": "markdown",
   "metadata": {},
   "source": [
    "<h4 style=\"color: green; font-weight: bold; text-align: left;\">Ejercicio 2</h4>\n",
    "\n",
    "Se lanza un dado equilibrado dos veces consecutivas. Sea $X$ el resultado del primer lanzamiento y sea $Y$ el resultado del segundo lanzamiento. Calcule\n",
    "$$\n",
    "\\mathbb{E}[X | X + Y = 6].\n",
    "$$"
   ]
  },
  {
   "cell_type": "code",
   "execution_count": 6,
   "metadata": {},
   "outputs": [
    {
     "name": "stdout",
     "output_type": "stream",
     "text": [
      "Ejercicio 2: E[X|X + Y = 6] = 4.2\n"
     ]
    }
   ],
   "source": [
    "# Ejercicio 2: E[X|X + Y = 6]\n",
    "def conditional_expectation_x_given_x_plus_y_equals_6():\n",
    "    results = []\n",
    "    for x in range(1, 7):  # Valores posibles de X\n",
    "        prob_x_given_sum_6 = 1 / 5  # Condición de X + Y = 6 restringe Y\n",
    "        results.append(x * prob_x_given_sum_6)\n",
    "    return sum(results)\n",
    "\n",
    "print(\"Ejercicio 2: E[X|X + Y = 6] =\", conditional_expectation_x_given_x_plus_y_equals_6())"
   ]
  },
  {
   "cell_type": "markdown",
   "metadata": {},
   "source": [
    "<h4 style=\"color: green; font-weight: bold; text-align: left;\">Ejercicio 3</h4>\n",
    "\n",
    "Sea $X$ con distribución Poisson($\\beta$) en donde $\\beta$ es una variable aleatoria con distribución unif(1,2). Condicionado sobre el valor de $\\beta$ encuentre $\\mathbb{E}[X]$."
   ]
  },
  {
   "cell_type": "code",
   "execution_count": 7,
   "metadata": {},
   "outputs": [
    {
     "name": "stdout",
     "output_type": "stream",
     "text": [
      "Ejercicio 3: E[X] con X ~ Poisson(β) = 1.5\n"
     ]
    }
   ],
   "source": [
    "# Ejercicio 3: E[X] con X ~ Poisson(β), β ~ Uniforme(1, 2)\n",
    "def poisson_expectation():\n",
    "    # Integrar E[X|β] = β con f(β) = 1 en [1, 2]\n",
    "    result, _ = quad(lambda beta: beta * 1, 1, 2)\n",
    "    return result\n",
    "\n",
    "print(\"Ejercicio 3: E[X] con X ~ Poisson(β) =\", poisson_expectation())"
   ]
  },
  {
   "cell_type": "markdown",
   "metadata": {},
   "source": [
    "<h4 style=\"color: green; font-weight: bold; text-align: left;\">Ejercicio 4</h4>\n",
    "\n",
    "Sea $X$ con distribución Binomial($\\gamma$, $p$) en donde $\\gamma$ es una variable aleatoria con distribución unif(1,2). Condicionado sobre el valor de $\\gamma$ encuentre $\\mathbb{E}[X]$."
   ]
  },
  {
   "cell_type": "code",
   "execution_count": 8,
   "metadata": {},
   "outputs": [
    {
     "name": "stdout",
     "output_type": "stream",
     "text": [
      "Ejercicio 4: E[X] con X ~ Binomial(γ, p) = 0.75\n"
     ]
    }
   ],
   "source": [
    "# Ejercicio 4: E[X] con X ~ Binomial(γ, p), γ ~ Uniforme(1, 2)\n",
    "def binomial_expectation(p=0.5):\n",
    "    # Integrar E[X|γ] = γ * p con f(γ) = 1 en [1, 2]\n",
    "    result, _ = quad(lambda gamma: gamma * p * 1, 1, 2)\n",
    "    return result\n",
    "\n",
    "print(\"Ejercicio 4: E[X] con X ~ Binomial(γ, p) =\", binomial_expectation())\n"
   ]
  }
 ],
 "metadata": {
  "kernelspec": {
   "display_name": "base",
   "language": "python",
   "name": "python3"
  },
  "language_info": {
   "codemirror_mode": {
    "name": "ipython",
    "version": 3
   },
   "file_extension": ".py",
   "mimetype": "text/x-python",
   "name": "python",
   "nbconvert_exporter": "python",
   "pygments_lexer": "ipython3",
   "version": "3.11.5"
  }
 },
 "nbformat": 4,
 "nbformat_minor": 2
}
