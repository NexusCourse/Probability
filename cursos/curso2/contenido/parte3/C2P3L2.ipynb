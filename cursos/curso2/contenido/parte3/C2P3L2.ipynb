{
  "nbformat": 4,
  "nbformat_minor": 0,
  "metadata": {
    "colab": {
      "provenance": []
    },
    "kernelspec": {
      "name": "python3",
      "display_name": "Python 3"
    },
    "language_info": {
      "name": "python"
    }
  },
  "cells": [
    {
      "cell_type": "markdown",
      "source": [
        "###Ejercicio 1\n",
        "\n",
        "Supongamos que tienes un portafolio de 3 activos financieros. Los retornos de estos activos siguen distribuciones normales con medias $\\mu_1, \\mu_2, \\mu_3$\n",
        "y desviaciones estándar $\\sigma_1,\\sigma_2,\\sigma_3$\n",
        ". La matriz de covarianza $\\sum$ entre estos activos es conocida. Simula 1000 realizaciones de retornos para cada activo y calcula la covarianza y correlación entre el retorno total del portafolio y el retorno del activo 1.\n",
        "\n",
        " Datos:\n",
        "\n",
        "\n",
        "* $\\mu_1 = 0.02, \\mu_2=0.012,\\mu_3=0.01 $\n",
        "\n",
        "* $\\sigma_1 = 0.05, \\sigma_2=0.03,\\sigma_3=0.04 $\n",
        "\n",
        "* La matríz de covarianzas es:\n",
        "\n",
        "$$\\sum = \\begin{pmatrix}\n",
        "        0.0025 & 0.0012& 0.0011 \\\\\\\\\n",
        "        0.0012&0.0009&0.0008\\\\\\\\\n",
        "        0.0011&0.0008&0.0016\n",
        "    \\end{pmatrix}$$\n",
        "        \n",
        "\n",
        "\n",
        "El retorno total del portafolio es la suma ponderada de los retornos de los tres activos, con pesos $w_1 = 0.05, w_2=0.3\\ y\\ w_3=0.2$\n",
        "        \n",
        "\n",
        "\n",
        "\n",
        "\n",
        "\n"
      ],
      "metadata": {
        "id": "hd0ZASyKMpDL"
      }
    },
    {
      "cell_type": "markdown",
      "source": [
        "Solución:\n",
        "\n",
        "* Simulamos 1000 realizaciones de retornos para los tres activos usando sus distribuciones normales y la matriz de covarianza.\n",
        "\n",
        "* Calculamos el retorno total del portafolio usando los pesos dados.\n",
        "\n",
        "* Calculamos la covarianza y la correlación entre el retorno total del portafolio y el retorno del activo 1."
      ],
      "metadata": {
        "id": "jepxChdeRKrc"
      }
    },
    {
      "cell_type": "code",
      "source": [
        "import numpy as np\n",
        "\n",
        "# Parámetros\n",
        "mu = [0.02, 0.015, 0.01]\n",
        "sigma = [0.05, 0.03, 0.04]\n",
        "cov_matrix = np.array([[0.0025, 0.0012, 0.0011],\n",
        "                       [0.0012, 0.0009, 0.0008],\n",
        "                       [0.0011, 0.0008, 0.0016]])\n",
        "\n",
        "# Pesos del portafolio\n",
        "weights = np.array([0.5, 0.3, 0.2])\n",
        "\n",
        "# Generar 1000 simulaciones de retornos con distribución normal multivariada\n",
        "returns = np.random.multivariate_normal(mu, cov_matrix, 1000)\n",
        "\n",
        "# Retorno total del portafolio\n",
        "portfolio_return = returns @ weights\n",
        "\n",
        "# Retorno del activo 1\n",
        "asset_1_return = returns[:, 0]\n",
        "\n",
        "# Calcular covarianza y correlación\n",
        "covarianza = np.cov(portfolio_return, asset_1_return)[0, 1]\n",
        "correlacion = np.corrcoef(portfolio_return, asset_1_return)[0, 1]\n",
        "\n",
        "print(f'Covarianza: {covarianza}')\n",
        "print(f'Correlación: {correlacion}')\n"
      ],
      "metadata": {
        "colab": {
          "base_uri": "https://localhost:8080/"
        },
        "id": "Tqp_EExkPdHD",
        "outputId": "dcce80f7-4be8-4ec1-c72b-b06518f9b231"
      },
      "execution_count": 6,
      "outputs": [
        {
          "output_type": "stream",
          "name": "stdout",
          "text": [
            "Covarianza: 0.0017706330056503328\n",
            "Correlación: 0.9631192202126265\n"
          ]
        }
      ]
    },
    {
      "cell_type": "markdown",
      "source": [
        "###Ejercicio 2\n",
        "\n",
        "Sea $X\\sim N(0,1)$ y define dos nuevas variables $Y=e^{X}$ y $Z=log(1+X^{2})$. Calcula la covarianza entre $Y$ y $Z$. ¿Qué interpretación se puede dar a la relación entre estas dos tranformaciones lineales?\n",
        "    \n",
        "\n",
        "\n"
      ],
      "metadata": {
        "id": "4lnvloqyMpTZ"
      }
    },
    {
      "cell_type": "markdown",
      "source": [
        "\n",
        "Solución:\n",
        "\n",
        "* Generamos 1000 realizaciones de $X\\sim N(0,1)$.\n",
        "\n",
        "* Calculamos $Y=e^{X} y $Z=log(1+X^{2}).$\n",
        "\n",
        "* Calculamos la covarianza de $Y$ y $Z$. \\\\\n"
      ],
      "metadata": {
        "id": "o1cInpzJTc4I"
      }
    },
    {
      "cell_type": "code",
      "source": [
        "\n",
        "# Generar realizaciones de X\n",
        "X = np.random.normal(0, 1, 1000)\n",
        "\n",
        "# Definir Y = e^X y Z = log(1 + X^2)\n",
        "Y = np.exp(X)\n",
        "Z = np.log(1 + X**2)\n",
        "\n",
        "# Calcular la covarianza\n",
        "covarianza = np.cov(Y, Z)[0, 1]\n",
        "print(f'Covarianza entre Y y Z: {covarianza}')\n",
        ""
      ],
      "metadata": {
        "colab": {
          "base_uri": "https://localhost:8080/"
        },
        "id": "T2BNFYxIQKUt",
        "outputId": "2ad80dfd-30a3-44c4-b58f-630a34ff8bdc"
      },
      "execution_count": 7,
      "outputs": [
        {
          "output_type": "stream",
          "name": "stdout",
          "text": [
            "Covarianza entre Y y Z: 0.49651794154166456\n"
          ]
        }
      ]
    },
    {
      "cell_type": "markdown",
      "source": [
        "###Ejercicio 3\n",
        "\n",
        "Sea $X\\sim N(0,1), Z \\sim N(0,1)$ y definamos $Y=X+Z$. Calcule la correlación entre $X$ y $Y$, y luego entre $Z$ e $Y$. ¿Qué puedes concluir sobre la influencia de una tercera variable en la correlación?\n",
        "\n",
        "\n",
        "\n"
      ],
      "metadata": {
        "id": "0HmOugJwMpVu"
      }
    },
    {
      "cell_type": "markdown",
      "source": [
        "* Generamos realizaciones de $X$ y $Z$, ambos independientes.\n",
        "\n",
        "* Definimos $Y=X+Z$.\n",
        "\n",
        "* Calculemos las correlaciones $Corr(X,Y)$ y $Corr(Z,Y)$"
      ],
      "metadata": {
        "id": "gCfgzobXTjqx"
      }
    },
    {
      "cell_type": "code",
      "source": [
        "\n",
        "# Generar X y Z independientes\n",
        "X = np.random.normal(0, 1, 1000)\n",
        "Z = np.random.normal(0, 1, 1000)\n",
        "\n",
        "# Definir Y = X + Z\n",
        "Y = X + Z\n",
        "\n",
        "# Calcular correlaciones\n",
        "corr_X_Y = np.corrcoef(X, Y)[0, 1]\n",
        "corr_Z_Y = np.corrcoef(Z, Y)[0, 1]\n",
        "\n",
        "print(f'Correlacion entre X e Y: {corr_X_Y}')\n",
        "print(f'Correlacion entre Z e Y: {corr_Z_Y}')\n"
      ],
      "metadata": {
        "colab": {
          "base_uri": "https://localhost:8080/"
        },
        "id": "sofXCy3bQUkR",
        "outputId": "c9343257-22ad-4406-a09c-5218f2636139"
      },
      "execution_count": 8,
      "outputs": [
        {
          "output_type": "stream",
          "name": "stdout",
          "text": [
            "Correlacion entre X e Y: 0.724453674585993\n",
            "Correlacion entre Z e Y: 0.7369835382491277\n"
          ]
        }
      ]
    },
    {
      "cell_type": "markdown",
      "source": [
        "###Ejercicio 4\n",
        "\n",
        "Genera dos series temporales $X_t$ e $Y_t$ donde\n",
        "\n",
        "  *  $X_t = 0.07X_{t-1} + \\epsilon_t $, \\ $\\epsilon_ \\sim N(0,1)$,\n",
        "\n",
        "  * $Y_t = 0.5Y_{t-1} + n_t, \\ n_t\\sim N(0,1)$, y calcula la covarianza entre $X_t$ e $Y_t$ en cada paso del tiempo $t$.\n",
        "\n",
        "\n"
      ],
      "metadata": {
        "id": "OB6SYlTOQUTy"
      }
    },
    {
      "cell_type": "markdown",
      "source": [
        "Solución:\n",
        "\n",
        "* Simulamos las series temporales $X_t$ e $Y_t$ con las relaciones de autocorrelaciones dadas tiempo t. \\\\\n",
        "\n",
        "* Calculamos la covarianza en cada paso del tiempo. \\\\\n",
        "       "
      ],
      "metadata": {
        "id": "atrHH3VkQ-BD"
      }
    },
    {
      "cell_type": "code",
      "source": [
        "# Parámetros\n",
        "n = 1000\n",
        "X = np.zeros(n)\n",
        "Y = np.zeros(n)\n",
        "epsilon = np.random.normal(0, 1, n)\n",
        "eta = np.random.normal(0, 1, n)\n",
        "\n",
        "# Inicialización\n",
        "X[0] = epsilon[0]\n",
        "Y[0] = eta[0]\n",
        "\n",
        "# Generar las series temporales\n",
        "for t in range(1, n):\n",
        "    X[t] = 0.7 * X[t-1] + epsilon[t]\n",
        "    Y[t] = 0.5 * Y[t-1] + eta[t]\n",
        "\n",
        "# Calcular covarianza entre X e Y en cada paso\n",
        "covarianzas = [np.cov(X[:t], Y[:t])[0, 1] for t in range(2, n)]\n",
        "print(f'Covarianza en el último paso: {covarianzas[-1]}')\n",
        ""
      ],
      "metadata": {
        "colab": {
          "base_uri": "https://localhost:8080/"
        },
        "id": "kQMu4pYbQT7D",
        "outputId": "11c6a2cc-5d09-43b4-cb10-eb5dbcdeb75f"
      },
      "execution_count": 9,
      "outputs": [
        {
          "output_type": "stream",
          "name": "stdout",
          "text": [
            "Covarianza en el último paso: 0.003433627742791766\n"
          ]
        }
      ]
    },
    {
      "cell_type": "markdown",
      "source": [
        "###Ejercicio 5\n",
        "\n",
        "Sea $X \\sim N(0,1)$ y define $Y=3X + \\epsilon$ donde $\\epsilon \\sim N(0,2)$ es ruido independiente. Calcule la correlación entre $X$ y $Y$. Luego, repite el experimento con $\\epsilon N(0,10)$ y compara los resultados. Explica cómo el ruido afecta la correlación.\n",
        "          \n",
        "Solución:\n",
        "\n",
        "* Se general $X$ y $Y=3X+\\epsilon$.\n",
        "* Se calcula la correlación entre $X$ y $Y$ con dos niveles de ruido diferentes.\n",
        "* Se compara el impacto del ruido en la correlación.\n"
      ],
      "metadata": {
        "id": "_IqLLXPzMpX1"
      }
    },
    {
      "cell_type": "code",
      "source": [
        "import numpy as np\n",
        "from scipy.stats import pearsonr\n",
        "\n",
        "# Generar X\n",
        "X = np.random.normal(0, 1, 1000)\n",
        "\n",
        "# Caso 1: Ruido con varianza 2\n",
        "epsilon_1 = np.random.normal(0, np.sqrt(2), 1000)\n",
        "Y1 = 3*X + epsilon_1\n",
        "correlacion_1 = pearsonr(X, Y1)[0]\n",
        "\n",
        "# Caso 2: Ruido con varianza 10\n",
        "epsilon_2 = np.random.normal(0, np.sqrt(10), 1000)\n",
        "Y2 = 3*X + epsilon_2\n",
        "correlacion_2 = pearsonr(X, Y2)[0]\n",
        "\n",
        "print(f'Correlación con ruido de varianza 2: {correlacion_1:.3f}')\n",
        "print(f'Correlación con ruido de varianza 10: {correlacion_2:.3f}')\n"
      ],
      "metadata": {
        "colab": {
          "base_uri": "https://localhost:8080/"
        },
        "id": "Nvf09AF3T9BM",
        "outputId": "1c999a0d-5856-4a15-e206-8c1cb6cdab2d"
      },
      "execution_count": 10,
      "outputs": [
        {
          "output_type": "stream",
          "name": "stdout",
          "text": [
            "Correlación con ruido de varianza 2: 0.910\n",
            "Correlación con ruido de varianza 10: 0.689\n"
          ]
        }
      ]
    },
    {
      "cell_type": "markdown",
      "source": [
        "* En el primer caso, como $Y$ es mayormente una función de $X$, la correlación debería ser alta.\n",
        "\n",
        "* En el segundo caso, al aumentar la varianza de $\\epsilon$, la relación entre $X$ y $Y$ se desvanece debido al ruido agregado, lo que reduce la correlación.\n",
        "    \n",
        "* El ruido disminuye la correlación, ya que introduce variabilidad en Y que no está explicada por $X$."
      ],
      "metadata": {
        "id": "MnB3mCpWMpZ0"
      }
    }
  ]
}