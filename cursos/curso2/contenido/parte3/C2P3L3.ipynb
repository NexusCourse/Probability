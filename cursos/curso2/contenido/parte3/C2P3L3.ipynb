{
  "nbformat": 4,
  "nbformat_minor": 0,
  "metadata": {
    "colab": {
      "provenance": []
    },
    "kernelspec": {
      "name": "python3",
      "display_name": "Python 3"
    },
    "language_info": {
      "name": "python"
    }
  },
  "cells": [
    {
      "cell_type": "markdown",
      "source": [
        "###Ejercicio 1\n",
        "En una red de comunicaciones, hay tres servidores $ A $, $ B $ y $ C $. La probabilidad de que el servidor $A $ esté disponible es $ 0.9 $, la de $ B $ es $ 0.8 $ y la de $ C $ es $ 0.7 $.\n",
        "\n",
        "Si los tres servidores están disponibles de manera independiente, encuentra la esperanza condicional de que $ A $ esté disponible dado que $ B $ está disponible.\n"
      ],
      "metadata": {
        "id": "otE-6zEoj48-"
      }
    },
    {
      "cell_type": "markdown",
      "source": [
        "Solución:\n",
        "\n",
        "Sabemos que $ A $ y $ B $ son eventos independientes, es decir,\n",
        "\n",
        "$P(A \\mid B) = P(A).$\n",
        "\n",
        "Dado que $ P(A) = 0.9 $, la esperanza condicional de que $ A $ esté disponible dado que $ B $ está disponible es simplemente:\n",
        "\n",
        "$E[A \\mid B] = 0.9.$"
      ],
      "metadata": {
        "id": "J3GLb8zsnFSV"
      }
    },
    {
      "cell_type": "code",
      "source": [
        "#Código:\n",
        "\n",
        "import numpy as np\n",
        "from scipy.stats import poisson, expon\n",
        "\n",
        "\n",
        "P_A = 0.9\n",
        "P_B = 0.8\n",
        "P_A_given_B = P_A  # Son independientes\n",
        "print(f'Ejercicio 1: Esperanza condicional de A dado que B está disponible: {P_A_given_B}')\n"
      ],
      "metadata": {
        "colab": {
          "base_uri": "https://localhost:8080/"
        },
        "id": "ZrBGwwTalSi4",
        "outputId": "05b37f91-eb38-464d-ea35-6e1b80ee4924"
      },
      "execution_count": 6,
      "outputs": [
        {
          "output_type": "stream",
          "name": "stdout",
          "text": [
            "Ejercicio 1: Esperanza condicional de A dado que B está disponible: 0.9\n"
          ]
        }
      ]
    },
    {
      "cell_type": "markdown",
      "source": [
        "###Ejercicio 2\n",
        "Supón que tiras dos dados:\n",
        "\n",
        "* El primer dado tiene una distribución uniforme sobre el conjunto $ \\{1, 2, 3, 4, 5, 6\\} $.\n",
        "* El segundo dado muestra un número igual al del primero más un número aleatorio con distribución uniforme sobre $ \\{-1, 0, 1\\} $.\n",
        "\n",
        "Calcula la esperanza condicional del resultado del segundo dado dado que el primer dado muestra un número impar.\n",
        "          \n",
        "\n"
      ],
      "metadata": {
        "id": "GGgtclMyj5Uk"
      }
    },
    {
      "cell_type": "markdown",
      "source": [
        "Solución: \\\\\n",
        "\n",
        "El primer dado puede tomar valores en $ \\{1, 2, 3, 4, 5, 6\\}$ con igual probabilidad. El segundo dado es el resultado del primero más una perturbación uniforme en $\\{-1, 0, 1\\}$.\n",
        "\n",
        "Queremos encontrar:\n",
        "\n",
        "$E[Y \\mid X \\text{ impar}].$\n",
        "\n",
        "Los valores impares de $ X $ son $ \\{1, 3, 5\\} $. Para cada uno de ellos, $ Y $ puede tomar tres valores:\n",
        "\n",
        "\n",
        "$Y = X + U, \\quad U \\sim \\text{Uniforme}(-1, 0, 1).$\n",
        "\n",
        "Calculamos la esperanza condicional sumando sobre estos casos y normalizando:\n",
        "\n",
        "$E[Y \\mid X \\text{ impar}] = \\frac{1}{3} \\sum_{x \\in \\{1,3,5\\}} E[Y \\mid X = x].$\n",
        "      "
      ],
      "metadata": {
        "id": "aX49HNxCj5XA"
      }
    },
    {
      "cell_type": "code",
      "source": [
        "#Código:\n",
        "\n",
        "valores_impares = [1, 3, 5]\n",
        "esperanza_condicional = 0\n",
        "for x in valores_impares:\n",
        "    for y in [-1, 0, 1]:\n",
        "        segundo_dado = x + y\n",
        "        if 1 <= segundo_dado <= 6:\n",
        "            esperanza_condicional += segundo_dado / len(valores_impares)\n",
        "print(f'Ejercicio 2: Esperanza condicional del segundo dado dado que el primero es impar: {esperanza_condicional}')\n",
        "\n"
      ],
      "metadata": {
        "colab": {
          "base_uri": "https://localhost:8080/"
        },
        "id": "7K_p2VMLmRcu",
        "outputId": "5e49ef91-f146-4020-a17d-1f37f78120f5"
      },
      "execution_count": 7,
      "outputs": [
        {
          "output_type": "stream",
          "name": "stdout",
          "text": [
            "Ejercicio 2: Esperanza condicional del segundo dado dado que el primero es impar: 9.0\n"
          ]
        }
      ]
    },
    {
      "cell_type": "markdown",
      "source": [
        "###Ejercicio 3\n",
        "De una baraja estándar de 52 cartas, extraes dos cartas sin reemplazo. Si la primera carta es un as, calcula la esperanza condicional del valor de la segunda carta.\n",
        "\n",
        "Asume que las cartas tienen los siguientes valores:\n",
        "\n",
        "* As = 1\n",
        "* Cartas del 2 al 10 tienen su valor nominal.\n",
        "* J, Q, K tienen un valor de 10.\n",
        "\n",
        "          \n",
        "      \n",
        "\n",
        "\n"
      ],
      "metadata": {
        "id": "3MdfA13Jj5Zj"
      }
    },
    {
      "cell_type": "markdown",
      "source": [
        "Solución \\\\\n",
        "\n",
        "Dado que la primera carta es un as, quedan 51 cartas en la baraja. Los valores posibles de la segunda carta son:\n",
        "$\\{2, 3, \\dots, 10, 10, 10, 10\\}.$\n",
        "Dado que cada carta tiene igual probabilidad de ser elegida, la esperanza condicional es simplemente la media de estos valores:\n",
        "\n",
        "\n",
        "$E[Y \\mid X = \\text{As}] = \\frac{\\sum_{y \\in \\text{valores restantes}} y}{51}.$\n",
        "        "
      ],
      "metadata": {
        "id": "71Yhror6l7Pf"
      }
    },
    {
      "cell_type": "code",
      "source": [
        "#Código:\n",
        "\n",
        "cartas = list(range(2, 11)) + [10, 10, 10]  # Valores de 2-10, J, Q, K\n",
        "n_cartas_totales = 51  # Ya sacamos un As\n",
        "esperanza_condicional = sum(cartas) / n_cartas_totales\n",
        "print(f'Ejercicio 3: Esperanza condicional del valor de la segunda carta dado que la primera fue un As: {esperanza_condicional}')\n"
      ],
      "metadata": {
        "colab": {
          "base_uri": "https://localhost:8080/"
        },
        "id": "uLOTHazGl6Fx",
        "outputId": "43fb303b-0f0e-44b6-fe0d-9a831930ee25"
      },
      "execution_count": 8,
      "outputs": [
        {
          "output_type": "stream",
          "name": "stdout",
          "text": [
            "Ejercicio 3: Esperanza condicional del valor de la segunda carta dado que la primera fue un As: 1.6470588235294117\n"
          ]
        }
      ]
    },
    {
      "cell_type": "markdown",
      "source": [
        "###Ejercicio 4\n",
        "Un proceso de llegadas Poisson ocurre con una tasa de 5 llegadas por hora. Encuentra la esperanza condicional del tiempo hasta la siguiente llegada, dado que han pasado 30 minutos desde la última llegada sin que haya ocurrido ninguna otra.\n",
        "          \n",
        "       "
      ],
      "metadata": {
        "id": "Cm9ZPlJmlW-K"
      }
    },
    {
      "cell_type": "markdown",
      "source": [
        "Solución: \\\\\n",
        "\n",
        "En un proceso Poisson con tasa $ \\lambda = 5 $ llegadas por hora, el tiempo entre llegadas sigue una distribución exponencial con parámetro $ \\lambda $:\n",
        "\n",
        "\n",
        "$T \\sim \\text{Exp}(\\lambda).$\n",
        "\n",
        "Usando la propiedad de \\textbf{falta de memoria} de la distribución exponencial, sabemos que:\n",
        "\n",
        "$E[T \\mid T > 0.5] = E[T] = \\frac{1}{\\lambda}.$\n",
        "\n",
        "Por lo tanto:\n",
        "\n",
        "$E[T \\mid T > 0.5] = \\frac{1}{5} \\text{ horas}.$\n",
        "        "
      ],
      "metadata": {
        "id": "qu7Xr-iKlQjA"
      }
    },
    {
      "cell_type": "code",
      "source": [
        "#Código:\n",
        "\n",
        "\n",
        "tasa = 5  # llegadas por hora\n",
        "tiempo_transcurrido = 0.5  # 30 minutos en horas\n",
        "esperanza_condicional = 1 / tasa\n",
        "print(f'Ejercicio 4: Esperanza condicional del tiempo hasta la siguiente llegada: {esperanza_condicional} horas')\n",
        ""
      ],
      "metadata": {
        "colab": {
          "base_uri": "https://localhost:8080/"
        },
        "id": "449GdLBelNlO",
        "outputId": "63e3bdd4-1da7-4900-dfcd-33b9325aa6ff"
      },
      "execution_count": 9,
      "outputs": [
        {
          "output_type": "stream",
          "name": "stdout",
          "text": [
            "Ejercicio 4: Esperanza condicional del tiempo hasta la siguiente llegada: 0.2 horas\n"
          ]
        }
      ]
    },
    {
      "cell_type": "markdown",
      "source": [
        "###Ejercicio 5\n",
        "Supón que las pérdidas de una compañía de seguros siguen una distribución exponencial con media $ 5000 $ USD.\n",
        "\n",
        "Dado que una pérdida particular supera los $ 10,000 $ USD, ¿cuál es la esperanza condicional de la pérdida total?\n",
        "  \n",
        "\n",
        "        \n"
      ],
      "metadata": {
        "id": "P-NAxe_6j5cL"
      }
    },
    {
      "cell_type": "markdown",
      "source": [
        "Solución:\n",
        "\n",
        "Dado que $ X \\sim \\text{Exp}(\\theta) $ con $ \\theta = 5000 $, queremos calcular:\n",
        "\n",
        "$$E[X \\mid X > 10000].$$\n",
        "\n",
        "Para una variable exponencial, la esperanza condicional de $ X $ dado que $ X > c$ se calcula como:\n",
        "\n",
        "\n",
        "$$E[X \\mid X > c] = c + \\theta.$$\n",
        "\n",
        "Sustituyendo $ c = 10000 $ y  $\\theta = 5000 $:\n",
        "\n",
        "$$E[X \\mid X > 10000] = 10000 + 5000 = 15000.$$"
      ],
      "metadata": {
        "id": "N3R6i-qfkMWD"
      }
    },
    {
      "cell_type": "code",
      "source": [
        "#Código:\n",
        "\n",
        "media = 5000\n",
        "condicion = 10000\n",
        "esperanza_condicional = expon(scale=media).expect(lambda x: x, lb=condicion)\n",
        "print(f'Ejercicio 5: Esperanza condicional de la pérdida dado que supera los 10,000 USD: {esperanza_condicional} USD')\n"
      ],
      "metadata": {
        "colab": {
          "base_uri": "https://localhost:8080/"
        },
        "id": "1Wh95-6CkG_z",
        "outputId": "eea8b7b1-3ec5-4dc0-81ea-0df9f52d192a"
      },
      "execution_count": 10,
      "outputs": [
        {
          "output_type": "stream",
          "name": "stdout",
          "text": [
            "Ejercicio 5: Esperanza condicional de la pérdida dado que supera los 10,000 USD: 2030.0292485491905 USD\n"
          ]
        }
      ]
    }
  ]
}