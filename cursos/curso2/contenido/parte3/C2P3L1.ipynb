{
  "cells": [
    {
      "cell_type": "markdown",
      "metadata": {
        "id": "-S_QTS9JIaW5"
      },
      "source": [
        "###Ejercicio 1\n",
        "\n",
        " Supón que tienes un sistema de colas $M/M/1$ donde las llegadas siguen un proceso de Poisson con tasa $\\lambda=4$ clientes por minuto, y el tiempo de servicio sigue una distribución exponencial con parámetro $\\mu=6$ servicios por minuto. El tiempo en el sistema (espera más servicio) de un cliente se puede modelar como una variable aleatoria $T$.\n",
        " Calcula el valor esperado del tiempo total que un cliente pasa en el sistema (espera más servicio) y simula la distribución de los tiempos totales usando Python para corroborar el valor esperado teórico.\n",
        "\n",
        "\n",
        "\n"
      ]
    },
    {
      "cell_type": "code",
      "execution_count": 1,
      "metadata": {
        "colab": {
          "base_uri": "https://localhost:8080/"
        },
        "id": "zIXK3OEDGJCT",
        "outputId": "cf68f7ac-9b9f-4e30-b461-e9caf4838653"
      },
      "outputs": [
        {
          "output_type": "stream",
          "name": "stdout",
          "text": [
            "Valor esperado teórico del tiempo total en el sistema: 0.5000 minutos\n",
            "Valor esperado empírico del tiempo total en el sistema (simulación): 0.6722 minutos\n"
          ]
        }
      ],
      "source": [
        "import numpy as np\n",
        "\n",
        "# Parámetros\n",
        "lambda_rate = 4  # tasa de llegadas\n",
        "mu = 6  # tasa de servicio\n",
        "\n",
        "# Valor esperado teórico\n",
        "expected_T = 1 / (mu - lambda_rate)\n",
        "print(f\"Valor esperado teórico del tiempo total en el sistema: {expected_T:.4f} minutos\")\n",
        "\n",
        "# Simulación\n",
        "np.random.seed(42)\n",
        "num_simulations = 10000\n",
        "service_times = np.random.exponential(1/mu, num_simulations)\n",
        "waiting_times = np.random.exponential(1/(mu - lambda_rate), num_simulations)\n",
        "total_times = service_times + waiting_times\n",
        "\n",
        "# Valor esperado empírico\n",
        "empirical_expected_T = np.mean(total_times)\n",
        "print(f\"Valor esperado empírico del tiempo total en el sistema (simulación): {empirical_expected_T:.4f} minutos\")"
      ]
    },
    {
      "cell_type": "markdown",
      "metadata": {
        "id": "vKS_WwD5IUx-"
      },
      "source": [
        "###Ejercicio 2\n",
        "\n",
        "Un jugador tiene $M$ unidades monetarias y apuesta en un juego donde puede ganar una unidad con probabilidad $p=0.4$ y perder una unidad con probabilidad $1−p=0.6$. El juego termina cuando el jugador se queda sin dinero o alcanza un capital de $N=10$ unidades.\n",
        "Calcula el valor esperado del número de juegos hasta que el jugador quiebre o alcance\n",
        "$N$ unidades. Simula este proceso con Python para estimar el valor esperado y compáralo con el teórico."
      ]
    },
    {
      "cell_type": "code",
      "execution_count": 2,
      "metadata": {
        "colab": {
          "base_uri": "https://localhost:8080/"
        },
        "id": "HU8C0Ur4IVm5",
        "outputId": "80cd87da-3ed6-445d-bc67-bc91244feba6"
      },
      "outputs": [
        {
          "output_type": "stream",
          "name": "stdout",
          "text": [
            "Valor esperado empírico del número de juegos: 19.08\n"
          ]
        }
      ],
      "source": [
        "import numpy as np\n",
        "\n",
        "# Parámetros\n",
        "M = 5  # capital inicial\n",
        "N = 10  # capital objetivo\n",
        "p = 0.4  # probabilidad de ganar\n",
        "\n",
        "# Simulación\n",
        "def simulate_game(M, N, p):\n",
        "    capital = M\n",
        "    games = 0\n",
        "    while 0 < capital < N:\n",
        "        if np.random.random() < p:\n",
        "            capital += 1\n",
        "        else:\n",
        "            capital -= 1\n",
        "        games += 1\n",
        "    return games\n",
        "\n",
        "np.random.seed(42)\n",
        "num_simulations = 10000\n",
        "games_until_end = [simulate_game(M, N, p) for _ in range(num_simulations)]\n",
        "\n",
        "# Valor esperado empírico\n",
        "empirical_expected_games = np.mean(games_until_end)\n",
        "print(f\"Valor esperado empírico del número de juegos: {empirical_expected_games:.2f}\")"
      ]
    },
    {
      "cell_type": "markdown",
      "metadata": {
        "id": "nyS4iVyHIU6K"
      },
      "source": [
        "###Ejercicio 3\n",
        "\n",
        "Una aseguradora emite pólizas que cubren pérdidas $X$ con una distribución exponencial con parámetro $λ=1/1000$. Sin embargo, el asegurado tiene un deducible de $D=500$, lo que significa que la aseguradora solo paga la cantidad de pérdida que excede $D$.\n",
        "\n",
        "Calcula el valor esperado del pago que realiza la aseguradora en cada siniestro y simula el valor esperado con Python.\n",
        "\n",
        "\n",
        "\n",
        "  \n"
      ]
    },
    {
      "cell_type": "code",
      "execution_count": 3,
      "metadata": {
        "colab": {
          "base_uri": "https://localhost:8080/"
        },
        "id": "A2CR_hG8IXGe",
        "outputId": "a7b0c37e-6790-4dd4-e0b6-fba06bbfbafb"
      },
      "outputs": [
        {
          "output_type": "stream",
          "name": "stdout",
          "text": [
            "Valor esperado teórico del pago: 909.80\n",
            "Valor esperado empírico del pago (simulación): 585.94\n"
          ]
        }
      ],
      "source": [
        "import numpy as np\n",
        "\n",
        "# Parámetros\n",
        "lambda_rate = 1/1000  # parámetro exponencial\n",
        "D = 500  # deducible\n",
        "\n",
        "# Valor esperado teórico\n",
        "expected_payment = np.exp(-lambda_rate * D) * (1/lambda_rate + D)\n",
        "print(f\"Valor esperado teórico del pago: {expected_payment:.2f}\")\n",
        "\n",
        "# Simulación\n",
        "np.random.seed(42)\n",
        "num_simulations = 10000\n",
        "losses = np.random.exponential(1/lambda_rate, num_simulations)\n",
        "payments = np.maximum(0, losses - D)\n",
        "\n",
        "# Valor esperado empírico\n",
        "empirical_expected_payment = np.mean(payments)\n",
        "print(f\"Valor esperado empírico del pago (simulación): {empirical_expected_payment:.2f}\")"
      ]
    },
    {
      "cell_type": "markdown",
      "metadata": {
        "id": "gJjXPnEVIU8X"
      },
      "source": [
        "###Ejercicio 4\n",
        "\n",
        "Una partícula realiza una caminata aleatoria en una línea con pasos de longitud 1. En cada paso, la partícula se mueve a la izquierda con probabilidad $p=0.5$ y a la derecha con probabilidad $1−p=0.5$. Si la partícula empieza en la posición $x=0$, ¿cuál es el valor esperado del tiempo hasta que la partícula regrese a la posición $x=0$ por primera vez?\n",
        "    "
      ]
    },
    {
      "cell_type": "code",
      "execution_count": 4,
      "metadata": {
        "colab": {
          "base_uri": "https://localhost:8080/"
        },
        "id": "kKO6rzYJIXlX",
        "outputId": "58cc1412-a7ee-4981-ad4f-44ed6c7a6ade"
      },
      "outputs": [
        {
          "output_type": "stream",
          "name": "stdout",
          "text": [
            "Valor esperado empírico del tiempo de regreso a 0: 4595.86 pasos\n"
          ]
        }
      ],
      "source": [
        "import numpy as np\n",
        "\n",
        "# Simulación\n",
        "def random_walk_return():\n",
        "    position = 0\n",
        "    steps = 0\n",
        "    while position != 0 or steps == 0:  # no contar el inicio como regreso\n",
        "        if np.random.random() < 0.5:\n",
        "            position -= 1\n",
        "        else:\n",
        "            position += 1\n",
        "        steps += 1\n",
        "    return steps\n",
        "\n",
        "np.random.seed(42)\n",
        "num_simulations = 10000\n",
        "return_times = [random_walk_return() for _ in range(num_simulations)]\n",
        "\n",
        "# Valor esperado empírico\n",
        "empirical_expected_return_time = np.mean(return_times)\n",
        "print(f\"Valor esperado empírico del tiempo de regreso a 0: {empirical_expected_return_time:.2f} pasos\")\n"
      ]
    },
    {
      "cell_type": "markdown",
      "metadata": {
        "id": "duM_rb93IU-u"
      },
      "source": [
        "###Ejercicio 5\n",
        "\n",
        "Se tiene una urna con 3 bolas rojas y 2 bolas azules. Se selecciona una bola al azar, se registra su color, y luego se devuelve a la urna. ¿Cuál es el valor esperado del número de extracciones necesarias para observar al menos una bola de cada color?\n",
        "  \n"
      ]
    },
    {
      "cell_type": "code",
      "execution_count": 5,
      "metadata": {
        "colab": {
          "base_uri": "https://localhost:8080/"
        },
        "id": "ScMuxLj4IYzC",
        "outputId": "6e65b13e-6229-4073-9be5-51083d125a75"
      },
      "outputs": [
        {
          "output_type": "stream",
          "name": "stdout",
          "text": [
            "Valor esperado empírico del número de extracciones: 3.15\n"
          ]
        }
      ],
      "source": [
        "import numpy as np\n",
        "\n",
        "# Simulación\n",
        "def simulate_draws_until_both_colors():\n",
        "    seen_colors = set()\n",
        "    draws = 0\n",
        "    while len(seen_colors) < 2:  # esperamos ver ambas (rojo y azul)\n",
        "        draw = np.random.choice(['rojo', 'azul'], p=[3/5, 2/5])\n",
        "        seen_colors.add(draw)\n",
        "        draws += 1\n",
        "    return draws\n",
        "\n",
        "np.random.seed(42)\n",
        "num_simulations = 10000\n",
        "draws_until_both = [simulate_draws_until_both_colors() for _ in range(num_simulations)]\n",
        "\n",
        "# Valor esperado empírico\n",
        "empirical_expected_draws = np.mean(draws_until_both)\n",
        "print(f\"Valor esperado empírico del número de extracciones: {empirical_expected_draws:.2f}\")\n",
        "\n"
      ]
    }
  ],
  "metadata": {
    "colab": {
      "provenance": []
    },
    "kernelspec": {
      "display_name": "Python 3",
      "name": "python3"
    },
    "language_info": {
      "name": "python"
    }
  },
  "nbformat": 4,
  "nbformat_minor": 0
}