{
  "nbformat": 4,
  "nbformat_minor": 0,
  "metadata": {
    "colab": {
      "provenance": []
    },
    "kernelspec": {
      "name": "python3",
      "display_name": "Python 3"
    },
    "language_info": {
      "name": "python"
    }
  },
  "cells": [
    {
      "cell_type": "markdown",
      "source": [
        "###Ejercicio 1\n",
        "Sea $ X $ una variable aleatoria cuya distribución es una mezcla de dos distribuciones normales:\n",
        "\n",
        "* $ X_1 \\sim \\mathcal{N}(\\mu_1, \\sigma_1^2) $ con probabilidad $ p $,\n",
        "* $ X_2 \\sim \\mathcal{N}(\\mu_2, \\sigma_2^2) $ con probabilidad $ 1 - p $.\n",
        "\n",
        "Calcule la función generadora de momentos (MGF) de $ X $.\n",
        "      "
      ],
      "metadata": {
        "id": "RqevaYe8n5EJ"
      }
    },
    {
      "cell_type": "markdown",
      "source": [
        "Solución: \\\\\n",
        "\n",
        "La función generadora de momentos (MGF) de una mezcla de distribuciones se obtiene como la combinación ponderada de las MGFs individuales:\n",
        "\n",
        "$M_X(t) = p M_{X_1}(t) + (1 - p) M_{X_2}(t).$\n",
        "\n",
        "Dado que la MGF de una normal $ \\mathcal{N} (\\mu, \\sigma^2)$ es:\n",
        "\n",
        "$M_X(t) = \\exp\\left( \\mu t + \\frac{1}{2} \\sigma^2 t^2 \\right),$\n",
        "\n",
        "se tiene que:\n",
        "\n",
        "$M_X(t) = p \\exp\\left( \\mu_1 t + \\frac{1}{2} \\sigma_1^2 t^2 \\right) + (1 - p) \\exp\\left( \\mu_2 t + \\frac{1}{2} \\sigma_2^2 t^2 \\right).$\n"
      ],
      "metadata": {
        "id": "sdb-HIfin5XJ"
      }
    },
    {
      "cell_type": "code",
      "source": [
        "#Código:\n",
        "import sympy as sp\n",
        "\n",
        "# Definir los parámetros\n",
        "mu1, sigma1, mu2, sigma2, p = sp.symbols('mu1 sigma1 mu2 sigma2 p')\n",
        "\n",
        "# MGF de las distribuciones normales\n",
        "mgf_X1 = sp.exp(mu1 * t + 0.5 * sigma1**2 * t**2)\n",
        "mgf_X2 = sp.exp(mu2 * t + 0.5 * sigma2**2 * t**2)\n",
        "\n",
        "# MGF de la mezcla\n",
        "mgf_mixture = p * mgf_X1 + (1 - p) * mgf_X2\n",
        "\n",
        "mgf_mixture\n"
      ],
      "metadata": {
        "id": "e3t_uaNloOpb"
      },
      "execution_count": null,
      "outputs": []
    },
    {
      "cell_type": "markdown",
      "source": [
        "###Ejercicio 2\n",
        "Sea $ X \\sim \\mathcal{N}(\\mu, \\sigma^2) $ truncada en el intervalo $ [a, b] $, es decir, que $ X $ toma valores solo dentro de este intervalo.  \n",
        "Calcule la función generadora de momentos (MGF) de $ X $.\n"
      ],
      "metadata": {
        "id": "tCEEV4Yan5id"
      }
    },
    {
      "cell_type": "markdown",
      "source": [
        "Solución:\n",
        "\n",
        "La función generadora de momentos de una normal truncada en el intervalo $ [a, b] $ se define como:\n",
        "\n",
        "$M_X(t) = \\frac{E[e^{tX} \\mathbb{1}_{\\{a \\leq X \\leq b\\}}]}{P(a \\leq X \\leq b)}.$\n",
        "\n",
        "Usando la MGF de la normal y la función de distribución acumulada (CDF) $ \\Phi(x) $, se obtiene:\n",
        "\n",
        "$M_X(t) = \\frac{\\exp\\left( \\mu t + \\frac{1}{2} \\sigma^2 t^2 \\right) \\left[ \\Phi\\left( \\frac{b - \\mu - \\sigma^2 t}{\\sigma} \\right) - \\Phi\\left( \\frac{a - \\mu - \\sigma^2 t}{\\sigma} \\right) \\right]}{\\Phi\\left( \\frac{b - \\mu}{\\sigma} \\right) - \\Phi\\left( \\frac{a - \\mu}{\\sigma} \\right)}.$\n",
        "\n",
        "\n"
      ],
      "metadata": {
        "id": "-TOHYRiDpygK"
      }
    },
    {
      "cell_type": "code",
      "source": [
        "#Código:\n",
        "\n",
        "# Definir los parámetros\n",
        "a, b = sp.symbols('a b')\n",
        "\n",
        "# CDF truncada\n",
        "cdf_truncada = sp.erf((b - mu)/(sigma * sp.sqrt(2))) - sp.erf((a - mu)/(sigma * sp.sqrt(2)))\n",
        "\n",
        "# MGF truncada\n",
        "mgf_truncada = (sp.exp(mu * t + 0.5 * sigma**2 * t**2) / cdf_truncada)\n",
        "\n",
        "mgf_truncada\n"
      ],
      "metadata": {
        "id": "UjiZpQgYpsQs"
      },
      "execution_count": null,
      "outputs": []
    },
    {
      "cell_type": "markdown",
      "source": [
        "###Ejercicio 3\n",
        "Sea $ X = Y_1 + Y_2 + \\cdots + Y_k $, donde $ Y_i \\sim \\text{Poisson}(\\lambda_i) $ son variables aleatorias independientes.  \n",
        "Calcule la función generadora de momentos (MGF) de $ X $.\n",
        "\n",
        "\n",
        "   \n"
      ],
      "metadata": {
        "id": "BTsamaJDn5k7"
      }
    },
    {
      "cell_type": "markdown",
      "source": [
        "Solución: \\\\\n",
        "\n",
        "MGF de una variable aleatoria compuesta por una suma de Poisson\n",
        "Si $ X = Y_1 + Y_2 + \\cdots + Y_k $, donde $ Y_i \\sim \\text{Poisson}(\\lambda_i) $ son variables aleatorias independientes, la MGF de $ X $ es el producto de las MGFs individuales:\n",
        "\n",
        "$$M_X(t) = \\prod_{i=1}^{k} M_{Y_i}(t).$$\n",
        "\n",
        "Dado que la MGF de una variable Poisson $ Y_i \\sim \\text{Poisson}(\\lambda_i) $ es:\n",
        "\n",
        "$$M_{Y_i}(t) = \\exp\\left( \\lambda_i (e^t - 1) \\right),$$\n",
        "\n",
        "entonces la MGF de $ X $ se obtiene como:\n",
        "\n",
        "$$M_X(t) = \\exp\\left( \\sum_{i=1}^{k} \\lambda_i (e^t - 1) \\right) = \\exp\\left( \\lambda (e^t - 1) \\right),$$\n",
        "\n",
        "donde $ \\lambda = \\sum_{i=1}^{k} \\lambda_i $, lo que confirma que  X \\sim \\text{Poisson}(\\lambda) $.\n"
      ],
      "metadata": {
        "id": "vZneSALirpRc"
      }
    },
    {
      "cell_type": "code",
      "source": [
        "#Código:\n",
        "\n",
        "# Definir los parámetros\n",
        "lambda_1, lambda_2, k = sp.symbols('lambda_1 lambda_2 k')\n",
        "\n",
        "# MGF de cada variable Poisson\n",
        "mgf_poisson_k = sp.prod([sp.exp(lambda_i * (sp.exp(t) - 1)) for lambda_i in [lambda_1, lambda_2]])\n",
        "\n",
        "mgf_poisson_k\n"
      ],
      "metadata": {
        "id": "b9FrKS6XroXO"
      },
      "execution_count": null,
      "outputs": []
    },
    {
      "cell_type": "markdown",
      "source": [
        "###Ejercicio 4\n",
        "Sea $ X \\sim \\text{Cauchy}(\\mu, \\gamma) $, donde $ \\mu $ es el parámetro de localización y $ \\gamma $ el parámetro de escala.  \n",
        "Calcule la función generadora de momentos (MGF) de $ X $, sabiendo que la MGF de la Cauchy no existe en el sentido tradicional.\n",
        "\n",
        "  "
      ],
      "metadata": {
        "id": "YSjYGGUyn5nC"
      }
    },
    {
      "cell_type": "markdown",
      "source": [
        "Solución: \\\\\n",
        "\n",
        "La MGF de la distribución de Cauchy no existe, debido a que la esperanza matemática de $ e^{tX} $ no está bien definida.  \n",
        "\n",
        "Sea $ X \\sim \\text{Cauchy}(\\mu, \\gamma) $, su función de densidad es:\n",
        "\n",
        "\n",
        "$$f_X(x) = \\frac{1}{\\pi \\gamma} \\frac{1}{1 + \\left(\\frac{x - \\mu}{\\gamma}\\right)^2}.$$\n",
        "\n",
        "Para calcular la MGF, se evalúa la integral:\n",
        "\n",
        "$$M_X(t) = E[e^{tX}] = \\int_{-\\infty}^{\\infty} e^{t x} \\frac{1}{\\pi \\gamma} \\frac{1}{1 + \\left(\\frac{x - \\mu}{\\gamma}\\right)^2} dx.$$\n",
        "\n",
        "Sin embargo, esta integral no converge para ningún valor de $ t \\neq 0 $, por lo que la MGF de la Cauchy no está definida. \\\\\n"
      ],
      "metadata": {
        "id": "K90V47oUqpdx"
      }
    },
    {
      "cell_type": "code",
      "source": [
        "#Código:\n",
        "\n",
        "# Parámetros de la distribución de Cauchy\n",
        "mu, gamma = sp.symbols('mu gamma')\n",
        "\n",
        "# MGF no existe, por lo que intentamos calcular la integral\n",
        "mgf_cauchy = sp.integrate(sp.exp(t * X) * (1 / (sp.pi * gamma * (1 + ((X - mu)/gamma)**2))), (X, -sp.oo, sp.oo))\n",
        "\n",
        "mgf_cauchy\n",
        "\n"
      ],
      "metadata": {
        "id": "80nCmDiIqqLO"
      },
      "execution_count": null,
      "outputs": []
    },
    {
      "cell_type": "markdown",
      "source": [
        "###Ejercicio 5\n",
        "\n",
        "Sea $ X \\sim \\text{LogNormal}(\\mu, \\sigma^2) $, es decir, $ Y = \\log(X) \\sim \\mathcal{N}(\\mu, \\sigma^2) $.  \n",
        "Calcule la función generadora de momentos (MGF) de $ X $.\n"
      ],
      "metadata": {
        "id": "DNAFRm5hn5pP"
      }
    },
    {
      "cell_type": "markdown",
      "source": [
        "Solución:\n",
        "\n",
        "\n",
        "Si $ X \\sim \\text{LogNormal}(\\mu, \\sigma^2) $, entonces $ Y = \\log(X) \\sim \\mathcal{N}(\\mu, \\sigma^2) $.  \n",
        "\n",
        "La MGF de $ X $ se obtiene usando la propiedad de la variable transformada:\n",
        "\n",
        "\n",
        "$$M_X(t) = E[e^{tX}].$$\n",
        "\n",
        "Dado que $ \\log(X) \\sim \\mathcal{N}(\\mu, \\sigma^2) $, su MGF es:\n",
        "\n",
        "$$M_X(t) = \\exp\\left( \\mu t + \\frac{1}{2} \\sigma^2 t^2 \\right).$$"
      ],
      "metadata": {
        "id": "1GIknUMbn5r2"
      }
    },
    {
      "cell_type": "code",
      "source": [
        "#Código:\n",
        "\n",
        "\n",
        "# Parámetros de la log-normal\n",
        "mu, sigma = sp.symbols('mu sigma')\n",
        "\n",
        "# MGF de la log-normal\n",
        "mgf_lognormal = sp.exp(mu * t + 0.5 * sigma**2 * t**2)\n",
        "\n",
        "mgf_lognormal\n"
      ],
      "metadata": {
        "id": "lUnGbaJHqPOo"
      },
      "execution_count": null,
      "outputs": []
    }
  ]
}