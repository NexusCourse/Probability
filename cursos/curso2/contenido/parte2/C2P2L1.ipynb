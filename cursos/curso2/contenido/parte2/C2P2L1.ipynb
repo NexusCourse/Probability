{
  "nbformat": 4,
  "nbformat_minor": 0,
  "metadata": {
    "colab": {
      "provenance": []
    },
    "kernelspec": {
      "name": "python3",
      "display_name": "Python 3"
    },
    "language_info": {
      "name": "python"
    }
  },
  "cells": [
    {
      "cell_type": "markdown",
      "source": [
        "# Vectores aleatorios\n",
        "Curso 2 (Probabilidad II)\n",
        "\n",
        "Parte 1 / Lección 1"
      ],
      "metadata": {
        "id": "_BuJfneLkcCN"
      }
    },
    {
      "cell_type": "markdown",
      "source": [
        "Ejercicio 1.\n",
        "\n",
        " Encuentra la constante c que hace a la siguiente función de probabilidad conjunta.\n",
        "  \n",
        "f(x) =\n",
        "\\begin{cases}\n",
        "cxy & \\text{si } (x,y) \\in \\{1,2\\}*\\{1,2\\}\\\\\n",
        "0 & \\text{en otro caso.}\n",
        "\\end{cases}"
      ],
      "metadata": {
        "id": "hku7UygKkk50"
      }
    },
    {
      "cell_type": "code",
      "execution_count": 1,
      "metadata": {
        "colab": {
          "base_uri": "https://localhost:8080/"
        },
        "id": "b8RpupPXkYgW",
        "outputId": "3870da3e-26cb-4790-b922-4e008194e11c"
      },
      "outputs": [
        {
          "output_type": "stream",
          "name": "stdout",
          "text": [
            "El valor de c es: 0.1111111111111111\n"
          ]
        }
      ],
      "source": [
        "# Definir la ecuación para c\n",
        "suma_prob = sum(x * y for x in [1, 2] for y in [1, 2])\n",
        "\n",
        "# Calcular la constante c\n",
        "c = 1 / suma_prob\n",
        "\n",
        "# Mostrar el resultado\n",
        "print(f\"El valor de c es: {c}\")"
      ]
    },
    {
      "cell_type": "markdown",
      "source": [
        "Ejercicio 2.\n",
        "\n",
        "Comprueba que la siguiente función es de densidad\n",
        "\n",
        "f(x) =\n",
        "\\begin{cases}\n",
        "x+y & \\text{si } 0<x, y<1,\\\\\n",
        "0 & \\text{en otro caso.}\n",
        "\\end{cases}\n"
      ],
      "metadata": {
        "id": "4_O3r8jrk5t2"
      }
    },
    {
      "cell_type": "code",
      "source": [
        "from sympy import symbols, integrate\n",
        "\n",
        "# Definir las variables\n",
        "x, y = symbols('x y')\n",
        "\n",
        "# Definir la función de densidad\n",
        "f = x + y\n",
        "\n",
        "# Definir los límites de integración\n",
        "x_limits = (x, 0, 1)\n",
        "y_limits = (y, 0, 1)\n",
        "\n",
        "# Calcular la integral doble\n",
        "integral_result = integrate(integrate(f, x_limits), y_limits)\n",
        "\n",
        "# Mostrar el resultado\n",
        "integral_result"
      ],
      "metadata": {
        "colab": {
          "base_uri": "https://localhost:8080/",
          "height": 37
        },
        "id": "GtEdQ1l9k9jL",
        "outputId": "384fcf0e-0f2f-493d-a180-9eebd5867964"
      },
      "execution_count": 2,
      "outputs": [
        {
          "output_type": "execute_result",
          "data": {
            "text/plain": [
              "1"
            ],
            "text/latex": "$\\displaystyle 1$"
          },
          "metadata": {},
          "execution_count": 2
        }
      ]
    },
    {
      "cell_type": "markdown",
      "source": [
        "Ejercicio 3.\n",
        "\n",
        "Verifique que la siguiente función es de probabilidad.\n",
        "\n",
        "f(x) =\n",
        "\\begin{cases}\n",
        "2^{-(x+y)} & \\text{si } x,y=1,2,...\\\\\n",
        "0 & \\text{en otro caso.}\n",
        "\\end{cases}\n",
        "  "
      ],
      "metadata": {
        "id": "JmvqxI9NlD7Z"
      }
    },
    {
      "cell_type": "code",
      "source": [
        "from sympy import symbols, summation, oo\n",
        "\n",
        "# Definir las variables\n",
        "x, y = symbols('x y', integer=True)\n",
        "\n",
        "# Definir la función de densidad\n",
        "f = 2**(-(x + y))\n",
        "\n",
        "# Definir los límites de la suma\n",
        "x_limits = (x, 1, oo)\n",
        "y_limits = (y, 1, oo)\n",
        "\n",
        "# Calcular la suma doble\n",
        "sum_result = summation(summation(f, y_limits), x_limits)\n",
        "\n",
        "# Mostrar el resultado\n",
        "sum_result"
      ],
      "metadata": {
        "colab": {
          "base_uri": "https://localhost:8080/",
          "height": 37
        },
        "id": "5HRKVE0HlHzN",
        "outputId": "3eee48fb-5e91-462a-be4e-21a83443872f"
      },
      "execution_count": 3,
      "outputs": [
        {
          "output_type": "execute_result",
          "data": {
            "text/plain": [
              "1"
            ],
            "text/latex": "$\\displaystyle 1$"
          },
          "metadata": {},
          "execution_count": 3
        }
      ]
    }
  ]
}