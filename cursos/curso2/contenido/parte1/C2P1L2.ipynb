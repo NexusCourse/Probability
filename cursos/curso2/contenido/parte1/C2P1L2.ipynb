{
  "nbformat": 4,
  "nbformat_minor": 0,
  "metadata": {
    "colab": {
      "provenance": []
    },
    "kernelspec": {
      "name": "python3",
      "display_name": "Python 3"
    },
    "language_info": {
      "name": "python"
    }
  },
  "cells": [
    {
      "cell_type": "markdown",
      "source": [
        "Ejercicio 1.\n",
        "\n",
        "Suponga que un experimento aleatorio consiste en escoger un número al azar dentro del intervalo $(0,1)$. Para cada resultado $w$ del experimento se expresa a este número en su expansión decimal,\n",
        "$$w=0.a_{1}a_{2}a_{3}...$$\n",
        "en donde $a_{i} \\in \\{ 0,1,...,9\\}, i=1,2,...$. Para cada una de las siguientes variables aleatorias determine si ésta es discreta o continua y en cualquier caso establezca el conjunto de valores que puede tomar:\n",
        "\n",
        "1. $X(w) = 1- w$\n",
        "\n",
        "2. $Y(w)=a_{1}$\n"
      ],
      "metadata": {
        "id": "bts6naqEB-Sx"
      }
    },
    {
      "cell_type": "code",
      "execution_count": 2,
      "metadata": {
        "colab": {
          "base_uri": "https://localhost:8080/"
        },
        "id": "gqB0gyBPBxv9",
        "outputId": "f2353278-71c5-44a2-84a9-bbd99661271c"
      },
      "outputs": [
        {
          "output_type": "stream",
          "name": "stdout",
          "text": [
            "Ejemplo de valores generados:\n",
            "ω: [0.33776259 0.68181194 0.8218781  0.96751122 0.82692469]\n",
            "X(ω): [0.66223741 0.31818806 0.1781219  0.03248878 0.17307531]\n",
            "Y(ω): [3 6 8 9 8]\n",
            "\n",
            "Conjunto de valores que puede tomar X(ω):\n",
            "[0.00, 1.00] (es continuo)\n",
            "\n",
            "Conjunto de valores que puede tomar Y(ω):\n",
            "{0, 1, 2, 3, 4, 5, 6, 7, 8, 9} (es discreto)\n"
          ]
        }
      ],
      "source": [
        "import numpy as np\n",
        "\n",
        "# Simulación del experimento aleatorio\n",
        "def simulate_experiment(n_samples):\n",
        "\n",
        "# Generamos n_samples números aleatorios uniformes en (0, 1)\n",
        "    omega = np.random.random(n_samples)\n",
        "\n",
        "    # Calculamos X(ω) = 1 - ω\n",
        "    X = 1 - omega\n",
        "\n",
        "    # Calculamos Y(ω) = a_1 (el primer dígito decimal de ω)\n",
        "    # Convertimos los números a cadenas, obtenemos el primer dígito y lo convertimos a entero\n",
        "    Y = np.array([int(str(o)[2]) for o in omega])\n",
        "\n",
        "    return omega, X, Y\n",
        "\n",
        "# Configuración\n",
        "n_samples = 10000  # Número de muestras\n",
        "\n",
        "# Realizamos la simulación\n",
        "omega, X, Y = simulate_experiment(n_samples)\n",
        "\n",
        "# Resultados\n",
        "print(\"Ejemplo de valores generados:\")\n",
        "print(\"ω:\", omega[:5])\n",
        "print(\"X(ω):\", X[:5])\n",
        "print(\"Y(ω):\", Y[:5])\n",
        "\n",
        "# Verificamos los conjuntos de valores posibles\n",
        "print(\"\\nConjunto de valores que puede tomar X(ω):\")\n",
        "print(f\"[{X.min():.2f}, {X.max():.2f}] (es continuo)\")\n",
        "\n",
        "print(\"\\nConjunto de valores que puede tomar Y(ω):\")\n",
        "print(set(Y), \"(es discreto)\")"
      ]
    },
    {
      "cell_type": "markdown",
      "source": [
        "Ejercicio 2.\n",
        "Encuentra el valor de la constante c que hace que la siguiente función que hace la siguiente función sea de probabilidad.\n",
        "\n",
        "\n",
        "f(x)=\n",
        "\\begin{cases}\n",
        "cx & \\text{si } x=0,1,2,3\\\\\n",
        "0 & \\text{en otro caso.}\n",
        "\\end{cases}\n"
      ],
      "metadata": {
        "id": "tu9MTonvCAPs"
      }
    },
    {
      "cell_type": "code",
      "source": [
        "import sympy as sp\n",
        "\n",
        "# Definir la variable simbólica\n",
        "c = sp.Symbol('c')\n",
        "\n",
        "# Ecuación de normalización: sumatoria de f(x) debe ser 1\n",
        "equation = sum(c * x for x in range(4)) - 1\n",
        "\n",
        "# Resolver para c\n",
        "solution = sp.solve(equation, c)\n",
        "print(\"El valor de c es:\", solution[0])"
      ],
      "metadata": {
        "colab": {
          "base_uri": "https://localhost:8080/"
        },
        "id": "g-cDUsP9CDj2",
        "outputId": "0dbb21ca-a186-4309-9035-214eca59c6ae"
      },
      "execution_count": 1,
      "outputs": [
        {
          "output_type": "stream",
          "name": "stdout",
          "text": [
            "El valor de c es: 1/6\n"
          ]
        }
      ]
    }
  ]
}