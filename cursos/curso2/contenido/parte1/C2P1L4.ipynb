{
  "nbformat": 4,
  "nbformat_minor": 0,
  "metadata": {
    "colab": {
      "provenance": []
    },
    "kernelspec": {
      "name": "python3",
      "display_name": "Python 3"
    },
    "language_info": {
      "name": "python"
    }
  },
  "cells": [
    {
      "cell_type": "markdown",
      "source": [
        "# Momentos\n",
        "Curso 2 (Probabilidad II)\n",
        "Parte 1 / Lección 4"
      ],
      "metadata": {
        "id": "46FZYJ7ajqzS"
      }
    },
    {
      "cell_type": "markdown",
      "source": [
        "Ejercicio 1.\n",
        "\n",
        "Sea X una variable aleatoria discreta con función de porbabilidad como aparece abajo. Encuentre la función generadora de momentos de X y a partir de ella calcule la media y varianza de $X$.\n",
        "\n",
        "f(x) =\n",
        "\\begin{cases}\n",
        "\\frac{1}{2^x} & \\text{si } x=1,2,..\\\\\n",
        "0 & \\text{en otro caso.}\n",
        "\\end{cases}\n"
      ],
      "metadata": {
        "id": "-siWSKzzjuC9"
      }
    },
    {
      "cell_type": "code",
      "execution_count": 1,
      "metadata": {
        "colab": {
          "base_uri": "https://localhost:8080/"
        },
        "id": "r6gXUwz_jmAk",
        "outputId": "6580182a-a439-49c8-ed84-a711d7cc863a"
      },
      "outputs": [
        {
          "output_type": "stream",
          "name": "stdout",
          "text": [
            "E(X) = 2.0000\n",
            "Var(X) = 2.0000\n"
          ]
        }
      ],
      "source": [
        "import sympy as sp\n",
        "\n",
        "# Definir la variable simbólica\n",
        "t = sp.symbols('t')\n",
        "\n",
        "# Definir la función generadora de momentos M(t)\n",
        "M_t = sp.exp(t) / (2 - sp.exp(t))\n",
        "\n",
        "# Calcular la primera derivada M'(t)\n",
        "M_t_deriv1 = sp.diff(M_t, t)\n",
        "\n",
        "# Calcular la segunda derivada M''(t)\n",
        "M_t_deriv2 = sp.diff(M_t_deriv1, t)\n",
        "\n",
        "# Evaluar en t = 0 para obtener E(X) y Var(X)\n",
        "E_X = M_t_deriv1.subs(t, 0)\n",
        "E_X2 = M_t_deriv2.subs(t, 0)\n",
        "\n",
        "Var_X = E_X2 - E_X**2\n",
        "\n",
        "# Mostrar resultados\n",
        "print(f\"E(X) = {E_X.evalf():.4f}\")\n",
        "print(f\"Var(X) = {Var_X.evalf():.4f}\")"
      ]
    },
    {
      "cell_type": "markdown",
      "source": [
        "Ejemplo 2.\n",
        "\n",
        "Se dice que la v.a $X$ tiene distribución Poisson de parámetro $\\lambda >0$ si su función de probabilidad está dada por\n",
        "\n",
        "f(x) =\n",
        "\\begin{cases}\n",
        "e^{-\\lambda}\\frac{\\lambda^x}{x!} & \\text{para } x=0,1,...\\\\\n",
        "0 & \\text{en otro caso.}\n",
        "\\end{cases}\n",
        "   \n",
        "Calcularemos a continuación su f.g.p."
      ],
      "metadata": {
        "id": "hqzpOWvzj7zA"
      }
    },
    {
      "cell_type": "code",
      "source": [
        "import sympy as sp\n",
        "\n",
        "# Definir las variables simbólicas\n",
        "t, λ = sp.symbols('t lambda')\n",
        "\n",
        "# Definir la función generadora de probabilidad G(t)\n",
        "G_t = sp.exp(λ * (t - 1))\n",
        "\n",
        "# Mostrar el resultado\n",
        "print(f\"G(t) = {G_t}\")\n"
      ],
      "metadata": {
        "colab": {
          "base_uri": "https://localhost:8080/"
        },
        "id": "1r00tLL-j-45",
        "outputId": "efff1931-9564-46b2-ba3a-0457bda3bac9"
      },
      "execution_count": 3,
      "outputs": [
        {
          "output_type": "stream",
          "name": "stdout",
          "text": [
            "G(t) = exp(lambda*(t - 1))\n"
          ]
        }
      ]
    }
  ]
}