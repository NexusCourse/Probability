{
  "nbformat": 4,
  "nbformat_minor": 0,
  "metadata": {
    "colab": {
      "provenance": []
    },
    "kernelspec": {
      "name": "python3",
      "display_name": "Python 3"
    },
    "language_info": {
      "name": "python"
    }
  },
  "cells": [
    {
      "cell_type": "markdown",
      "source": [
        "# Esperanza matemática\n",
        "Curso 2 (Probabilidad II)\n",
        "Parte 1 / Lección 3"
      ],
      "metadata": {
        "id": "gEUiEOYZh-7Z"
      }
    },
    {
      "cell_type": "markdown",
      "source": [
        "Ejercicio 1.\n",
        "\n",
        "Sea $X$ una variable aleatoria discreta con función de probabilidad dada por la siguiente tabla:\n",
        "         \\[\n",
        "\\begin{array}{|c|c|c|c|c|}\n",
        "\\hline\n",
        "x & -1 & 0 & 1 & 2 \\\\ \\hline\n",
        "f(x) & \\frac{1}{8} & \\frac{4}{8} & \\frac{1}{8} & \\frac{2}{8} \\\\ \\hline\n",
        "\\end{array}\n",
        "\\]\n",
        "        \n",
        "Calcula la esperanza de $X$."
      ],
      "metadata": {
        "id": "KF_KRxDSiKnR"
      }
    },
    {
      "cell_type": "code",
      "execution_count": 1,
      "metadata": {
        "colab": {
          "base_uri": "https://localhost:8080/"
        },
        "id": "9Br5qSOKh5s8",
        "outputId": "2dc71bf5-3ad9-4cea-a8f2-fb6adb0f3bc4"
      },
      "outputs": [
        {
          "output_type": "stream",
          "name": "stdout",
          "text": [
            "Valores de x: [-1, 0, 1, 2]\n",
            "Probabilidades: [0.125, 0.5, 0.125, 0.25]\n",
            "Esperanza matemática E[X]: 0.5\n"
          ]
        }
      ],
      "source": [
        "# Definimos los valores de x y sus probabilidades f(x)\n",
        "x_values = [-1, 0, 1, 2]  # Valores de x\n",
        "probabilities = [1/8, 4/8, 1/8, 2/8]  # Probabilidades f(x)\n",
        "\n",
        "# Calculamos la esperanza matemática\n",
        "expected_value = sum(x * p for x, p in zip(x_values, probabilities))\n",
        "\n",
        "# Mostramos los resultados\n",
        "print(\"Valores de x:\", x_values)\n",
        "print(\"Probabilidades:\", probabilities)\n",
        "print(\"Esperanza matemática E[X]:\", expected_value)"
      ]
    },
    {
      "cell_type": "markdown",
      "source": [
        "Ejercicio 2.\n",
        "Considere la variable aleatoria continua $X$ con función de densidad\n",
        "\n",
        "f(x) =\\begin{cases}\n",
        "2x & \\text{si } x \\in(0,1)\\\\\n",
        "0 & \\text{en otro caso.}\n",
        "\\end{cases}\n",
        "\n",
        "Calcula la esperanza de $X$."
      ],
      "metadata": {
        "id": "pMKqS2hUibMu"
      }
    },
    {
      "cell_type": "code",
      "source": [
        "from scipy.integrate import quad\n",
        "\n",
        "# Definimos la función de densidad f(x)\n",
        "def f_x(x):\n",
        "    return 2 * x if 0 < x < 1 else 0\n",
        "\n",
        "# Definimos la función x * f(x)\n",
        "def x_fx(x):\n",
        "    return x * f_x(x)\n",
        "\n",
        "# Calculamos la esperanza matemática como una integral definida\n",
        "expected_value, _ = quad(x_fx, 0, 1)  # Integral de 0 a 1\n",
        "print(\"Esperanza matemática E[X]:\", expected_value)"
      ],
      "metadata": {
        "colab": {
          "base_uri": "https://localhost:8080/"
        },
        "id": "w2vZzq2EimLH",
        "outputId": "0357c91c-6da8-4853-f501-f53037410c8b"
      },
      "execution_count": 3,
      "outputs": [
        {
          "output_type": "stream",
          "name": "stdout",
          "text": [
            "Esperanza matemática E[X]: 0.6666666666666667\n"
          ]
        }
      ]
    },
    {
      "cell_type": "markdown",
      "source": [
        "Ejercicio 3.\n",
        "\n",
        "Sea $X$ una variable aleatoria discreta con función de probabilidad dada por la siguiente tabla:\n",
        "\\[\n",
        "\\begin{array}{|c|c|c|c|c|c|}\n",
        "\\hline\n",
        "x & -2 & -1 & 0 & 1 & 2 \\\\ \\hline\n",
        "f(x) & \\frac{2}{8} & \\frac{1}{8} & \\frac{2}{8} & \\frac{1}{8} & \\frac{2}{8}\\\\ \\hline\n",
        "\\end{array}\n",
        "\\]\n",
        "\n",
        "Calcula la esperanza de la variable aleatoria $Y= X^2$"
      ],
      "metadata": {
        "id": "AFZyfOHMirVX"
      }
    },
    {
      "cell_type": "code",
      "source": [
        "# Valores de X y sus probabilidades asociadas f_X(x)\n",
        "x_values = [-2, -1, 0, 1, 2]  # Valores de X\n",
        "probabilities = [2/8, 1/8, 2/8, 1/8, 2/8]  # Probabilidades f_X(x)\n",
        "\n",
        "# Calculamos Y = X^2\n",
        "y_values = [x**2 for x in x_values]  # Valores de Y = X^2\n",
        "\n",
        "# Calculamos la esperanza matemática de Y\n",
        "expected_value_y = sum(y * p for y, p in zip(y_values, probabilities))\n",
        "\n",
        "# Mostramos los resultados\n",
        "print(\"Valores de X:\", x_values)\n",
        "print(\"Probabilidades f_X(x):\", probabilities)\n",
        "print(\"Valores de Y = X^2:\", y_values)\n",
        "print(\"Esperanza matemática E[Y]:\", expected_value_y)"
      ],
      "metadata": {
        "colab": {
          "base_uri": "https://localhost:8080/"
        },
        "id": "9DDc2JHQi3q4",
        "outputId": "9e051511-e004-4f14-c132-a06ae40c1dca"
      },
      "execution_count": 4,
      "outputs": [
        {
          "output_type": "stream",
          "name": "stdout",
          "text": [
            "Valores de X: [-2, -1, 0, 1, 2]\n",
            "Probabilidades f_X(x): [0.25, 0.125, 0.25, 0.125, 0.25]\n",
            "Valores de Y = X^2: [4, 1, 0, 1, 4]\n",
            "Esperanza matemática E[Y]: 2.25\n"
          ]
        }
      ]
    },
    {
      "cell_type": "markdown",
      "source": [
        "Ejercicio 4.\n",
        "Calcula $E[X^2]$ en donde $X$ es la variable aleatoria continua con función de densidad\n",
        "\n",
        "f(x) =\n",
        "\\begin{cases}\n",
        "1 & \\text{si } x \\in(0,1)\\\\\n",
        "0 & \\text{en otro caso.}\n",
        "\\end{cases}\n",
        ""
      ],
      "metadata": {
        "id": "fEIPKy6Ei-XS"
      }
    },
    {
      "cell_type": "code",
      "source": [
        "import scipy.integrate as spi\n",
        "\n",
        "# Definimos la función de densidad de probabilidad\n",
        "def integrand(x):\n",
        "    return x**2  # Dado que f(x) = 1 para 0 < x < 1\n",
        "\n",
        "# Calculamos la integral en el intervalo [0,1]\n",
        "expected_value, error = spi.quad(integrand, 0, 1)\n",
        "\n",
        "print(f\"El valor esperado E(X^2) es aproximadamente: {expected_value:.4f}\")"
      ],
      "metadata": {
        "colab": {
          "base_uri": "https://localhost:8080/"
        },
        "id": "0Wk_GJGGjCzk",
        "outputId": "827444ff-dc29-4c5f-bed6-abd6ef3cf4c5"
      },
      "execution_count": 6,
      "outputs": [
        {
          "output_type": "stream",
          "name": "stdout",
          "text": [
            "El valor esperado E(X^2) es aproximadamente: 0.3333\n"
          ]
        }
      ]
    },
    {
      "cell_type": "markdown",
      "source": [
        "Ejemplo 5.\n",
        "\n",
        "Calcula la varianza de la variable aleatoria discreta X con función de probabilidad dada por la siguiente tabla\n",
        "  \n",
        "\\begin{array}{|c|c|c|c|c|}\n",
        "\\hline\n",
        "x & -1 & 0 & 1 & 2 \\\\ \\hline\n",
        "f(x) & \\frac{1}{8} & \\frac{4}{8} & \\frac{1}{8} & \\frac{2}{8} \\\\ \\hline\n",
        "\\end{array}\n"
      ],
      "metadata": {
        "id": "F_vcwkr_jLSY"
      }
    },
    {
      "cell_type": "code",
      "source": [
        "import numpy as np\n",
        "\n",
        "# Definir los valores de X y sus probabilidades\n",
        "x_values = np.array([-1, 0, 1, 2])\n",
        "probabilities = np.array([1/8, 4/8, 1/8, 2/8])\n",
        "\n",
        "# Calcular la esperanza E(X)\n",
        "expected_X = np.sum(x_values * probabilities)\n",
        "\n",
        "# Calcular E(X^2)\n",
        "expected_X2 = np.sum((x_values**2) * probabilities)\n",
        "\n",
        "# Calcular la varianza Var(X)\n",
        "variance_X = expected_X2 - expected_X**2\n",
        "\n",
        "# Mostrar resultados\n",
        "print(f\"E(X) = {expected_X:.4f}\")\n",
        "print(f\"E(X^2) = {expected_X2:.4f}\")\n",
        "print(f\"Var(X) = {variance_X:.4f}\")"
      ],
      "metadata": {
        "colab": {
          "base_uri": "https://localhost:8080/"
        },
        "id": "L8e2muz8jRAI",
        "outputId": "df84ec5b-d63a-4128-b378-37f8530c4d17"
      },
      "execution_count": 7,
      "outputs": [
        {
          "output_type": "stream",
          "name": "stdout",
          "text": [
            "E(X) = 0.5000\n",
            "E(X^2) = 1.2500\n",
            "Var(X) = 1.0000\n"
          ]
        }
      ]
    }
  ]
}