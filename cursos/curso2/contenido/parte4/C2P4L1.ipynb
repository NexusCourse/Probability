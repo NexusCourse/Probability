{
  "nbformat": 4,
  "nbformat_minor": 0,
  "metadata": {
    "colab": {
      "provenance": []
    },
    "kernelspec": {
      "name": "python3",
      "display_name": "Python 3"
    },
    "language_info": {
      "name": "python"
    }
  },
  "cells": [
    {
      "cell_type": "markdown",
      "source": [
        "###Ejercicio 1\n",
        "Supón que $X \\sim \\mathcal{N}(5, 2^2)$, es decir,  $X$ tiene una distribución normal con media 5 y varianza 4. Si $Y = 3X + 1$, determina la distribución de $Y$, especificando su media y varianza.\n"
      ],
      "metadata": {
        "id": "pTpSRglXxicc"
      }
    },
    {
      "cell_type": "markdown",
      "source": [
        "Solución:\n",
        "Sea $ X \\sim \\mathcal{N}(5, 2^2) $. Definimos la transformación:\n",
        "\n",
        "$$Y = 3X + 1$$\n",
        "\n",
        "Si una variable aleatoria $ X \\sim \\mathcal{N}(\\mu_X, \\sigma_X^2) $, y aplicamos la transformación lineal $ Y = aX + b $, entonces:\n",
        "\n",
        "$$E[Y] = aE[X] + b = 3(5) + 1 = 16$$\n",
        "\n",
        "$$\\text{Var}(Y) = a^2 \\text{Var}(X) = 3^2 (4) = 36$$\n",
        "\n",
        "Por lo tanto, la distribución de $ Y$ es:\n",
        "\n",
        "$$Y \\sim \\mathcal{N}(16, 36)$$ \\\\\n"
      ],
      "metadata": {
        "id": "OYSfQaKGxier"
      }
    },
    {
      "cell_type": "code",
      "source": [
        "#Código\n",
        "\n",
        "import numpy as np\n",
        "\n",
        "# Parámetros de X\n",
        "mu_X = 5\n",
        "sigma_X = 2\n",
        "\n",
        "# Parámetros de la transformación\n",
        "a = 3\n",
        "b = 1\n",
        "\n",
        "# Media y varianza de Y\n",
        "mu_Y = a * mu_X + b\n",
        "sigma_Y = a * sigma_X\n",
        "\n",
        "mu_Y, sigma_Y\n",
        "\n",
        ""
      ],
      "metadata": {
        "colab": {
          "base_uri": "https://localhost:8080/"
        },
        "id": "2GBP-0tI3tG9",
        "outputId": "ac964c35-81d6-46ca-faad-db8d6992987e"
      },
      "execution_count": 1,
      "outputs": [
        {
          "output_type": "execute_result",
          "data": {
            "text/plain": [
              "(16, 6)"
            ]
          },
          "metadata": {},
          "execution_count": 1
        }
      ]
    },
    {
      "cell_type": "markdown",
      "source": [
        "###Ejercicio 2\n",
        "Sea $X \\sim \\mathcal{U}(0, 1)$, es decir, $ X $ tiene una distribución uniforme en el intervalo $[0, 1] $.\n",
        "Considera la transformación $ Y = \\sqrt{X} $.\n",
        "Encuentra la función de densidad de probabilidad de $ Y $, es decir, determina $ f_Y(y) $.\n",
        "        \n",
        "\n",
        "\n",
        "\n"
      ],
      "metadata": {
        "id": "XIYpd3uRxilm"
      }
    },
    {
      "cell_type": "markdown",
      "source": [
        "Solución:\n",
        "\n",
        "Sea $ X \\sim \\mathcal{U}(0,1) $ y definimos la transformación $ Y = \\sqrt{X} $.  \n",
        "La densidad de $ X $ es:\n",
        "\n",
        "$$f_X(x) = 1, \\quad 0 \\leq x \\leq 1$$\n",
        "Despejamos $ X$ en términos de $ Y $:\n",
        "\n",
        "$$X = Y^2$$\n",
        "\n",
        "Aplicamos la fórmula de transformación de variables:\n",
        "\n",
        "$$f_Y(y) = f_X(g^{-1}(y)) \\left| \\frac{d}{dy} g^{-1}(y) \\right|$$\n",
        "\n",
        "Calculamos la derivada:\n",
        "$$\\frac{d}{dy} Y^2 = 2Y$$\n",
        "\n",
        "Sustituyendo:\n",
        "\n",
        "$$f_Y(y) = 1 \\cdot \\left| 2y \\right| = 2y, \\quad 0 \\leq y \\leq 1$$\n",
        "\n",
        "Por lo tanto, la función de densidad de \\( Y \\) es:\n",
        "\n",
        "$$f_Y(y) = 2y, \\quad 0 \\leq y \\leq 1$$ \\\\"
      ],
      "metadata": {
        "id": "vg4r82nZ3fEq"
      }
    },
    {
      "cell_type": "code",
      "source": [
        "#Código\n",
        "\n",
        "import sympy as sp\n",
        "\n",
        "# Definimos la variable X\n",
        "x = sp.symbols('x')\n",
        "\n",
        "# Función de densidad de X (uniforme en [0, 1])\n",
        "f_X = 1\n",
        "\n",
        "# Transformación Y = sqrt(X)\n",
        "y = sp.sqrt(x)\n",
        "\n",
        "# Derivada de la inversa de la transformación\n",
        "dy_dx = sp.diff(y, x)\n",
        "\n",
        "# Calculamos la densidad de Y usando la fórmula de transformación\n",
        "f_Y = f_X * abs(dy_dx.subs(x, y**2))\n",
        "\n",
        "f_Y.simplify()\n"
      ],
      "metadata": {
        "colab": {
          "base_uri": "https://localhost:8080/",
          "height": 55
        },
        "id": "yuAX5CE33fuo",
        "outputId": "621f0da5-a601-4dba-8d1a-58385bf8d689"
      },
      "execution_count": 2,
      "outputs": [
        {
          "output_type": "execute_result",
          "data": {
            "text/plain": [
              "1/(2*Abs(sqrt(x)))"
            ],
            "text/latex": "$\\displaystyle \\frac{1}{2 \\left|{\\sqrt{x}}\\right|}$"
          },
          "metadata": {},
          "execution_count": 2
        }
      ]
    },
    {
      "cell_type": "markdown",
      "source": [
        "###Ejercicio 3\n",
        "\n",
        "Sea $ X $ una variable aleatoria discreta con la siguiente distribución de probabilidad:\n",
        "$P(X = 1) = 0.2, \\quad P(X = 2) = 0.5, \\quad P(X = 3) = 0.3$\n",
        "Considera la transformación $Y = 2X + 1 $.\n",
        "Encuentra la distribución de probabilidad de $ Y $."
      ],
      "metadata": {
        "id": "N0QbA0hNxina"
      }
    },
    {
      "cell_type": "markdown",
      "source": [
        "Solución:\n",
        "\n",
        "Dada la variable discreta:\n",
        "\n",
        "$$P(X = 1) = 0.2, \\quad P(X = 2) = 0.5, \\quad P(X = 3) = 0.3$$\n",
        "\n",
        "Aplicamos la transformación $ Y = 2X + 1 $:\n",
        "\n",
        "$$Y = 2(1) + 1 = 3, \\quad Y = 2(2) + 1 = 5, \\quad Y = 2(3) + 1 = 7$$\n",
        "\n",
        "Asignamos las mismas probabilidades:\n",
        "\n",
        "$$P(Y = 3) = P(X = 1) = 0.2, \\quad P(Y = 5) = P(X = 2) = 0.5, \\quad P(Y = 7) = P(X = 3) = 0.3$$ \\\\"
      ],
      "metadata": {
        "id": "T4elmxgIxipZ"
      }
    },
    {
      "cell_type": "code",
      "source": [
        "#Código:\n",
        "\n",
        "# Distribución de probabilidad de X\n",
        "prob_X = {1: 0.2, 2: 0.5, 3: 0.3}\n",
        "\n",
        "# Transformación Y = 2X + 1\n",
        "prob_Y = {2 * x + 1: prob for x, prob in prob_X.items()}\n",
        "\n",
        "prob_Y\n"
      ],
      "metadata": {
        "colab": {
          "base_uri": "https://localhost:8080/"
        },
        "id": "0EAuyBhy3Pg9",
        "outputId": "6217131a-bbb9-4685-88db-092cf84ebd84"
      },
      "execution_count": 3,
      "outputs": [
        {
          "output_type": "execute_result",
          "data": {
            "text/plain": [
              "{3: 0.2, 5: 0.5, 7: 0.3}"
            ]
          },
          "metadata": {},
          "execution_count": 3
        }
      ]
    },
    {
      "cell_type": "markdown",
      "source": [
        "###Ejercicio 4\n",
        "Supón que $ X \\sim \\mathcal{E}(\\lambda) $, es decir, $ X $ sigue una distribución exponencial con parámetro $\\lambda = 1 $.\n",
        "Considera la transformación $Y = \\ln(X) $.\n",
        "Encuentra la función de densidad de probabilidad de $ Y $, es decir, determina $ f_Y(y) $.\n"
      ],
      "metadata": {
        "id": "4FDPLwpOxiro"
      }
    },
    {
      "cell_type": "markdown",
      "source": [
        "Solución:\n",
        "\n",
        "Sea $ X \\sim \\mathcal{E}(1) $, es decir, $ X $ tiene densidad:\n",
        "\n",
        "$$f_X(x) = e^{-x}, \\quad x \\geq 0$$\n",
        "\n",
        "Definimos la transformación $ Y = \\ln(X) $, despejamos:\n",
        "\n",
        "$$X = e^Y$$\n",
        "\n",
        "Usamos la fórmula de cambio de variable:\n",
        "\n",
        "$$f_Y(y) = f_X(e^y) \\left| \\frac{d}{dy} e^y \\right|$$\n",
        "\n",
        "Calculamos la derivada:\n",
        "\n",
        "$$\\frac{d}{dy} e^y = e^y$$\n",
        "\n",
        "Sustituyendo:\n",
        "\n",
        "$$f_Y(y) = e^{-e^y} \\cdot e^y = e^{y - e^y}, \\quad y \\in \\mathbb{R}$$ \\\\\n"
      ],
      "metadata": {
        "id": "4jNAvlCZxit1"
      }
    },
    {
      "cell_type": "code",
      "source": [
        "#Código:\n",
        "\n",
        "# Distribución de probabilidad de X\n",
        "prob_X = {1: 0.2, 2: 0.5, 3: 0.3}\n",
        "\n",
        "# Transformación Y = 2X + 1\n",
        "prob_Y = {2 * x + 1: prob for x, prob in prob_X.items()}\n",
        "\n",
        "prob_Y\n",
        "\n"
      ],
      "metadata": {
        "colab": {
          "base_uri": "https://localhost:8080/"
        },
        "id": "KEmnkQDU2nWe",
        "outputId": "e100f755-4615-43b8-ff11-f29b3367e237"
      },
      "execution_count": 4,
      "outputs": [
        {
          "output_type": "execute_result",
          "data": {
            "text/plain": [
              "{3: 0.2, 5: 0.5, 7: 0.3}"
            ]
          },
          "metadata": {},
          "execution_count": 4
        }
      ]
    },
    {
      "cell_type": "markdown",
      "source": [
        "###Ejercicio 5\n",
        "Dado que $ X \\sim \\mathcal{N}(0,1) $, usa la técnica de transformación inversa para generar variables aleatorias con una distribución normal estándar a partir de una distribución uniforme $ U \\sim \\mathcal{U}(0,1) $.\n",
        "            \n",
        "\n"
      ],
      "metadata": {
        "id": "9-L7c9aNxiwD"
      }
    },
    {
      "cell_type": "markdown",
      "source": [
        "Solución:\n",
        "\n",
        "Dado que $ X \\sim \\mathcal{N}(0,1) $, utilizamos la técnica de transformación inversa.  \n",
        "Si $ U \\sim \\mathcal{U}(0,1) $, aplicamos la función cuantil (inversa de la función de distribución acumulada normal $\\Phi $):\n",
        "\n",
        "$$X = \\Phi^{-1}(U)$$\n",
        "\n",
        "donde $ \\Phi^{-1} $ es la función probit:\n",
        "\n",
        "$$\\Phi^{-1}(p) = \\inf \\{ x \\in \\mathbb{R} \\mid \\Phi(x) \\geq p \\}$$\n",
        "\n",
        "Este método se basa en la propiedad de que la función de distribución acumulada de la normal estándar, $ \\Phi(x) $, es continua y estrictamente creciente, lo que permite invertirla para transformar valores de una distribución uniforme en valores con distribución normal.\n"
      ],
      "metadata": {
        "id": "tjxQtfs02be8"
      }
    },
    {
      "cell_type": "code",
      "source": [
        "#Código:\n",
        "\n",
        "import scipy.stats as stats\n",
        "\n",
        "# Generamos una variable uniforme\n",
        "U = np.random.uniform(0, 1, 1000)\n",
        "\n",
        "# Transformación inversa para obtener una variable normal estándar\n",
        "X_normal = stats.norm.ppf(U)\n",
        "\n",
        "# Visualizamos el histograma\n",
        "import matplotlib.pyplot as plt\n",
        "plt.hist(X_normal, bins=30, density=True)\n",
        "plt.title(\"Histograma de variable normal estándar generada\")\n",
        "plt.show()\n"
      ],
      "metadata": {
        "colab": {
          "base_uri": "https://localhost:8080/",
          "height": 453
        },
        "id": "3yT98dYp2XJU",
        "outputId": "9884713a-7d5d-4cf1-cbed-bd4f8b1f8168"
      },
      "execution_count": 5,
      "outputs": [
        {
          "output_type": "display_data",
          "data": {
            "text/plain": [
              "<Figure size 640x480 with 1 Axes>"
            ],
            "image/png": "[encoded data removed]"
          },
          "metadata": {}
        }
      ]
    }
  ]
}